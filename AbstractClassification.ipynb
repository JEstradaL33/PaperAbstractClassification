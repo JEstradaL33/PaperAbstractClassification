{
  "cells": [
    {
      "cell_type": "markdown",
      "source": [
        "**Data science project**\n",
        "\n",
        "Making medical papers abstracts easier to read."
      ],
      "metadata": {
        "id": "1LUoQ-xkrCyS"
      }
    },
    {
      "cell_type": "code",
      "source": [
        "!pip install keras_tuner"
      ],
      "metadata": {
        "colab": {
          "base_uri": "https://localhost:8080/"
        },
        "id": "PkrW_9_U_CEc",
        "outputId": "215ad872-dd27-4f1e-e360-5f2c39db2c31"
      },
      "execution_count": 1,
      "outputs": [
        {
          "output_type": "stream",
          "name": "stdout",
          "text": [
            "Looking in indexes: https://pypi.org/simple, https://us-python.pkg.dev/colab-wheels/public/simple/\n",
            "Collecting scikeras\n",
            "  Downloading scikeras-0.9.0-py3-none-any.whl (27 kB)\n",
            "Requirement already satisfied: importlib-metadata>=3 in /usr/local/lib/python3.7/dist-packages (from scikeras) (4.12.0)\n",
            "Requirement already satisfied: packaging>=0.21 in /usr/local/lib/python3.7/dist-packages (from scikeras) (21.3)\n",
            "Requirement already satisfied: scikit-learn>=1.0.0 in /usr/local/lib/python3.7/dist-packages (from scikeras) (1.0.2)\n",
            "Requirement already satisfied: zipp>=0.5 in /usr/local/lib/python3.7/dist-packages (from importlib-metadata>=3->scikeras) (3.8.1)\n",
            "Requirement already satisfied: typing-extensions>=3.6.4 in /usr/local/lib/python3.7/dist-packages (from importlib-metadata>=3->scikeras) (4.1.1)\n",
            "Requirement already satisfied: pyparsing!=3.0.5,>=2.0.2 in /usr/local/lib/python3.7/dist-packages (from packaging>=0.21->scikeras) (3.0.9)\n",
            "Requirement already satisfied: joblib>=0.11 in /usr/local/lib/python3.7/dist-packages (from scikit-learn>=1.0.0->scikeras) (1.1.0)\n",
            "Requirement already satisfied: scipy>=1.1.0 in /usr/local/lib/python3.7/dist-packages (from scikit-learn>=1.0.0->scikeras) (1.7.3)\n",
            "Requirement already satisfied: numpy>=1.14.6 in /usr/local/lib/python3.7/dist-packages (from scikit-learn>=1.0.0->scikeras) (1.21.6)\n",
            "Requirement already satisfied: threadpoolctl>=2.0.0 in /usr/local/lib/python3.7/dist-packages (from scikit-learn>=1.0.0->scikeras) (3.1.0)\n",
            "Installing collected packages: scikeras\n",
            "Successfully installed scikeras-0.9.0\n"
          ]
        }
      ]
    },
    {
      "cell_type": "code",
      "source": [
        "from sklearn.metrics import accuracy_score, precision_recall_fscore_support\n",
        "import datetime\n",
        "import tensorflow_hub as hub"
      ],
      "metadata": {
        "id": "cbSgKiS0jg8m"
      },
      "execution_count": 2,
      "outputs": []
    },
    {
      "cell_type": "markdown",
      "source": [
        "Helper functions"
      ],
      "metadata": {
        "id": "fkUBE7j80cIv"
      }
    },
    {
      "cell_type": "code",
      "source": [
        "def create_tensorboard_callback(dir_name, experiment_name):\n",
        "  return tf.keras.callbacks.TensorBoard(dir_name + '/' + experiment_name + '/' + datetime.datetime.now().strftime('%Y%m%d %H%M%S'))"
      ],
      "metadata": {
        "id": "ERo15eUJ5mNo"
      },
      "execution_count": 3,
      "outputs": []
    },
    {
      "cell_type": "code",
      "source": [
        "def preprocess_text_data(document):\n",
        "\n",
        "  \"\"\"\n",
        "  Receives a corpus of text and preprocesses the data.\n",
        "  Returns a pd.DataFrame with the following columns:\n",
        "    - line_number: the number of the line in the abstract\n",
        "    - total_lines: total number of lines in the abstract\n",
        "    - target: class the line belongs to\n",
        "    - text: text in line\n",
        "  \"\"\"\n",
        "\n",
        "  abstract_lines = ''\n",
        "  output_list = []\n",
        "\n",
        "  for line in document:\n",
        "    if line.startswith(\"###\"):\n",
        "      abstract_lines = ''\n",
        "    elif line.isspace():\n",
        "      split_text = abstract_lines.splitlines()\n",
        "      number_of_lines = len(split_text)\n",
        "      for i, ab_line in enumerate(split_text):\n",
        "        ab_line_dict = {}\n",
        "        ab_line_dict['line_number'] = i + 1\n",
        "        ab_line_dict['total_lines'] = number_of_lines\n",
        "        ab_line_dict['target'] = ab_line.split('\\t')[0]\n",
        "        ab_line_dict['text'] = ab_line.split('\\t')[1]\n",
        "        output_list.append(ab_line_dict)\n",
        "    else:\n",
        "      abstract_lines += line\n",
        "  \n",
        "  return output_list"
      ],
      "metadata": {
        "id": "ax4-01n7v153"
      },
      "execution_count": 4,
      "outputs": []
    },
    {
      "cell_type": "code",
      "source": [
        "def calculate_results(y_true, y_pred):\n",
        "  \"\"\"\n",
        "  Calculates model accuracy, precision, recall and f1 score of a binary classification model.\n",
        "  Args:\n",
        "      y_true: true labels in the form of a 1D array\n",
        "      y_pred: predicted labels in the form of a 1D array\n",
        "  Returns a dictionary of accuracy, precision, recall, f1-score.\n",
        "  \"\"\"\n",
        "  # Calculate model accuracy\n",
        "  model_accuracy = accuracy_score(y_true, y_pred) * 100\n",
        "  # Calculate model precision, recall and f1 score using \"weighted average\n",
        "  model_precision, model_recall, model_f1, _ = precision_recall_fscore_support(y_true, y_pred, average=\"weighted\")\n",
        "  model_results = {\"accuracy\": model_accuracy,\n",
        "                  \"precision\": model_precision,\n",
        "                  \"recall\": model_recall,\n",
        "                  \"f1\": model_f1}\n",
        "  return model_results"
      ],
      "metadata": {
        "id": "r0uLAKn9q6fr"
      },
      "execution_count": 5,
      "outputs": []
    },
    {
      "cell_type": "markdown",
      "source": [
        "**1. Problem definition**\n",
        "\n",
        "Abstracts are concise summaries of research papers. Text in an abstract can generally be categorized in one of the following:\n",
        "\n",
        "1.   Background\n",
        "2.   Objective\n",
        "3.   Methods\n",
        "4.   Results\n",
        "5.   Conclusions\n",
        "\n",
        "This project aims to partly replicate the 2017 paper https://arxiv.org/abs/1710.06071, in which the authors used NLP methods to classify lines in an abstract in one of the five categories, making it easier to read.\n",
        "\n"
      ],
      "metadata": {
        "id": "GBmyVpKCqxUX"
      }
    },
    {
      "cell_type": "markdown",
      "source": [
        "**2. Determining the necessary data**\n",
        "\n",
        "To replicate the paper, we'll need the dataset that the authors prepared and worked on. It can be found on the following github repository: https://github.com/Franck-Dernoncourt/pubmed-rct.git.\n",
        "\n",
        "There are four datasets:\n",
        "\n",
        "\n",
        "\n",
        "1.   Complete dataset with 200,000 instances\n",
        "2.   Sample dataset with 20,000 instances\n",
        "\n",
        "Both datasets come in raw format and with numeric characters replaced with the at sign.\n"
      ],
      "metadata": {
        "id": "zULncMToss99"
      }
    },
    {
      "cell_type": "markdown",
      "source": [
        "**3. Getting/Inspecting the data**\n",
        "\n",
        "We'll use the 20k dataset. "
      ],
      "metadata": {
        "id": "PsLC7TGftB_o"
      }
    },
    {
      "cell_type": "code",
      "source": [
        "!git clone https://github.com/Franck-Dernoncourt/pubmed-rct.git"
      ],
      "metadata": {
        "colab": {
          "base_uri": "https://localhost:8080/"
        },
        "id": "nZmSA-bPtGlk",
        "outputId": "e822ef98-c0f1-4d9c-bd92-27cb9faa72f3"
      },
      "execution_count": 6,
      "outputs": [
        {
          "output_type": "stream",
          "name": "stdout",
          "text": [
            "Cloning into 'pubmed-rct'...\n",
            "remote: Enumerating objects: 33, done.\u001b[K\n",
            "remote: Counting objects: 100% (8/8), done.\u001b[K\n",
            "remote: Compressing objects: 100% (3/3), done.\u001b[K\n",
            "remote: Total 33 (delta 5), reused 5 (delta 5), pack-reused 25\u001b[K\n",
            "Unpacking objects: 100% (33/33), done.\n"
          ]
        }
      ]
    },
    {
      "cell_type": "code",
      "execution_count": 7,
      "metadata": {
        "id": "R__mYz9uPLCS"
      },
      "outputs": [],
      "source": [
        "def read_file(filepath):\n",
        "  with open(filepath, 'r') as read:\n",
        "    return read.readlines()"
      ]
    },
    {
      "cell_type": "code",
      "source": [
        "root_dir_20k = '/content/pubmed-rct/PubMed_20k_RCT_numbers_replaced_with_at_sign'\n",
        "\n",
        "train = read_file(root_dir_20k + '/train.txt')\n",
        "val = read_file(root_dir_20k + '/dev.txt')\n",
        "test = read_file(root_dir_20k + '/test.txt')"
      ],
      "metadata": {
        "id": "iIFw6FTYk6Zi"
      },
      "execution_count": 8,
      "outputs": []
    },
    {
      "cell_type": "code",
      "source": [
        "total_instances = len(train) + len(val) + len(test)\n",
        "print(\"Instances in training dataset: {}, {:.1%} of total\".format(len(train), len(train) / total_instances))\n",
        "print(\"Instances in validation dataset: {}, {:.1%} of total\".format(len(val), len(val) / total_instances))\n",
        "print(\"Instances in testing dataset: {}, {:.1%} of total\".format(len(test), len(test) / total_instances))"
      ],
      "metadata": {
        "colab": {
          "base_uri": "https://localhost:8080/"
        },
        "id": "O2kq4_WQtpyn",
        "outputId": "f2d76d1a-2c17-4635-d0e7-0a8b918ac343"
      },
      "execution_count": 9,
      "outputs": [
        {
          "output_type": "stream",
          "name": "stdout",
          "text": [
            "Instances in training dataset: 210040, 74.9% of total\n",
            "Instances in validation dataset: 35212, 12.6% of total\n",
            "Instances in testing dataset: 35135, 12.5% of total\n"
          ]
        }
      ]
    },
    {
      "cell_type": "code",
      "source": [
        "train[:20]"
      ],
      "metadata": {
        "colab": {
          "base_uri": "https://localhost:8080/"
        },
        "id": "WXL_VVEetpwb",
        "outputId": "e98fd7d2-fdcf-4e5c-d1ae-1562e0d23a42"
      },
      "execution_count": 10,
      "outputs": [
        {
          "output_type": "execute_result",
          "data": {
            "text/plain": [
              "['###24293578\\n',\n",
              " 'OBJECTIVE\\tTo investigate the efficacy of @ weeks of daily low-dose oral prednisolone in improving pain , mobility , and systemic low-grade inflammation in the short term and whether the effect would be sustained at @ weeks in older adults with moderate to severe knee osteoarthritis ( OA ) .\\n',\n",
              " 'METHODS\\tA total of @ patients with primary knee OA were randomized @:@ ; @ received @ mg/day of prednisolone and @ received placebo for @ weeks .\\n',\n",
              " 'METHODS\\tOutcome measures included pain reduction and improvement in function scores and systemic inflammation markers .\\n',\n",
              " 'METHODS\\tPain was assessed using the visual analog pain scale ( @-@ mm ) .\\n',\n",
              " 'METHODS\\tSecondary outcome measures included the Western Ontario and McMaster Universities Osteoarthritis Index scores , patient global assessment ( PGA ) of the severity of knee OA , and @-min walk distance ( @MWD ) .\\n',\n",
              " 'METHODS\\tSerum levels of interleukin @ ( IL-@ ) , IL-@ , tumor necrosis factor ( TNF ) - , and high-sensitivity C-reactive protein ( hsCRP ) were measured .\\n',\n",
              " 'RESULTS\\tThere was a clinically relevant reduction in the intervention group compared to the placebo group for knee pain , physical function , PGA , and @MWD at @ weeks .\\n',\n",
              " 'RESULTS\\tThe mean difference between treatment arms ( @ % CI ) was @ ( @-@ @ ) , p < @ ; @ ( @-@ @ ) , p < @ ; @ ( @-@ @ ) , p < @ ; and @ ( @-@ @ ) , p < @ , respectively .\\n',\n",
              " 'RESULTS\\tFurther , there was a clinically relevant reduction in the serum levels of IL-@ , IL-@ , TNF - , and hsCRP at @ weeks in the intervention group when compared to the placebo group .\\n',\n",
              " 'RESULTS\\tThese differences remained significant at @ weeks .\\n',\n",
              " 'RESULTS\\tThe Outcome Measures in Rheumatology Clinical Trials-Osteoarthritis Research Society International responder rate was @ % in the intervention group and @ % in the placebo group ( p < @ ) .\\n',\n",
              " 'CONCLUSIONS\\tLow-dose oral prednisolone had both a short-term and a longer sustained effect resulting in less knee pain , better physical function , and attenuation of systemic inflammation in older patients with knee OA ( ClinicalTrials.gov identifier NCT@ ) .\\n',\n",
              " '\\n',\n",
              " '###24854809\\n',\n",
              " 'BACKGROUND\\tEmotional eating is associated with overeating and the development of obesity .\\n',\n",
              " 'BACKGROUND\\tYet , empirical evidence for individual ( trait ) differences in emotional eating and cognitive mechanisms that contribute to eating during sad mood remain equivocal .\\n',\n",
              " 'OBJECTIVE\\tThe aim of this study was to test if attention bias for food moderates the effect of self-reported emotional eating during sad mood ( vs neutral mood ) on actual food intake .\\n',\n",
              " 'OBJECTIVE\\tIt was expected that emotional eating is predictive of elevated attention for food and higher food intake after an experimentally induced sad mood and that attentional maintenance on food predicts food intake during a sad versus a neutral mood .\\n',\n",
              " 'METHODS\\tParticipants ( N = @ ) were randomly assigned to one of the two experimental mood induction conditions ( sad/neutral ) .\\n']"
            ]
          },
          "metadata": {},
          "execution_count": 10
        }
      ]
    },
    {
      "cell_type": "markdown",
      "source": [
        "Strings that start with \"###\" mark the beginning of a new article. Lines in each article start with the class they belong to and the text separated by the \"/t\" characters. The end of the article is denoted with \"\\n\". Every line ends with \"\\n\", indicating the beginning of a new line.\n",
        "\n",
        "This is important to keep in mind when preprocessing and preparing the data to feed to a model."
      ],
      "metadata": {
        "id": "jgobWVIItpuO"
      }
    },
    {
      "cell_type": "markdown",
      "source": [
        "**4. Data preparation and EDA**\n",
        "\n",
        "Let's prepare the data to make it easier to understand"
      ],
      "metadata": {
        "id": "KxmQN1eevnwA"
      }
    },
    {
      "cell_type": "code",
      "source": [
        "import pandas as pd\n",
        "import numpy as np\n",
        "import matplotlib.pyplot as plt\n",
        "import seaborn as sns"
      ],
      "metadata": {
        "id": "bC7cCaZwv0XO"
      },
      "execution_count": 11,
      "outputs": []
    },
    {
      "cell_type": "code",
      "source": [
        "train_df = pd.DataFrame(preprocess_text_data(train))\n",
        "val_df = pd.DataFrame(preprocess_text_data(val))\n",
        "test_df = pd.DataFrame(preprocess_text_data(test))"
      ],
      "metadata": {
        "id": "eqg4Ye4gl7uY"
      },
      "execution_count": 12,
      "outputs": []
    },
    {
      "cell_type": "code",
      "source": [
        "train_df.head()"
      ],
      "metadata": {
        "colab": {
          "base_uri": "https://localhost:8080/",
          "height": 206
        },
        "id": "XrecU3_8wPkZ",
        "outputId": "fc18086b-d9a2-45ce-c88f-675fa92b4161"
      },
      "execution_count": 13,
      "outputs": [
        {
          "output_type": "execute_result",
          "data": {
            "text/plain": [
              "   line_number  total_lines     target  \\\n",
              "0            1           12  OBJECTIVE   \n",
              "1            2           12    METHODS   \n",
              "2            3           12    METHODS   \n",
              "3            4           12    METHODS   \n",
              "4            5           12    METHODS   \n",
              "\n",
              "                                                text  \n",
              "0  To investigate the efficacy of @ weeks of dail...  \n",
              "1  A total of @ patients with primary knee OA wer...  \n",
              "2  Outcome measures included pain reduction and i...  \n",
              "3  Pain was assessed using the visual analog pain...  \n",
              "4  Secondary outcome measures included the Wester...  "
            ],
            "text/html": [
              "\n",
              "  <div id=\"df-a09facb1-86a7-4377-8856-00ca14e83ee9\">\n",
              "    <div class=\"colab-df-container\">\n",
              "      <div>\n",
              "<style scoped>\n",
              "    .dataframe tbody tr th:only-of-type {\n",
              "        vertical-align: middle;\n",
              "    }\n",
              "\n",
              "    .dataframe tbody tr th {\n",
              "        vertical-align: top;\n",
              "    }\n",
              "\n",
              "    .dataframe thead th {\n",
              "        text-align: right;\n",
              "    }\n",
              "</style>\n",
              "<table border=\"1\" class=\"dataframe\">\n",
              "  <thead>\n",
              "    <tr style=\"text-align: right;\">\n",
              "      <th></th>\n",
              "      <th>line_number</th>\n",
              "      <th>total_lines</th>\n",
              "      <th>target</th>\n",
              "      <th>text</th>\n",
              "    </tr>\n",
              "  </thead>\n",
              "  <tbody>\n",
              "    <tr>\n",
              "      <th>0</th>\n",
              "      <td>1</td>\n",
              "      <td>12</td>\n",
              "      <td>OBJECTIVE</td>\n",
              "      <td>To investigate the efficacy of @ weeks of dail...</td>\n",
              "    </tr>\n",
              "    <tr>\n",
              "      <th>1</th>\n",
              "      <td>2</td>\n",
              "      <td>12</td>\n",
              "      <td>METHODS</td>\n",
              "      <td>A total of @ patients with primary knee OA wer...</td>\n",
              "    </tr>\n",
              "    <tr>\n",
              "      <th>2</th>\n",
              "      <td>3</td>\n",
              "      <td>12</td>\n",
              "      <td>METHODS</td>\n",
              "      <td>Outcome measures included pain reduction and i...</td>\n",
              "    </tr>\n",
              "    <tr>\n",
              "      <th>3</th>\n",
              "      <td>4</td>\n",
              "      <td>12</td>\n",
              "      <td>METHODS</td>\n",
              "      <td>Pain was assessed using the visual analog pain...</td>\n",
              "    </tr>\n",
              "    <tr>\n",
              "      <th>4</th>\n",
              "      <td>5</td>\n",
              "      <td>12</td>\n",
              "      <td>METHODS</td>\n",
              "      <td>Secondary outcome measures included the Wester...</td>\n",
              "    </tr>\n",
              "  </tbody>\n",
              "</table>\n",
              "</div>\n",
              "      <button class=\"colab-df-convert\" onclick=\"convertToInteractive('df-a09facb1-86a7-4377-8856-00ca14e83ee9')\"\n",
              "              title=\"Convert this dataframe to an interactive table.\"\n",
              "              style=\"display:none;\">\n",
              "        \n",
              "  <svg xmlns=\"http://www.w3.org/2000/svg\" height=\"24px\"viewBox=\"0 0 24 24\"\n",
              "       width=\"24px\">\n",
              "    <path d=\"M0 0h24v24H0V0z\" fill=\"none\"/>\n",
              "    <path d=\"M18.56 5.44l.94 2.06.94-2.06 2.06-.94-2.06-.94-.94-2.06-.94 2.06-2.06.94zm-11 1L8.5 8.5l.94-2.06 2.06-.94-2.06-.94L8.5 2.5l-.94 2.06-2.06.94zm10 10l.94 2.06.94-2.06 2.06-.94-2.06-.94-.94-2.06-.94 2.06-2.06.94z\"/><path d=\"M17.41 7.96l-1.37-1.37c-.4-.4-.92-.59-1.43-.59-.52 0-1.04.2-1.43.59L10.3 9.45l-7.72 7.72c-.78.78-.78 2.05 0 2.83L4 21.41c.39.39.9.59 1.41.59.51 0 1.02-.2 1.41-.59l7.78-7.78 2.81-2.81c.8-.78.8-2.07 0-2.86zM5.41 20L4 18.59l7.72-7.72 1.47 1.35L5.41 20z\"/>\n",
              "  </svg>\n",
              "      </button>\n",
              "      \n",
              "  <style>\n",
              "    .colab-df-container {\n",
              "      display:flex;\n",
              "      flex-wrap:wrap;\n",
              "      gap: 12px;\n",
              "    }\n",
              "\n",
              "    .colab-df-convert {\n",
              "      background-color: #E8F0FE;\n",
              "      border: none;\n",
              "      border-radius: 50%;\n",
              "      cursor: pointer;\n",
              "      display: none;\n",
              "      fill: #1967D2;\n",
              "      height: 32px;\n",
              "      padding: 0 0 0 0;\n",
              "      width: 32px;\n",
              "    }\n",
              "\n",
              "    .colab-df-convert:hover {\n",
              "      background-color: #E2EBFA;\n",
              "      box-shadow: 0px 1px 2px rgba(60, 64, 67, 0.3), 0px 1px 3px 1px rgba(60, 64, 67, 0.15);\n",
              "      fill: #174EA6;\n",
              "    }\n",
              "\n",
              "    [theme=dark] .colab-df-convert {\n",
              "      background-color: #3B4455;\n",
              "      fill: #D2E3FC;\n",
              "    }\n",
              "\n",
              "    [theme=dark] .colab-df-convert:hover {\n",
              "      background-color: #434B5C;\n",
              "      box-shadow: 0px 1px 3px 1px rgba(0, 0, 0, 0.15);\n",
              "      filter: drop-shadow(0px 1px 2px rgba(0, 0, 0, 0.3));\n",
              "      fill: #FFFFFF;\n",
              "    }\n",
              "  </style>\n",
              "\n",
              "      <script>\n",
              "        const buttonEl =\n",
              "          document.querySelector('#df-a09facb1-86a7-4377-8856-00ca14e83ee9 button.colab-df-convert');\n",
              "        buttonEl.style.display =\n",
              "          google.colab.kernel.accessAllowed ? 'block' : 'none';\n",
              "\n",
              "        async function convertToInteractive(key) {\n",
              "          const element = document.querySelector('#df-a09facb1-86a7-4377-8856-00ca14e83ee9');\n",
              "          const dataTable =\n",
              "            await google.colab.kernel.invokeFunction('convertToInteractive',\n",
              "                                                     [key], {});\n",
              "          if (!dataTable) return;\n",
              "\n",
              "          const docLinkHtml = 'Like what you see? Visit the ' +\n",
              "            '<a target=\"_blank\" href=https://colab.research.google.com/notebooks/data_table.ipynb>data table notebook</a>'\n",
              "            + ' to learn more about interactive tables.';\n",
              "          element.innerHTML = '';\n",
              "          dataTable['output_type'] = 'display_data';\n",
              "          await google.colab.output.renderOutput(dataTable, element);\n",
              "          const docLink = document.createElement('div');\n",
              "          docLink.innerHTML = docLinkHtml;\n",
              "          element.appendChild(docLink);\n",
              "        }\n",
              "      </script>\n",
              "    </div>\n",
              "  </div>\n",
              "  "
            ]
          },
          "metadata": {},
          "execution_count": 13
        }
      ]
    },
    {
      "cell_type": "markdown",
      "source": [
        "90% of the papers have less than 18 lines"
      ],
      "metadata": {
        "id": "J14ySmsowdTs"
      }
    },
    {
      "cell_type": "code",
      "source": [
        "# Check the distribution of the total_lines feature\n",
        "train_df['total_lines'].describe(percentiles=[x/100 for x in np.arange(10, 100, 10)])"
      ],
      "metadata": {
        "colab": {
          "base_uri": "https://localhost:8080/"
        },
        "id": "g-BLW5KkwWEe",
        "outputId": "8c59fe8f-d1cb-46f9-be25-d8ba4fbf295e"
      },
      "execution_count": 14,
      "outputs": [
        {
          "output_type": "execute_result",
          "data": {
            "text/plain": [
              "count    180040.000000\n",
              "mean         12.789136\n",
              "std           3.236095\n",
              "min           4.000000\n",
              "10%           9.000000\n",
              "20%          10.000000\n",
              "30%          11.000000\n",
              "40%          12.000000\n",
              "50%          12.000000\n",
              "60%          13.000000\n",
              "70%          14.000000\n",
              "80%          15.000000\n",
              "90%          17.000000\n",
              "max          31.000000\n",
              "Name: total_lines, dtype: float64"
            ]
          },
          "metadata": {},
          "execution_count": 14
        }
      ]
    },
    {
      "cell_type": "code",
      "source": [
        "plt.figure(figsize=(12, 8))\n",
        "ax = train_df['total_lines'].hist(bins=15)\n",
        "plt.ylabel('Number of papers')\n",
        "plt.xlabel('Total lines in abstract')\n",
        "ax.spines['top'].set_visible(False)\n",
        "ax.spines['right'].set_visible(False)\n",
        "ax.grid(False);"
      ],
      "metadata": {
        "colab": {
          "base_uri": "https://localhost:8080/",
          "height": 497
        },
        "id": "UQR8XsaDnkwK",
        "outputId": "5364a7eb-3dfc-41d2-ae7b-4e8d16a46dfd"
      },
      "execution_count": 15,
      "outputs": [
        {
          "output_type": "display_data",
          "data": {
            "text/plain": [
              "<Figure size 864x576 with 1 Axes>"
            ],
            "image/png": "[encoded data removed]"
          },
          "metadata": {
            "needs_background": "light"
          }
        }
      ]
    },
    {
      "cell_type": "markdown",
      "source": [
        "The target variable is imbalanced, with relatively few entries for the OBJECTIVE class"
      ],
      "metadata": {
        "id": "yUv6ldkNxcMq"
      }
    },
    {
      "cell_type": "code",
      "source": [
        "train_df['target'].value_counts()"
      ],
      "metadata": {
        "colab": {
          "base_uri": "https://localhost:8080/"
        },
        "id": "ASHbFeCNn-NU",
        "outputId": "07c822bb-b50a-485f-a86c-b91751448f71"
      },
      "execution_count": 16,
      "outputs": [
        {
          "output_type": "execute_result",
          "data": {
            "text/plain": [
              "METHODS        59353\n",
              "RESULTS        57953\n",
              "CONCLUSIONS    27168\n",
              "BACKGROUND     21727\n",
              "OBJECTIVE      13839\n",
              "Name: target, dtype: int64"
            ]
          },
          "metadata": {},
          "execution_count": 16
        }
      ]
    },
    {
      "cell_type": "code",
      "source": [
        "train_df['target'].value_counts() / train_df['target'].value_counts().sum()"
      ],
      "metadata": {
        "colab": {
          "base_uri": "https://localhost:8080/"
        },
        "id": "7wV4j83kn-LN",
        "outputId": "42e1fd0d-7506-4aea-e50c-8ad6f93243ba"
      },
      "execution_count": 17,
      "outputs": [
        {
          "output_type": "execute_result",
          "data": {
            "text/plain": [
              "METHODS        0.329666\n",
              "RESULTS        0.321890\n",
              "CONCLUSIONS    0.150900\n",
              "BACKGROUND     0.120679\n",
              "OBJECTIVE      0.076866\n",
              "Name: target, dtype: float64"
            ]
          },
          "metadata": {},
          "execution_count": 17
        }
      ]
    },
    {
      "cell_type": "markdown",
      "source": [
        "There is a clear distinction in the line_number between classes. This is intuitively right because the Objective always comes before the Conclusions, positioning it at the first lines of the article. There is a general order for the presentation of information in an abstract.\n",
        "\n",
        "We can use this information to engineer some features."
      ],
      "metadata": {
        "id": "OiPI2cn6x5Bs"
      }
    },
    {
      "cell_type": "code",
      "source": [
        "average_target_line = train_df.groupby('target')['line_number'].mean().sort_values(ascending=True)\n",
        "\n",
        "plt.figure(figsize=(12, 8))\n",
        "sns.barplot(x=average_target_line.index, y=average_target_line.values)\n",
        "plt.ylabel('Average line number')\n",
        "plt.xlabel('')\n",
        "plt.title('Average position of lines corresponding to each class')\n",
        "sns.despine()"
      ],
      "metadata": {
        "colab": {
          "base_uri": "https://localhost:8080/",
          "height": 499
        },
        "id": "2MxQlLuzoSFb",
        "outputId": "56902ea7-48c8-4574-b29a-c912e248d170"
      },
      "execution_count": 18,
      "outputs": [
        {
          "output_type": "display_data",
          "data": {
            "text/plain": [
              "<Figure size 864x576 with 1 Axes>"
            ],
            "image/png": "[encoded data removed]"
          },
          "metadata": {
            "needs_background": "light"
          }
        }
      ]
    },
    {
      "cell_type": "markdown",
      "source": [
        "Let's encode the target variable"
      ],
      "metadata": {
        "id": "GtT27JtqzNxB"
      }
    },
    {
      "cell_type": "code",
      "source": [
        "from sklearn.preprocessing import OneHotEncoder, LabelEncoder\n",
        "encoder = OneHotEncoder()\n",
        "train_labels_one_hot = encoder.fit_transform(train_df['target'].to_numpy().reshape(-1, 1))\n",
        "val_labels_one_hot = encoder.transform(val_df['target'].to_numpy().reshape(-1, 1))\n",
        "test_labels_one_hot = encoder.transform(test_df['target'].to_numpy().reshape(-1, 1))\n",
        "\n",
        "label_encoder = LabelEncoder()\n",
        "labels_train = label_encoder.fit_transform(train_df['target'].to_numpy())\n",
        "labels_val = label_encoder.transform(val_df['target'].to_numpy())\n",
        "labels_test = label_encoder.transform(test_df['target'].to_numpy())"
      ],
      "metadata": {
        "id": "VjMSUhXazQuK"
      },
      "execution_count": 19,
      "outputs": []
    },
    {
      "cell_type": "code",
      "source": [
        "train_sentences = train_df['text'].tolist()\n",
        "val_sentences = val_df['text'].tolist()\n",
        "test_sentences = test_df['text'].tolist()"
      ],
      "metadata": {
        "id": "3ogl57Djzxu_"
      },
      "execution_count": 20,
      "outputs": []
    },
    {
      "cell_type": "markdown",
      "source": [
        "**5. Training and selecting models**\n",
        "\n",
        "Before fine-tuning, we will train different models and see which one performs better. Their performance will be compared on the validation dataset."
      ],
      "metadata": {
        "id": "S8Atr3SM0o7v"
      }
    },
    {
      "cell_type": "markdown",
      "source": [
        "**5.1 Baseline model**\n",
        "\n",
        "For our baseline, we will use an sklearn pipeline consisting of a TF-IDF vectorizer to preprocess text data and a MultinomialNB to classify the instances."
      ],
      "metadata": {
        "id": "FZ94B71T1ADK"
      }
    },
    {
      "cell_type": "code",
      "source": [
        "from sklearn.feature_extraction.text import TfidfVectorizer\n",
        "from sklearn.naive_bayes import MultinomialNB\n",
        "from sklearn.pipeline import Pipeline"
      ],
      "metadata": {
        "id": "eL7FmS4H1Mzl"
      },
      "execution_count": 21,
      "outputs": []
    },
    {
      "cell_type": "code",
      "source": [
        "baseline_model = Pipeline([\n",
        "    ('tfidf', TfidfVectorizer()),\n",
        "    ('multinomialnb', MultinomialNB())\n",
        "])"
      ],
      "metadata": {
        "id": "0SlSCddw1RLA"
      },
      "execution_count": 22,
      "outputs": []
    },
    {
      "cell_type": "code",
      "source": [
        "baseline_model.fit(train_sentences, labels_train)\n",
        "baseline_model_preds = baseline_model.predict(val_sentences)"
      ],
      "metadata": {
        "id": "vGBGeEVj1S3l"
      },
      "execution_count": 23,
      "outputs": []
    },
    {
      "cell_type": "code",
      "source": [
        "baseline_results = calculate_results(y_true=labels_val,\n",
        "                                     y_pred=baseline_model_preds)\n",
        "baseline_results"
      ],
      "metadata": {
        "colab": {
          "base_uri": "https://localhost:8080/"
        },
        "id": "n2aHh-LF1T1f",
        "outputId": "5f2c4bdb-0382-4e92-d0b7-72f9385c4c92"
      },
      "execution_count": 24,
      "outputs": [
        {
          "output_type": "execute_result",
          "data": {
            "text/plain": [
              "{'accuracy': 72.1832384482987,\n",
              " 'precision': 0.7186466952323352,\n",
              " 'recall': 0.7218323844829869,\n",
              " 'f1': 0.6989250353450294}"
            ]
          },
          "metadata": {},
          "execution_count": 24
        }
      ]
    },
    {
      "cell_type": "markdown",
      "source": [
        "**5.2 Conv1D model with text vectorizer and word embeddings**"
      ],
      "metadata": {
        "id": "GDvAtHrl1Y7c"
      }
    },
    {
      "cell_type": "code",
      "source": [
        "import tensorflow as tf"
      ],
      "metadata": {
        "id": "8Vi-ARlB1lHs"
      },
      "execution_count": 25,
      "outputs": []
    },
    {
      "cell_type": "code",
      "source": [
        "train_dataset = tf.data.Dataset.from_tensor_slices((train_sentences, train_labels_one_hot.toarray())).batch(32).prefetch(tf.data.AUTOTUNE)\n",
        "val_dataset = tf.data.Dataset.from_tensor_slices((val_sentences, val_labels_one_hot.toarray())).batch(32).prefetch(tf.data.AUTOTUNE)\n",
        "test_dataset = tf.data.Dataset.from_tensor_slices((test_sentences, test_labels_one_hot.toarray())).batch(32).prefetch(tf.data.AUTOTUNE)"
      ],
      "metadata": {
        "id": "RZCJw42WrIQX"
      },
      "execution_count": 26,
      "outputs": []
    },
    {
      "cell_type": "markdown",
      "source": [
        "Before creating the text vectorization layer, let's calculate how many tokens are per line and choose the 95th percentile of the distribution to use as the output_sequence_length in the tf TextVectorization class"
      ],
      "metadata": {
        "id": "ivHwH8nplUGz"
      }
    },
    {
      "cell_type": "code",
      "source": [
        "# Average sentence length\n",
        "sentence_length = [len(sentence.split()) for sentence in train_sentences]\n",
        "\n",
        "# 95th percentile\n",
        "sequence_length = int(np.percentile(sentence_length, 95))"
      ],
      "metadata": {
        "id": "-PwrHgtLk0eh"
      },
      "execution_count": 27,
      "outputs": []
    },
    {
      "cell_type": "code",
      "source": [
        "plt.figure(figsize=(12, 8))\n",
        "sns.histplot(sentence_length)\n",
        "sns.despine()\n",
        "plt.axvline(sequence_length, c='g', alpha=0.3)\n",
        "plt.title('Distribution of line length in the training dataset')\n",
        "plt.xlabel('Length');"
      ],
      "metadata": {
        "colab": {
          "base_uri": "https://localhost:8080/",
          "height": 513
        },
        "id": "XLo3wkE7nRoQ",
        "outputId": "9740111d-1886-4d7f-c577-8db267bf71ce"
      },
      "execution_count": 28,
      "outputs": [
        {
          "output_type": "display_data",
          "data": {
            "text/plain": [
              "<Figure size 864x576 with 1 Axes>"
            ],
            "image/png": "[encoded data removed]"
          },
          "metadata": {
            "needs_background": "light"
          }
        }
      ]
    },
    {
      "cell_type": "code",
      "source": [
        "text_vectorizer = tf.keras.layers.TextVectorization(max_tokens=68000, output_sequence_length=sequence_length) # 68,000 is the vocabulary's size mentioned in the paper\n",
        "text_vectorizer.adapt(train_sentences)"
      ],
      "metadata": {
        "id": "BmRLzv_3i72J"
      },
      "execution_count": 29,
      "outputs": []
    },
    {
      "cell_type": "code",
      "source": [
        "vocabulary = text_vectorizer.get_vocabulary()\n",
        "print(\"5 most common tokens: {}\".format(vocabulary[:5]))\n",
        "print(\"5 least common tokens: {}\".format(vocabulary[-5:]))\n",
        "print(\"Number of tokens in 20k training dataset: {}\".format(len(vocabulary)))"
      ],
      "metadata": {
        "colab": {
          "base_uri": "https://localhost:8080/"
        },
        "id": "7l_FBAS1l4fX",
        "outputId": "a61352ca-610e-438c-be89-3c84531fc668"
      },
      "execution_count": 30,
      "outputs": [
        {
          "output_type": "stream",
          "name": "stdout",
          "text": [
            "5 most common tokens: ['', '[UNK]', 'the', 'and', 'of']\n",
            "5 least common tokens: ['aainduced', 'aaigroup', 'aachener', 'aachen', 'aaacp']\n",
            "Number of tokens in 20k training dataset: 64841\n"
          ]
        }
      ]
    },
    {
      "cell_type": "code",
      "source": [
        "embed_layer = tf.keras.layers.Embedding(input_dim=len(text_vectorizer.get_vocabulary()), output_dim=128)"
      ],
      "metadata": {
        "id": "-nxNSNnri7z8"
      },
      "execution_count": 31,
      "outputs": []
    },
    {
      "cell_type": "markdown",
      "source": [
        "Build the model"
      ],
      "metadata": {
        "id": "doao9S4Lmh_e"
      }
    },
    {
      "cell_type": "code",
      "source": [
        "inputs = tf.keras.layers.Input(shape=(1,), dtype=tf.string, name='m1_input_layer')\n",
        "text_vectorization = text_vectorizer(inputs)\n",
        "word_embedding = embed_layer(text_vectorization)\n",
        "x = tf.keras.layers.Conv1D(filters=64, kernel_size=5, padding='same',\n",
        "                           activation='relu')(word_embedding)\n",
        "x = tf.keras.layers.GlobalAveragePooling1D()(x)\n",
        "outputs = tf.keras.layers.Dense(5, activation='softmax')(x)\n",
        "model_1 = tf.keras.Model(inputs, outputs, name='model_1')\n",
        "\n",
        "model_1.compile(loss='categorical_crossentropy',\n",
        "                optimizer=tf.keras.optimizers.Adam(),\n",
        "                metrics=['accuracy'])\n",
        "\n",
        "history_model_1 = model_1.fit(train_dataset,\n",
        "                              epochs=5,\n",
        "                              steps_per_epoch=int(0.1*len(train_dataset)), # train on subset to make training faster for initial experiments\n",
        "                              validation_data=val_dataset,\n",
        "                              validation_steps=int(0.1*len(train_dataset)),\n",
        "                              callbacks=[create_tensorboard_callback(dir_name='tb_callbacks',\n",
        "                                                                     experiment_name='conv1d')])"
      ],
      "metadata": {
        "colab": {
          "base_uri": "https://localhost:8080/"
        },
        "id": "n4yxJJyImgIe",
        "outputId": "f70f83b7-1597-47f4-bd4d-3ba415a042f1"
      },
      "execution_count": 32,
      "outputs": [
        {
          "output_type": "stream",
          "name": "stdout",
          "text": [
            "Epoch 1/5\n",
            "562/562 [==============================] - 16s 10ms/step - loss: 0.9106 - accuracy: 0.6393 - val_loss: 0.6809 - val_accuracy: 0.7442\n",
            "Epoch 2/5\n",
            "562/562 [==============================] - 5s 9ms/step - loss: 0.6559 - accuracy: 0.7563 - val_loss: 0.6354 - val_accuracy: 0.7739\n",
            "Epoch 3/5\n",
            "562/562 [==============================] - 5s 9ms/step - loss: 0.6161 - accuracy: 0.7739 - val_loss: 0.5912 - val_accuracy: 0.7910\n",
            "Epoch 4/5\n",
            "562/562 [==============================] - 5s 9ms/step - loss: 0.5882 - accuracy: 0.7889 - val_loss: 0.5713 - val_accuracy: 0.7974\n",
            "Epoch 5/5\n",
            "562/562 [==============================] - 5s 9ms/step - loss: 0.5913 - accuracy: 0.7915 - val_loss: 0.5553 - val_accuracy: 0.8031\n"
          ]
        }
      ]
    },
    {
      "cell_type": "code",
      "source": [
        "model_1_preds_probs = model_1.predict(val_dataset)\n",
        "model_1_preds = tf.argmax(model_1_preds_probs, axis=1)"
      ],
      "metadata": {
        "id": "ys76BwWWmwWP"
      },
      "execution_count": 33,
      "outputs": []
    },
    {
      "cell_type": "code",
      "source": [
        "model_1_results = calculate_results(y_true=labels_val,\n",
        "                                    y_pred=model_1_preds)\n",
        "model_1_results"
      ],
      "metadata": {
        "colab": {
          "base_uri": "https://localhost:8080/"
        },
        "id": "y4Hj3gW2mx_U",
        "outputId": "dcd6f18d-0c2e-4d3d-a93d-cad58518ca78"
      },
      "execution_count": 34,
      "outputs": [
        {
          "output_type": "execute_result",
          "data": {
            "text/plain": [
              "{'accuracy': 80.05759300940024,\n",
              " 'precision': 0.8004908123046888,\n",
              " 'recall': 0.8005759300940024,\n",
              " 'f1': 0.7974397205081231}"
            ]
          },
          "metadata": {},
          "execution_count": 34
        }
      ]
    },
    {
      "cell_type": "markdown",
      "source": [
        "**5.3 Feature extraction with pretrained token embeddings (transfer learning)**\n",
        "\n",
        "Transfer learning is a great tool to improve performance by leveraging the learned patterns from complex models trained on big datasets.\n",
        "\n",
        "For our task, we will replace the TextVectorization and word embedding layers with the Universal Sentence Encoder from TensorFlow Hub."
      ],
      "metadata": {
        "id": "AcGPViQEnFRj"
      }
    },
    {
      "cell_type": "code",
      "source": [
        "use = hub.KerasLayer(\"https://tfhub.dev/google/universal-sentence-encoder/4\",\n",
        "                     trainable=False)"
      ],
      "metadata": {
        "id": "43AGlPOGAC1x"
      },
      "execution_count": 35,
      "outputs": []
    },
    {
      "cell_type": "code",
      "source": [
        "inputs = tf.keras.layers.Input(shape=[], dtype=tf.string, name='m2_input_layer')\n",
        "use_embedding = use(inputs)\n",
        "x = tf.keras.layers.Dense(128, activation='relu')(use_embedding)\n",
        "outputs = tf.keras.layers.Dense(5, activation='softmax')(x)\n",
        "\n",
        "model_2 = tf.keras.Model(inputs, outputs, name='model_2')\n",
        "\n",
        "model_2.compile(loss='categorical_crossentropy',\n",
        "                optimizer=tf.keras.optimizers.Adam(),\n",
        "                metrics=['accuracy'])\n",
        "\n",
        "history_model_2 = model_2.fit(train_dataset,\n",
        "                  epochs=5,\n",
        "                  validation_data=val_dataset,\n",
        "                  steps_per_epoch=int(0.1*len(train_dataset)),\n",
        "                  validation_steps=int(0.1*len(val_dataset)),\n",
        "                  callbacks=[create_tensorboard_callback(dir_name='tb_callbacks',\n",
        "                                                         experiment_name='model_2')])"
      ],
      "metadata": {
        "colab": {
          "base_uri": "https://localhost:8080/"
        },
        "id": "xKjLnDEcCq96",
        "outputId": "5a396b8d-4c42-46c0-ed11-4fb4936604c7"
      },
      "execution_count": 36,
      "outputs": [
        {
          "output_type": "stream",
          "name": "stdout",
          "text": [
            "Epoch 1/5\n",
            "562/562 [==============================] - 9s 11ms/step - loss: 0.9185 - accuracy: 0.6477 - val_loss: 0.7982 - val_accuracy: 0.6892\n",
            "Epoch 2/5\n",
            "562/562 [==============================] - 6s 10ms/step - loss: 0.7698 - accuracy: 0.7011 - val_loss: 0.7564 - val_accuracy: 0.7064\n",
            "Epoch 3/5\n",
            "562/562 [==============================] - 6s 10ms/step - loss: 0.7535 - accuracy: 0.7124 - val_loss: 0.7412 - val_accuracy: 0.7118\n",
            "Epoch 4/5\n",
            "562/562 [==============================] - 6s 10ms/step - loss: 0.7198 - accuracy: 0.7229 - val_loss: 0.7136 - val_accuracy: 0.7281\n",
            "Epoch 5/5\n",
            "562/562 [==============================] - 6s 10ms/step - loss: 0.7267 - accuracy: 0.7224 - val_loss: 0.6931 - val_accuracy: 0.7357\n"
          ]
        }
      ]
    },
    {
      "cell_type": "code",
      "source": [
        "model_2_preds_probs = model_2.predict(val_dataset)\n",
        "model_2_preds = tf.argmax(model_2_preds_probs, axis=1)"
      ],
      "metadata": {
        "id": "XMMLU0raFMa5"
      },
      "execution_count": 37,
      "outputs": []
    },
    {
      "cell_type": "code",
      "source": [
        "model_2_results = calculate_results(y_true=labels_val,\n",
        "                                    y_pred=model_2_preds)\n",
        "model_2_results"
      ],
      "metadata": {
        "colab": {
          "base_uri": "https://localhost:8080/"
        },
        "id": "h309yT1QFmRC",
        "outputId": "d0b31d03-329c-414d-a1ec-16c83c6fe750"
      },
      "execution_count": 38,
      "outputs": [
        {
          "output_type": "execute_result",
          "data": {
            "text/plain": [
              "{'accuracy': 73.46418641599365,\n",
              " 'precision': 0.7305488449786577,\n",
              " 'recall': 0.7346418641599365,\n",
              " 'f1': 0.728981268611325}"
            ]
          },
          "metadata": {},
          "execution_count": 38
        }
      ]
    },
    {
      "cell_type": "markdown",
      "source": [
        "**5.4 Conv1D model with character-level tokenization**\n",
        "\n",
        "Instead of tokenizing at the word level, let's see how well a model performs with character-level tokenization."
      ],
      "metadata": {
        "id": "4ST3MaXRos2n"
      }
    },
    {
      "cell_type": "markdown",
      "source": [
        "Before creating the datasets, we must preprocess the data to separate characters in each word to treat them independently"
      ],
      "metadata": {
        "id": "QEpVIqXgpD6p"
      }
    },
    {
      "cell_type": "code",
      "source": [
        "def split_chars(text):\n",
        "  return \" \".join(list(text))"
      ],
      "metadata": {
        "id": "-3_FoEfTNVA7"
      },
      "execution_count": 39,
      "outputs": []
    },
    {
      "cell_type": "code",
      "source": [
        "char_train_sentences = [split_chars(sentence) for sentence in train_sentences]\n",
        "char_val_sentences = [split_chars(sentence) for sentence in val_sentences]\n",
        "char_test_sentences = [split_chars(sentence) for sentence in test_sentences]\n",
        "\n",
        "char_train_sentences[0]"
      ],
      "metadata": {
        "colab": {
          "base_uri": "https://localhost:8080/",
          "height": 70
        },
        "id": "IR74oHbuJS0W",
        "outputId": "e009ff42-073d-4b65-f0dd-480ebfa7a55e"
      },
      "execution_count": 40,
      "outputs": [
        {
          "output_type": "execute_result",
          "data": {
            "text/plain": [
              "'T o   i n v e s t i g a t e   t h e   e f f i c a c y   o f   @   w e e k s   o f   d a i l y   l o w - d o s e   o r a l   p r e d n i s o l o n e   i n   i m p r o v i n g   p a i n   ,   m o b i l i t y   ,   a n d   s y s t e m i c   l o w - g r a d e   i n f l a m m a t i o n   i n   t h e   s h o r t   t e r m   a n d   w h e t h e r   t h e   e f f e c t   w o u l d   b e   s u s t a i n e d   a t   @   w e e k s   i n   o l d e r   a d u l t s   w i t h   m o d e r a t e   t o   s e v e r e   k n e e   o s t e o a r t h r i t i s   (   O A   )   .'"
            ],
            "application/vnd.google.colaboratory.intrinsic+json": {
              "type": "string"
            }
          },
          "metadata": {},
          "execution_count": 40
        }
      ]
    },
    {
      "cell_type": "code",
      "source": [
        "char_train_dataset = tf.data.Dataset.from_tensor_slices((char_train_sentences, train_labels_one_hot.toarray())).batch(32).prefetch(tf.data.AUTOTUNE)\n",
        "char_val_dataset = tf.data.Dataset.from_tensor_slices((char_val_sentences, val_labels_one_hot.toarray())).batch(32).prefetch(tf.data.AUTOTUNE)\n",
        "char_test_dataset = tf.data.Dataset.from_tensor_slices((char_test_sentences, test_labels_one_hot.toarray())).batch(32).prefetch(tf.data.AUTOTUNE)"
      ],
      "metadata": {
        "id": "egy_HzxdpDIg"
      },
      "execution_count": 41,
      "outputs": []
    },
    {
      "cell_type": "code",
      "source": [
        "import string\n",
        "all_chars = string.ascii_lowercase + string.digits + string.punctuation\n",
        "all_chars"
      ],
      "metadata": {
        "colab": {
          "base_uri": "https://localhost:8080/",
          "height": 35
        },
        "id": "tA4eLSXYK83R",
        "outputId": "df1c3299-895c-46eb-befa-096f83e49fd1"
      },
      "execution_count": 42,
      "outputs": [
        {
          "output_type": "execute_result",
          "data": {
            "text/plain": [
              "'abcdefghijklmnopqrstuvwxyz0123456789!\"#$%&\\'()*+,-./:;<=>?@[\\\\]^_`{|}~'"
            ],
            "application/vnd.google.colaboratory.intrinsic+json": {
              "type": "string"
            }
          },
          "metadata": {},
          "execution_count": 42
        }
      ]
    },
    {
      "cell_type": "code",
      "source": [
        "print(\"Total alphanumeric + punctuation characters: {}\".format(len(all_chars))) # max_tokens input in new TextVectorization layer"
      ],
      "metadata": {
        "colab": {
          "base_uri": "https://localhost:8080/"
        },
        "id": "ZtNdTTsYpXRn",
        "outputId": "a78b93de-7c81-48be-9ad0-aaf428ea1053"
      },
      "execution_count": 43,
      "outputs": [
        {
          "output_type": "stream",
          "name": "stdout",
          "text": [
            "Total alphanumeric + punctuation characters: 68\n"
          ]
        }
      ]
    },
    {
      "cell_type": "code",
      "source": [
        "char_vectorizer = tf.keras.layers.TextVectorization(max_tokens=len(all_chars) + 2, output_sequence_length=sequence_length)\n",
        "char_vectorizer.adapt(char_train_sentences)"
      ],
      "metadata": {
        "id": "XYGL-TzYKfDx"
      },
      "execution_count": 44,
      "outputs": []
    },
    {
      "cell_type": "code",
      "source": [
        "characters = char_vectorizer.get_vocabulary()\n",
        "print(\"5 most common tokens: {}\".format(characters[:5]))\n",
        "print(\"5 least common tokens: {}\".format(characters[-5:]))\n",
        "print(\"Number of tokens in 20k training dataset: {}\".format(len(characters)))"
      ],
      "metadata": {
        "colab": {
          "base_uri": "https://localhost:8080/"
        },
        "id": "fK2pyQjfp4c8",
        "outputId": "0d19799f-e0b2-405d-b24c-8ee7793d3842"
      },
      "execution_count": 45,
      "outputs": [
        {
          "output_type": "stream",
          "name": "stdout",
          "text": [
            "5 most common tokens: ['', '[UNK]', 'e', 't', 'i']\n",
            "5 least common tokens: ['k', 'x', 'z', 'q', 'j']\n",
            "Number of tokens in 20k training dataset: 28\n"
          ]
        }
      ]
    },
    {
      "cell_type": "code",
      "source": [
        "char_embedding = tf.keras.layers.Embedding(input_dim=len(char_vectorizer.get_vocabulary()), output_dim=24, mask_zero=False)"
      ],
      "metadata": {
        "id": "rCKO6JHHKfBX"
      },
      "execution_count": 46,
      "outputs": []
    },
    {
      "cell_type": "code",
      "source": [
        "inputs = tf.keras.layers.Input(shape=(1,), dtype=tf.string, name='m3_input_layer')\n",
        "char_vector = char_vectorizer(inputs)\n",
        "char_embed = char_embedding(char_vector)\n",
        "x = tf.keras.layers.Conv1D(filters=64, kernel_size=5, padding='same',\n",
        "                           activation='relu')(char_embed)\n",
        "x = tf.keras.layers.GlobalMaxPool1D()(x)\n",
        "outputs = tf.keras.layers.Dense(5, activation='softmax')(x)\n",
        "\n",
        "model_3 = tf.keras.Model(inputs, outputs, name='model_3')\n",
        "\n",
        "model_3.compile(loss='categorical_crossentropy',\n",
        "                optimizer=tf.keras.optimizers.Adam(),\n",
        "                metrics=['accuracy'])\n",
        "\n",
        "model_3.fit(char_train_dataset,\n",
        "            epochs=5,\n",
        "            steps_per_epoch=int(0.1*len(char_train_dataset)),\n",
        "            validation_data=char_val_dataset,\n",
        "            validation_steps=int(0.1*len(char_val_dataset)),\n",
        "            callbacks=[create_tensorboard_callback(dir_name='tb_callbacks',\n",
        "                                                   experiment_name='model_3')])"
      ],
      "metadata": {
        "colab": {
          "base_uri": "https://localhost:8080/"
        },
        "id": "sGiL5_BoKezd",
        "outputId": "a0559ad2-5fec-4fee-b1df-14a10f1af7bc"
      },
      "execution_count": 47,
      "outputs": [
        {
          "output_type": "stream",
          "name": "stdout",
          "text": [
            "Epoch 1/5\n",
            "562/562 [==============================] - 3s 4ms/step - loss: 1.3107 - accuracy: 0.4552 - val_loss: 1.1491 - val_accuracy: 0.5356\n",
            "Epoch 2/5\n",
            "562/562 [==============================] - 2s 4ms/step - loss: 1.1112 - accuracy: 0.5460 - val_loss: 1.0487 - val_accuracy: 0.5838\n",
            "Epoch 3/5\n",
            "562/562 [==============================] - 2s 4ms/step - loss: 1.0340 - accuracy: 0.5840 - val_loss: 0.9816 - val_accuracy: 0.6174\n",
            "Epoch 4/5\n",
            "562/562 [==============================] - 2s 4ms/step - loss: 0.9871 - accuracy: 0.6064 - val_loss: 0.9586 - val_accuracy: 0.6283\n",
            "Epoch 5/5\n",
            "562/562 [==============================] - 2s 4ms/step - loss: 0.9681 - accuracy: 0.6172 - val_loss: 0.9342 - val_accuracy: 0.6423\n"
          ]
        },
        {
          "output_type": "execute_result",
          "data": {
            "text/plain": [
              "<keras.callbacks.History at 0x7f51008af090>"
            ]
          },
          "metadata": {},
          "execution_count": 47
        }
      ]
    },
    {
      "cell_type": "code",
      "source": [
        "model_3_preds_probs = model_3.predict(char_val_dataset)\n",
        "model_3_preds = tf.argmax(model_3_preds_probs, axis=1)"
      ],
      "metadata": {
        "id": "Av5YzeaiTDlQ"
      },
      "execution_count": 48,
      "outputs": []
    },
    {
      "cell_type": "code",
      "source": [
        "model_3_results = calculate_results(y_true=labels_val,\n",
        "                                    y_pred=model_3_preds)\n",
        "model_3_results"
      ],
      "metadata": {
        "colab": {
          "base_uri": "https://localhost:8080/"
        },
        "id": "wgJDu5W6TDi_",
        "outputId": "d77ba7c2-c3f1-4ec7-b553-1d375335e23a"
      },
      "execution_count": 49,
      "outputs": [
        {
          "output_type": "execute_result",
          "data": {
            "text/plain": [
              "{'accuracy': 62.759830530914876,\n",
              " 'precision': 0.6215059219339926,\n",
              " 'recall': 0.6275983053091487,\n",
              " 'f1': 0.6185701404025754}"
            ]
          },
          "metadata": {},
          "execution_count": 49
        }
      ]
    },
    {
      "cell_type": "markdown",
      "source": [
        "**5.5 Wide-and-deep model combining character and token embeddings**\n",
        "\n",
        "The character-level embedding model didn't perform quite as well. However, it may contain some useful information for the problem. Let's test if joining both character and token embeddings improves the performance."
      ],
      "metadata": {
        "id": "qSR4540orYKU"
      }
    },
    {
      "cell_type": "code",
      "source": [
        "train_dataset_wad_x = tf.data.Dataset.from_tensor_slices((train_sentences, char_train_sentences))\n",
        "train_dataset_wad_y = tf.data.Dataset.from_tensor_slices(train_labels_one_hot.toarray())\n",
        "train_dataset_wad = tf.data.Dataset.zip((train_dataset_wad_x, train_dataset_wad_y)).batch(32).prefetch(tf.data.AUTOTUNE)\n",
        "\n",
        "val_dataset_wad_x = tf.data.Dataset.from_tensor_slices((val_sentences, char_val_sentences))\n",
        "val_dataset_wad_y = tf.data.Dataset.from_tensor_slices(val_labels_one_hot.toarray())\n",
        "val_dataset_wad = tf.data.Dataset.zip((val_dataset_wad_x, val_dataset_wad_y)).batch(32).prefetch(tf.data.AUTOTUNE)\n",
        "\n",
        "test_dataset_wad_x = tf.data.Dataset.from_tensor_slices((test_sentences, char_test_sentences))\n",
        "test_dataset_wad_y = tf.data.Dataset.from_tensor_slices(test_labels_one_hot.toarray())\n",
        "test_dataset_wad = tf.data.Dataset.zip((test_dataset_wad_x, test_dataset_wad_y)).batch(32).prefetch(tf.data.AUTOTUNE)"
      ],
      "metadata": {
        "id": "nPFp2g7qV7Fg"
      },
      "execution_count": 50,
      "outputs": []
    },
    {
      "cell_type": "code",
      "source": [
        "# Sentence\n",
        "inputs_sentence = tf.keras.layers.Input(shape=[], dtype=tf.string)\n",
        "sentence_embedding = use(inputs_sentence)\n",
        "x_sentence = tf.keras.layers.Dense(128, activation='relu')(sentence_embedding)\n",
        "sentence_model = tf.keras.Model(inputs=inputs_sentence,\n",
        "                                outputs=x_sentence)\n",
        "\n",
        "# Character\n",
        "inputs_char = tf.keras.layers.Input(shape=(1,), dtype=tf.string)\n",
        "char_vector = char_vectorizer(inputs_char)\n",
        "char_embed = char_embedding(char_vector)\n",
        "x_char = tf.keras.layers.Bidirectional(tf.keras.layers.LSTM(25))(char_embed)\n",
        "char_model = tf.keras.Model(inputs=inputs_char,\n",
        "                            outputs=x_char)\n",
        "\n",
        "# Concatenate\n",
        "conc_layer = tf.keras.layers.Concatenate()([sentence_model.output, \n",
        "                                            char_model.output])\n",
        "\n",
        "# Dropout\n",
        "last_dense = tf.keras.layers.Dense(128, activation='relu')(conc_layer)\n",
        "dropout_layer = tf.keras.layers.Dropout(0.5)(last_dense)\n",
        "\n",
        "# Output\n",
        "outputs = tf.keras.layers.Dense(5, activation='softmax')(dropout_layer)\n",
        "\n",
        "model_4 = tf.keras.Model(inputs=[inputs_sentence,\n",
        "                                 inputs_char],\n",
        "                         outputs=outputs,\n",
        "                         name='model_4')\n",
        "\n",
        "model_4.compile(loss='categorical_crossentropy',\n",
        "                optimizer=tf.keras.optimizers.Adam(),\n",
        "                metrics=['accuracy'])\n",
        "\n",
        "model_4.fit(train_dataset_wad,\n",
        "            epochs=5,\n",
        "            validation_data=val_dataset_wad,\n",
        "            validation_steps=int(0.1*len(val_dataset_wad)),\n",
        "            steps_per_epoch=int(0.1*len(train_dataset_wad)),\n",
        "            callbacks=[create_tensorboard_callback(dir_name='tb_callbacks',\n",
        "                                                   experiment_name='model_4')])"
      ],
      "metadata": {
        "colab": {
          "base_uri": "https://localhost:8080/"
        },
        "id": "zw8lkMtZTDgv",
        "outputId": "ef23e207-64bf-4263-d012-b8b188fd4a88"
      },
      "execution_count": 51,
      "outputs": [
        {
          "output_type": "stream",
          "name": "stdout",
          "text": [
            "Epoch 1/5\n",
            "562/562 [==============================] - 14s 18ms/step - loss: 0.9280 - accuracy: 0.6333 - val_loss: 0.7641 - val_accuracy: 0.7088\n",
            "Epoch 2/5\n",
            "562/562 [==============================] - 9s 15ms/step - loss: 0.7512 - accuracy: 0.7147 - val_loss: 0.6948 - val_accuracy: 0.7337\n",
            "Epoch 3/5\n",
            "562/562 [==============================] - 12s 22ms/step - loss: 0.7176 - accuracy: 0.7284 - val_loss: 0.6663 - val_accuracy: 0.7443\n",
            "Epoch 4/5\n",
            "562/562 [==============================] - 9s 15ms/step - loss: 0.6855 - accuracy: 0.7428 - val_loss: 0.6398 - val_accuracy: 0.7613\n",
            "Epoch 5/5\n",
            "562/562 [==============================] - 9s 15ms/step - loss: 0.6863 - accuracy: 0.7405 - val_loss: 0.6274 - val_accuracy: 0.7623\n"
          ]
        },
        {
          "output_type": "execute_result",
          "data": {
            "text/plain": [
              "<keras.callbacks.History at 0x7f51ece4c310>"
            ]
          },
          "metadata": {},
          "execution_count": 51
        }
      ]
    },
    {
      "cell_type": "code",
      "source": [
        "model_4_preds_probs = model_4.predict(val_dataset_wad)\n",
        "model_4_preds = tf.argmax(model_4_preds_probs, axis=1)"
      ],
      "metadata": {
        "id": "5i6Wq7pZruGU"
      },
      "execution_count": 52,
      "outputs": []
    },
    {
      "cell_type": "code",
      "source": [
        "model_4_results = calculate_results(y_true=labels_val,\n",
        "                                    y_pred=model_4_preds)\n",
        "model_4_results"
      ],
      "metadata": {
        "colab": {
          "base_uri": "https://localhost:8080/"
        },
        "id": "FKZJY3txrv0q",
        "outputId": "c41c994c-b389-47f2-fa07-9cd2a405dc8b"
      },
      "execution_count": 53,
      "outputs": [
        {
          "output_type": "execute_result",
          "data": {
            "text/plain": [
              "{'accuracy': 75.6686084999338,\n",
              " 'precision': 0.7531010201126918,\n",
              " 'recall': 0.756686084999338,\n",
              " 'f1': 0.7528374557461917}"
            ]
          },
          "metadata": {},
          "execution_count": 53
        }
      ]
    },
    {
      "cell_type": "markdown",
      "source": [
        "**5.6 Wide and deep model including sentence position in abstract**"
      ],
      "metadata": {
        "id": "NmD2YdZXu3Sh"
      }
    },
    {
      "cell_type": "markdown",
      "source": [
        "From the exploratory data analysis, we found out that there is a strong correlation between class label and line position. For our final experiment, we will include an additional input layer that provides the model information about the position of the line in the abstract."
      ],
      "metadata": {
        "id": "JMyT3Vf5r0mp"
      }
    },
    {
      "cell_type": "markdown",
      "source": [
        "Given that 90% of the abstracts have less than 17 lines, we will one-hot encode the line_number variable using a depth of 17. This will cover most of the data."
      ],
      "metadata": {
        "id": "1A6GrMnjsLcC"
      }
    },
    {
      "cell_type": "code",
      "source": [
        "train_line_pos = tf.one_hot(train_df['line_number'].to_numpy(), depth=17)\n",
        "val_line_pos = tf.one_hot(val_df['line_number'].to_numpy(), depth=17)\n",
        "test_line_pos = tf.one_hot(test_df['line_number'].to_numpy(), depth=17)"
      ],
      "metadata": {
        "id": "s-mEsQ2thSQM"
      },
      "execution_count": 54,
      "outputs": []
    },
    {
      "cell_type": "code",
      "source": [
        "train_dataset_wad_pos = tf.data.Dataset.from_tensor_slices((train_sentences, char_train_sentences, train_line_pos))\n",
        "train_dataset_wad_pos = tf.data.Dataset.zip((train_dataset_wad_pos, train_dataset_wad_y)).batch(32).prefetch(tf.data.AUTOTUNE)\n",
        "\n",
        "val_dataset_wad_pos = tf.data.Dataset.from_tensor_slices((val_sentences, char_val_sentences, val_line_pos))\n",
        "val_dataset_wad_pos = tf.data.Dataset.zip((val_dataset_wad_pos, val_dataset_wad_y)).batch(32).prefetch(tf.data.AUTOTUNE)\n",
        "\n",
        "test_dataset_wad_pos = tf.data.Dataset.from_tensor_slices((test_sentences, char_test_sentences, test_line_pos))\n",
        "test_dataset_wad_pos = tf.data.Dataset.zip((test_dataset_wad_pos, test_dataset_wad_y)).batch(32).prefetch(tf.data.AUTOTUNE)"
      ],
      "metadata": {
        "id": "ofrJF0TwiiOL"
      },
      "execution_count": 55,
      "outputs": []
    },
    {
      "cell_type": "code",
      "source": [
        "# Token embeddings\n",
        "inputs_sentence = tf.keras.layers.Input(shape=[], dtype=tf.string)\n",
        "sentence_embedding = use(inputs_sentence)\n",
        "x_sentence = tf.keras.layers.Dense(128, activation='relu')(sentence_embedding)\n",
        "sentence_model = tf.keras.Model(inputs_sentence,\n",
        "                                x_sentence)\n",
        "\n",
        "# Character embeddings\n",
        "inputs_char = tf.keras.layers.Input(shape=(1,), dtype=tf.string)\n",
        "char_vector = char_vectorizer(inputs_char)\n",
        "char_embed = char_embedding(char_vector)\n",
        "x_char = tf.keras.layers.Bidirectional(tf.keras.layers.LSTM(25))(char_embed)\n",
        "char_model = tf.keras.Model(inputs_char,\n",
        "                            x_char)\n",
        "\n",
        "# Positional model\n",
        "inputs_positional = tf.keras.layers.Input(shape=(17,), dtype=tf.int32)\n",
        "x = tf.keras.layers.Dense(32, activation='relu')(inputs_positional)\n",
        "positional_model = tf.keras.Model(inputs_positional, x)\n",
        "\n",
        "# Concatenate\n",
        "conc_layer = tf.keras.layers.Concatenate()([sentence_model.output,\n",
        "                                            char_model.output,\n",
        "                                            positional_model.output])\n",
        "# Dropout\n",
        "x_dense = tf.keras.layers.Dense(128, activation='relu')(conc_layer)\n",
        "dropout = tf.keras.layers.Dropout(0.5)(x_dense)\n",
        "\n",
        "# Outputs\n",
        "outputs = tf.keras.layers.Dense(5, activation='softmax')(dropout)\n",
        "\n",
        "model_5 = tf.keras.Model([inputs_sentence, inputs_char, inputs_positional],\n",
        "                         outputs)\n",
        "\n",
        "model_5.compile(loss='categorical_crossentropy',\n",
        "                optimizer=tf.keras.optimizers.Adam(),\n",
        "                metrics=['accuracy'])\n",
        "\n",
        "model_5.fit(train_dataset_wad_pos,\n",
        "            epochs=5,\n",
        "            validation_data=val_dataset_wad_pos,\n",
        "            validation_steps=int(0.1*len(val_dataset_wad_pos)),\n",
        "            steps_per_epoch=int(0.1*len(train_dataset_wad_pos)),\n",
        "            callbacks=[create_tensorboard_callback(dir_name='tb_callbacks',\n",
        "                                                   experiment_name='model_5')])"
      ],
      "metadata": {
        "colab": {
          "base_uri": "https://localhost:8080/"
        },
        "id": "_lF6QGr4i043",
        "outputId": "d8a9210a-d27a-4bf3-fa9a-a366d20f315f"
      },
      "execution_count": 56,
      "outputs": [
        {
          "output_type": "stream",
          "name": "stdout",
          "text": [
            "Epoch 1/5\n",
            "562/562 [==============================] - 13s 17ms/step - loss: 0.7334 - accuracy: 0.7174 - val_loss: 0.5226 - val_accuracy: 0.7979\n",
            "Epoch 2/5\n",
            "562/562 [==============================] - 9s 15ms/step - loss: 0.5102 - accuracy: 0.8044 - val_loss: 0.4660 - val_accuracy: 0.8208\n",
            "Epoch 3/5\n",
            "562/562 [==============================] - 9s 15ms/step - loss: 0.4858 - accuracy: 0.8091 - val_loss: 0.4539 - val_accuracy: 0.8268\n",
            "Epoch 4/5\n",
            "562/562 [==============================] - 9s 16ms/step - loss: 0.4742 - accuracy: 0.8208 - val_loss: 0.4369 - val_accuracy: 0.8265\n",
            "Epoch 5/5\n",
            "562/562 [==============================] - 9s 15ms/step - loss: 0.4662 - accuracy: 0.8239 - val_loss: 0.4251 - val_accuracy: 0.8374\n"
          ]
        },
        {
          "output_type": "execute_result",
          "data": {
            "text/plain": [
              "<keras.callbacks.History at 0x7f5207e46ed0>"
            ]
          },
          "metadata": {},
          "execution_count": 56
        }
      ]
    },
    {
      "cell_type": "code",
      "source": [
        "model_5_preds_probs = model_5.predict(val_dataset_wad_pos)\n",
        "model_5_preds = tf.argmax(model_5_preds_probs, axis=1)"
      ],
      "metadata": {
        "id": "ADfXtOaTnHYA"
      },
      "execution_count": 57,
      "outputs": []
    },
    {
      "cell_type": "code",
      "source": [
        "model_5_results = calculate_results(y_true=labels_val,\n",
        "                                    y_pred=model_5_preds)\n",
        "model_5_results"
      ],
      "metadata": {
        "colab": {
          "base_uri": "https://localhost:8080/"
        },
        "id": "ySFdhzB6tJDL",
        "outputId": "4126ecd8-2011-4a0f-bab8-ea9976e24461"
      },
      "execution_count": 58,
      "outputs": [
        {
          "output_type": "execute_result",
          "data": {
            "text/plain": [
              "{'accuracy': 83.4569045412419,\n",
              " 'precision': 0.837790060939425,\n",
              " 'recall': 0.8345690454124189,\n",
              " 'f1': 0.8314493356134944}"
            ]
          },
          "metadata": {},
          "execution_count": 58
        }
      ]
    },
    {
      "cell_type": "markdown",
      "source": [
        "Finally, we'll compare the results of all models to see which one performed better"
      ],
      "metadata": {
        "id": "m4KwAsXWu_st"
      }
    },
    {
      "cell_type": "code",
      "source": [
        "all_model_results = pd.concat([pd.DataFrame(baseline_results, index=['baseline_model']),\n",
        "                    pd.DataFrame(model_1_results, index=['model_1']),\n",
        "                    pd.DataFrame(model_2_results, index=['model_2']),\n",
        "                    pd.DataFrame(model_3_results, index=['model_3']),\n",
        "                    pd.DataFrame(model_4_results, index=['model_4']),\n",
        "                    pd.DataFrame(model_5_results, index=['model_5'])], axis=0)\n",
        "all_model_results"
      ],
      "metadata": {
        "colab": {
          "base_uri": "https://localhost:8080/",
          "height": 238
        },
        "id": "KAHcGV1wvDKM",
        "outputId": "cca02675-fa9a-4118-8d59-91c392ca81be"
      },
      "execution_count": 59,
      "outputs": [
        {
          "output_type": "execute_result",
          "data": {
            "text/plain": [
              "                 accuracy  precision    recall        f1\n",
              "baseline_model  72.183238   0.718647  0.721832  0.698925\n",
              "model_1         80.057593   0.800491  0.800576  0.797440\n",
              "model_2         73.464186   0.730549  0.734642  0.728981\n",
              "model_3         62.759831   0.621506  0.627598  0.618570\n",
              "model_4         75.668608   0.753101  0.756686  0.752837\n",
              "model_5         83.456905   0.837790  0.834569  0.831449"
            ],
            "text/html": [
              "\n",
              "  <div id=\"df-ffa9295c-69de-421a-98fc-8bfa094af85b\">\n",
              "    <div class=\"colab-df-container\">\n",
              "      <div>\n",
              "<style scoped>\n",
              "    .dataframe tbody tr th:only-of-type {\n",
              "        vertical-align: middle;\n",
              "    }\n",
              "\n",
              "    .dataframe tbody tr th {\n",
              "        vertical-align: top;\n",
              "    }\n",
              "\n",
              "    .dataframe thead th {\n",
              "        text-align: right;\n",
              "    }\n",
              "</style>\n",
              "<table border=\"1\" class=\"dataframe\">\n",
              "  <thead>\n",
              "    <tr style=\"text-align: right;\">\n",
              "      <th></th>\n",
              "      <th>accuracy</th>\n",
              "      <th>precision</th>\n",
              "      <th>recall</th>\n",
              "      <th>f1</th>\n",
              "    </tr>\n",
              "  </thead>\n",
              "  <tbody>\n",
              "    <tr>\n",
              "      <th>baseline_model</th>\n",
              "      <td>72.183238</td>\n",
              "      <td>0.718647</td>\n",
              "      <td>0.721832</td>\n",
              "      <td>0.698925</td>\n",
              "    </tr>\n",
              "    <tr>\n",
              "      <th>model_1</th>\n",
              "      <td>80.057593</td>\n",
              "      <td>0.800491</td>\n",
              "      <td>0.800576</td>\n",
              "      <td>0.797440</td>\n",
              "    </tr>\n",
              "    <tr>\n",
              "      <th>model_2</th>\n",
              "      <td>73.464186</td>\n",
              "      <td>0.730549</td>\n",
              "      <td>0.734642</td>\n",
              "      <td>0.728981</td>\n",
              "    </tr>\n",
              "    <tr>\n",
              "      <th>model_3</th>\n",
              "      <td>62.759831</td>\n",
              "      <td>0.621506</td>\n",
              "      <td>0.627598</td>\n",
              "      <td>0.618570</td>\n",
              "    </tr>\n",
              "    <tr>\n",
              "      <th>model_4</th>\n",
              "      <td>75.668608</td>\n",
              "      <td>0.753101</td>\n",
              "      <td>0.756686</td>\n",
              "      <td>0.752837</td>\n",
              "    </tr>\n",
              "    <tr>\n",
              "      <th>model_5</th>\n",
              "      <td>83.456905</td>\n",
              "      <td>0.837790</td>\n",
              "      <td>0.834569</td>\n",
              "      <td>0.831449</td>\n",
              "    </tr>\n",
              "  </tbody>\n",
              "</table>\n",
              "</div>\n",
              "      <button class=\"colab-df-convert\" onclick=\"convertToInteractive('df-ffa9295c-69de-421a-98fc-8bfa094af85b')\"\n",
              "              title=\"Convert this dataframe to an interactive table.\"\n",
              "              style=\"display:none;\">\n",
              "        \n",
              "  <svg xmlns=\"http://www.w3.org/2000/svg\" height=\"24px\"viewBox=\"0 0 24 24\"\n",
              "       width=\"24px\">\n",
              "    <path d=\"M0 0h24v24H0V0z\" fill=\"none\"/>\n",
              "    <path d=\"M18.56 5.44l.94 2.06.94-2.06 2.06-.94-2.06-.94-.94-2.06-.94 2.06-2.06.94zm-11 1L8.5 8.5l.94-2.06 2.06-.94-2.06-.94L8.5 2.5l-.94 2.06-2.06.94zm10 10l.94 2.06.94-2.06 2.06-.94-2.06-.94-.94-2.06-.94 2.06-2.06.94z\"/><path d=\"M17.41 7.96l-1.37-1.37c-.4-.4-.92-.59-1.43-.59-.52 0-1.04.2-1.43.59L10.3 9.45l-7.72 7.72c-.78.78-.78 2.05 0 2.83L4 21.41c.39.39.9.59 1.41.59.51 0 1.02-.2 1.41-.59l7.78-7.78 2.81-2.81c.8-.78.8-2.07 0-2.86zM5.41 20L4 18.59l7.72-7.72 1.47 1.35L5.41 20z\"/>\n",
              "  </svg>\n",
              "      </button>\n",
              "      \n",
              "  <style>\n",
              "    .colab-df-container {\n",
              "      display:flex;\n",
              "      flex-wrap:wrap;\n",
              "      gap: 12px;\n",
              "    }\n",
              "\n",
              "    .colab-df-convert {\n",
              "      background-color: #E8F0FE;\n",
              "      border: none;\n",
              "      border-radius: 50%;\n",
              "      cursor: pointer;\n",
              "      display: none;\n",
              "      fill: #1967D2;\n",
              "      height: 32px;\n",
              "      padding: 0 0 0 0;\n",
              "      width: 32px;\n",
              "    }\n",
              "\n",
              "    .colab-df-convert:hover {\n",
              "      background-color: #E2EBFA;\n",
              "      box-shadow: 0px 1px 2px rgba(60, 64, 67, 0.3), 0px 1px 3px 1px rgba(60, 64, 67, 0.15);\n",
              "      fill: #174EA6;\n",
              "    }\n",
              "\n",
              "    [theme=dark] .colab-df-convert {\n",
              "      background-color: #3B4455;\n",
              "      fill: #D2E3FC;\n",
              "    }\n",
              "\n",
              "    [theme=dark] .colab-df-convert:hover {\n",
              "      background-color: #434B5C;\n",
              "      box-shadow: 0px 1px 3px 1px rgba(0, 0, 0, 0.15);\n",
              "      filter: drop-shadow(0px 1px 2px rgba(0, 0, 0, 0.3));\n",
              "      fill: #FFFFFF;\n",
              "    }\n",
              "  </style>\n",
              "\n",
              "      <script>\n",
              "        const buttonEl =\n",
              "          document.querySelector('#df-ffa9295c-69de-421a-98fc-8bfa094af85b button.colab-df-convert');\n",
              "        buttonEl.style.display =\n",
              "          google.colab.kernel.accessAllowed ? 'block' : 'none';\n",
              "\n",
              "        async function convertToInteractive(key) {\n",
              "          const element = document.querySelector('#df-ffa9295c-69de-421a-98fc-8bfa094af85b');\n",
              "          const dataTable =\n",
              "            await google.colab.kernel.invokeFunction('convertToInteractive',\n",
              "                                                     [key], {});\n",
              "          if (!dataTable) return;\n",
              "\n",
              "          const docLinkHtml = 'Like what you see? Visit the ' +\n",
              "            '<a target=\"_blank\" href=https://colab.research.google.com/notebooks/data_table.ipynb>data table notebook</a>'\n",
              "            + ' to learn more about interactive tables.';\n",
              "          element.innerHTML = '';\n",
              "          dataTable['output_type'] = 'display_data';\n",
              "          await google.colab.output.renderOutput(dataTable, element);\n",
              "          const docLink = document.createElement('div');\n",
              "          docLink.innerHTML = docLinkHtml;\n",
              "          element.appendChild(docLink);\n",
              "        }\n",
              "      </script>\n",
              "    </div>\n",
              "  </div>\n",
              "  "
            ]
          },
          "metadata": {},
          "execution_count": 59
        }
      ]
    },
    {
      "cell_type": "markdown",
      "source": [
        "Model 5 is the best performing model, let's continue working on it. The model_1 with a Conv1D layer had a good performance as well. This architecture may convey useful information about the patterns found in the data. To test this, we'll replace the dense layer and the USE of the sentence_model with a Conv1D layer and text vectorization and word embedding layers."
      ],
      "metadata": {
        "id": "sPdEl1ykvISq"
      }
    },
    {
      "cell_type": "code",
      "source": [
        "# Token embeddings\n",
        "inputs_sentence = tf.keras.layers.Input(shape=[], dtype=tf.string)\n",
        "text_vectorization = text_vectorizer(inputs_sentence)\n",
        "word_embedding = embed_layer(text_vectorization)\n",
        "x_sentence = tf.keras.layers.Conv1D(filters=64, kernel_size=5, padding='same',\n",
        "                                    activation='relu')(word_embedding)\n",
        "x_sentence = tf.keras.layers.GlobalAveragePooling1D()(x_sentence)\n",
        "sentence_model = tf.keras.Model(inputs_sentence,\n",
        "                                x_sentence)\n",
        "\n",
        "# Character embeddings\n",
        "inputs_char = tf.keras.layers.Input(shape=(1,), dtype=tf.string)\n",
        "char_vector = char_vectorizer(inputs_char)\n",
        "char_embed = char_embedding(char_vector)\n",
        "x_char = tf.keras.layers.Bidirectional(tf.keras.layers.LSTM(25))(char_embed)\n",
        "char_model = tf.keras.Model(inputs_char,\n",
        "                            x_char)\n",
        "\n",
        "# Positional model\n",
        "inputs_positional = tf.keras.layers.Input(shape=(17,), dtype=tf.int32)\n",
        "x = tf.keras.layers.Dense(32, activation='relu')(inputs_positional)\n",
        "positional_model = tf.keras.Model(inputs_positional, x)\n",
        "\n",
        "# Concatenate\n",
        "conc_layer = tf.keras.layers.Concatenate()([sentence_model.output,\n",
        "                                            char_model.output,\n",
        "                                            positional_model.output])\n",
        "\n",
        "# Dropout\n",
        "x_dense = tf.keras.layers.Dense(128, activation='relu')(conc_layer)\n",
        "dropout = tf.keras.layers.Dropout(0.5)(x_dense)\n",
        "\n",
        "# Outputs\n",
        "outputs = tf.keras.layers.Dense(5, activation='softmax')(dropout)\n",
        "\n",
        "model_6 = tf.keras.Model([inputs_sentence, inputs_char, inputs_positional],\n",
        "                         outputs)\n",
        "\n",
        "model_6.compile(loss='categorical_crossentropy',\n",
        "                optimizer=tf.keras.optimizers.Adam(),\n",
        "                metrics=['accuracy'])\n",
        "\n",
        "model_6.fit(train_dataset_wad_pos,\n",
        "            epochs=5,\n",
        "            validation_data=val_dataset_wad_pos,\n",
        "            validation_steps=int(0.1*len(val_dataset_wad_pos)),\n",
        "            steps_per_epoch=int(0.1*len(train_dataset_wad_pos)),\n",
        "            callbacks=[create_tensorboard_callback(dir_name='tb_callbacks',\n",
        "                                                   experiment_name='model_6')])"
      ],
      "metadata": {
        "colab": {
          "base_uri": "https://localhost:8080/"
        },
        "id": "uMM9sSMlwSEp",
        "outputId": "4fde7b0e-5555-470a-851d-6b6fee593486"
      },
      "execution_count": 60,
      "outputs": [
        {
          "output_type": "stream",
          "name": "stdout",
          "text": [
            "Epoch 1/5\n",
            "562/562 [==============================] - 12s 15ms/step - loss: 0.5608 - accuracy: 0.7921 - val_loss: 0.4145 - val_accuracy: 0.8511\n",
            "Epoch 2/5\n",
            "562/562 [==============================] - 8s 13ms/step - loss: 0.3758 - accuracy: 0.8626 - val_loss: 0.3941 - val_accuracy: 0.8524\n",
            "Epoch 3/5\n",
            "562/562 [==============================] - 8s 13ms/step - loss: 0.3532 - accuracy: 0.8677 - val_loss: 0.3835 - val_accuracy: 0.8564\n",
            "Epoch 4/5\n",
            "562/562 [==============================] - 8s 13ms/step - loss: 0.3437 - accuracy: 0.8758 - val_loss: 0.3856 - val_accuracy: 0.8531\n",
            "Epoch 5/5\n",
            "562/562 [==============================] - 7s 13ms/step - loss: 0.3429 - accuracy: 0.8770 - val_loss: 0.3784 - val_accuracy: 0.8587\n"
          ]
        },
        {
          "output_type": "execute_result",
          "data": {
            "text/plain": [
              "<keras.callbacks.History at 0x7f52070e8990>"
            ]
          },
          "metadata": {},
          "execution_count": 60
        }
      ]
    },
    {
      "cell_type": "code",
      "source": [
        "model_6_preds_probs = model_6.predict(val_dataset_wad_pos)\n",
        "model_6_preds = tf.argmax(model_6_preds_probs, axis=1)"
      ],
      "metadata": {
        "id": "C-ETPJB40l2S"
      },
      "execution_count": 61,
      "outputs": []
    },
    {
      "cell_type": "code",
      "source": [
        "model_6_results = calculate_results(y_true=labels_val,\n",
        "                                    y_pred=model_6_preds)\n",
        "model_6_results"
      ],
      "metadata": {
        "colab": {
          "base_uri": "https://localhost:8080/"
        },
        "id": "KAE0P3IJ0lyQ",
        "outputId": "31107ed5-5fd0-43f9-a54a-363726e75a9f"
      },
      "execution_count": 62,
      "outputs": [
        {
          "output_type": "execute_result",
          "data": {
            "text/plain": [
              "{'accuracy': 85.86985303852774,\n",
              " 'precision': 0.8593556826153284,\n",
              " 'recall': 0.8586985303852773,\n",
              " 'f1': 0.8570625058485454}"
            ]
          },
          "metadata": {},
          "execution_count": 62
        }
      ]
    },
    {
      "cell_type": "code",
      "source": [
        "all_model_results = pd.concat([all_model_results,\n",
        "                               pd.DataFrame(model_6_results, index=['model_6'])], axis=0)\n",
        "all_model_results"
      ],
      "metadata": {
        "colab": {
          "base_uri": "https://localhost:8080/",
          "height": 269
        },
        "id": "tB_vG1PQ0rpo",
        "outputId": "564e273d-2265-47f8-f148-0c8d63d21550"
      },
      "execution_count": 63,
      "outputs": [
        {
          "output_type": "execute_result",
          "data": {
            "text/plain": [
              "                 accuracy  precision    recall        f1\n",
              "baseline_model  72.183238   0.718647  0.721832  0.698925\n",
              "model_1         80.057593   0.800491  0.800576  0.797440\n",
              "model_2         73.464186   0.730549  0.734642  0.728981\n",
              "model_3         62.759831   0.621506  0.627598  0.618570\n",
              "model_4         75.668608   0.753101  0.756686  0.752837\n",
              "model_5         83.456905   0.837790  0.834569  0.831449\n",
              "model_6         85.869853   0.859356  0.858699  0.857063"
            ],
            "text/html": [
              "\n",
              "  <div id=\"df-aba53f41-8619-4162-a6e2-717c572e975f\">\n",
              "    <div class=\"colab-df-container\">\n",
              "      <div>\n",
              "<style scoped>\n",
              "    .dataframe tbody tr th:only-of-type {\n",
              "        vertical-align: middle;\n",
              "    }\n",
              "\n",
              "    .dataframe tbody tr th {\n",
              "        vertical-align: top;\n",
              "    }\n",
              "\n",
              "    .dataframe thead th {\n",
              "        text-align: right;\n",
              "    }\n",
              "</style>\n",
              "<table border=\"1\" class=\"dataframe\">\n",
              "  <thead>\n",
              "    <tr style=\"text-align: right;\">\n",
              "      <th></th>\n",
              "      <th>accuracy</th>\n",
              "      <th>precision</th>\n",
              "      <th>recall</th>\n",
              "      <th>f1</th>\n",
              "    </tr>\n",
              "  </thead>\n",
              "  <tbody>\n",
              "    <tr>\n",
              "      <th>baseline_model</th>\n",
              "      <td>72.183238</td>\n",
              "      <td>0.718647</td>\n",
              "      <td>0.721832</td>\n",
              "      <td>0.698925</td>\n",
              "    </tr>\n",
              "    <tr>\n",
              "      <th>model_1</th>\n",
              "      <td>80.057593</td>\n",
              "      <td>0.800491</td>\n",
              "      <td>0.800576</td>\n",
              "      <td>0.797440</td>\n",
              "    </tr>\n",
              "    <tr>\n",
              "      <th>model_2</th>\n",
              "      <td>73.464186</td>\n",
              "      <td>0.730549</td>\n",
              "      <td>0.734642</td>\n",
              "      <td>0.728981</td>\n",
              "    </tr>\n",
              "    <tr>\n",
              "      <th>model_3</th>\n",
              "      <td>62.759831</td>\n",
              "      <td>0.621506</td>\n",
              "      <td>0.627598</td>\n",
              "      <td>0.618570</td>\n",
              "    </tr>\n",
              "    <tr>\n",
              "      <th>model_4</th>\n",
              "      <td>75.668608</td>\n",
              "      <td>0.753101</td>\n",
              "      <td>0.756686</td>\n",
              "      <td>0.752837</td>\n",
              "    </tr>\n",
              "    <tr>\n",
              "      <th>model_5</th>\n",
              "      <td>83.456905</td>\n",
              "      <td>0.837790</td>\n",
              "      <td>0.834569</td>\n",
              "      <td>0.831449</td>\n",
              "    </tr>\n",
              "    <tr>\n",
              "      <th>model_6</th>\n",
              "      <td>85.869853</td>\n",
              "      <td>0.859356</td>\n",
              "      <td>0.858699</td>\n",
              "      <td>0.857063</td>\n",
              "    </tr>\n",
              "  </tbody>\n",
              "</table>\n",
              "</div>\n",
              "      <button class=\"colab-df-convert\" onclick=\"convertToInteractive('df-aba53f41-8619-4162-a6e2-717c572e975f')\"\n",
              "              title=\"Convert this dataframe to an interactive table.\"\n",
              "              style=\"display:none;\">\n",
              "        \n",
              "  <svg xmlns=\"http://www.w3.org/2000/svg\" height=\"24px\"viewBox=\"0 0 24 24\"\n",
              "       width=\"24px\">\n",
              "    <path d=\"M0 0h24v24H0V0z\" fill=\"none\"/>\n",
              "    <path d=\"M18.56 5.44l.94 2.06.94-2.06 2.06-.94-2.06-.94-.94-2.06-.94 2.06-2.06.94zm-11 1L8.5 8.5l.94-2.06 2.06-.94-2.06-.94L8.5 2.5l-.94 2.06-2.06.94zm10 10l.94 2.06.94-2.06 2.06-.94-2.06-.94-.94-2.06-.94 2.06-2.06.94z\"/><path d=\"M17.41 7.96l-1.37-1.37c-.4-.4-.92-.59-1.43-.59-.52 0-1.04.2-1.43.59L10.3 9.45l-7.72 7.72c-.78.78-.78 2.05 0 2.83L4 21.41c.39.39.9.59 1.41.59.51 0 1.02-.2 1.41-.59l7.78-7.78 2.81-2.81c.8-.78.8-2.07 0-2.86zM5.41 20L4 18.59l7.72-7.72 1.47 1.35L5.41 20z\"/>\n",
              "  </svg>\n",
              "      </button>\n",
              "      \n",
              "  <style>\n",
              "    .colab-df-container {\n",
              "      display:flex;\n",
              "      flex-wrap:wrap;\n",
              "      gap: 12px;\n",
              "    }\n",
              "\n",
              "    .colab-df-convert {\n",
              "      background-color: #E8F0FE;\n",
              "      border: none;\n",
              "      border-radius: 50%;\n",
              "      cursor: pointer;\n",
              "      display: none;\n",
              "      fill: #1967D2;\n",
              "      height: 32px;\n",
              "      padding: 0 0 0 0;\n",
              "      width: 32px;\n",
              "    }\n",
              "\n",
              "    .colab-df-convert:hover {\n",
              "      background-color: #E2EBFA;\n",
              "      box-shadow: 0px 1px 2px rgba(60, 64, 67, 0.3), 0px 1px 3px 1px rgba(60, 64, 67, 0.15);\n",
              "      fill: #174EA6;\n",
              "    }\n",
              "\n",
              "    [theme=dark] .colab-df-convert {\n",
              "      background-color: #3B4455;\n",
              "      fill: #D2E3FC;\n",
              "    }\n",
              "\n",
              "    [theme=dark] .colab-df-convert:hover {\n",
              "      background-color: #434B5C;\n",
              "      box-shadow: 0px 1px 3px 1px rgba(0, 0, 0, 0.15);\n",
              "      filter: drop-shadow(0px 1px 2px rgba(0, 0, 0, 0.3));\n",
              "      fill: #FFFFFF;\n",
              "    }\n",
              "  </style>\n",
              "\n",
              "      <script>\n",
              "        const buttonEl =\n",
              "          document.querySelector('#df-aba53f41-8619-4162-a6e2-717c572e975f button.colab-df-convert');\n",
              "        buttonEl.style.display =\n",
              "          google.colab.kernel.accessAllowed ? 'block' : 'none';\n",
              "\n",
              "        async function convertToInteractive(key) {\n",
              "          const element = document.querySelector('#df-aba53f41-8619-4162-a6e2-717c572e975f');\n",
              "          const dataTable =\n",
              "            await google.colab.kernel.invokeFunction('convertToInteractive',\n",
              "                                                     [key], {});\n",
              "          if (!dataTable) return;\n",
              "\n",
              "          const docLinkHtml = 'Like what you see? Visit the ' +\n",
              "            '<a target=\"_blank\" href=https://colab.research.google.com/notebooks/data_table.ipynb>data table notebook</a>'\n",
              "            + ' to learn more about interactive tables.';\n",
              "          element.innerHTML = '';\n",
              "          dataTable['output_type'] = 'display_data';\n",
              "          await google.colab.output.renderOutput(dataTable, element);\n",
              "          const docLink = document.createElement('div');\n",
              "          docLink.innerHTML = docLinkHtml;\n",
              "          element.appendChild(docLink);\n",
              "        }\n",
              "      </script>\n",
              "    </div>\n",
              "  </div>\n",
              "  "
            ]
          },
          "metadata": {},
          "execution_count": 63
        }
      ]
    },
    {
      "cell_type": "markdown",
      "source": [
        "Great, the adjustment yielded a significant increase in the model's performance. \n",
        "\n",
        "Given that our dataset is imbalanced, let's see how the model performed classifying each class."
      ],
      "metadata": {
        "id": "gQrUYgFN66dK"
      }
    },
    {
      "cell_type": "code",
      "source": [
        "from sklearn.metrics import ConfusionMatrixDisplay, confusion_matrix\n",
        "cm = confusion_matrix(labels_val, model_6_preds)\n",
        "disp = ConfusionMatrixDisplay(cm, display_labels=label_encoder.classes_)\n",
        "disp.plot(xticks_rotation='vertical');"
      ],
      "metadata": {
        "id": "LYDYPcL2Zxkp",
        "colab": {
          "base_uri": "https://localhost:8080/",
          "height": 341
        },
        "outputId": "13556c29-64ec-4483-8626-745c221f6cd5"
      },
      "execution_count": 64,
      "outputs": [
        {
          "output_type": "display_data",
          "data": {
            "text/plain": [
              "<Figure size 432x288 with 2 Axes>"
            ],
            "image/png": "[encoded data removed]"
          },
          "metadata": {
            "needs_background": "light"
          }
        }
      ]
    },
    {
      "cell_type": "markdown",
      "source": [
        "Take a look at class imbalance"
      ],
      "metadata": {
        "id": "Xn0Yf9lr5xPU"
      }
    },
    {
      "cell_type": "code",
      "source": [
        "train_df['target'].value_counts() / train_df['target'].value_counts().sum()"
      ],
      "metadata": {
        "colab": {
          "base_uri": "https://localhost:8080/"
        },
        "id": "wl8vKDg3DCeW",
        "outputId": "3bdda4b4-e999-4a59-b449-1187b74875fa"
      },
      "execution_count": 65,
      "outputs": [
        {
          "output_type": "execute_result",
          "data": {
            "text/plain": [
              "METHODS        0.329666\n",
              "RESULTS        0.321890\n",
              "CONCLUSIONS    0.150900\n",
              "BACKGROUND     0.120679\n",
              "OBJECTIVE      0.076866\n",
              "Name: target, dtype: float64"
            ]
          },
          "metadata": {},
          "execution_count": 65
        }
      ]
    },
    {
      "cell_type": "markdown",
      "source": [
        "The \"OBJECTIVE\" class is the most underrepresented class. It is also the class with the most misclassifications. If we take a look at the confusion matrix, we can see that many times the model predicted \"BACKGROUND\" when it should have predicted \"OBJECTIVE\".\n",
        "\n",
        "Let's try to improve this by assigning class weights to the neural network."
      ],
      "metadata": {
        "id": "OCCmrl0659eC"
      }
    },
    {
      "cell_type": "code",
      "source": [
        "class_weights = train_df['target'].value_counts() / train_df['target'].value_counts().sum()\n",
        "class_weights = 1 / class_weights\n",
        "class_weights /= class_weights.sum()\n",
        "class_weights = class_weights.loc[encoder.categories_[0]]\n",
        "class_weights = {k: v for k, v in zip(range(len(class_weights)), class_weights.values)}\n",
        "class_weights"
      ],
      "metadata": {
        "colab": {
          "base_uri": "https://localhost:8080/"
        },
        "id": "x_bAoDq267oC",
        "outputId": "e0d13cc3-5a7c-46f0-db4b-3eb65477a002"
      },
      "execution_count": 66,
      "outputs": [
        {
          "output_type": "execute_result",
          "data": {
            "text/plain": [
              "{0: 0.24326861683112658,\n",
              " 1: 0.19454863213670082,\n",
              " 2: 0.0890518969199516,\n",
              " 3: 0.38192768537393507,\n",
              " 4: 0.091203168738286}"
            ]
          },
          "metadata": {},
          "execution_count": 66
        }
      ]
    },
    {
      "cell_type": "code",
      "source": [
        "# Token embeddings\n",
        "inputs_sentence = tf.keras.layers.Input(shape=[], dtype=tf.string)\n",
        "text_vectorization = text_vectorizer(inputs_sentence)\n",
        "word_embedding = embed_layer(text_vectorization)\n",
        "x_sentence = tf.keras.layers.Conv1D(filters=64, kernel_size=5, padding='same',\n",
        "                                    activation='relu')(word_embedding)\n",
        "x_sentence = tf.keras.layers.GlobalAveragePooling1D()(x_sentence)\n",
        "sentence_model = tf.keras.Model(inputs_sentence,\n",
        "                                x_sentence)\n",
        "\n",
        "# Character embeddings\n",
        "inputs_char = tf.keras.layers.Input(shape=(1,), dtype=tf.string)\n",
        "char_vector = char_vectorizer(inputs_char)\n",
        "char_embed = char_embedding(char_vector)\n",
        "x_char = tf.keras.layers.Bidirectional(tf.keras.layers.LSTM(25))(char_embed)\n",
        "char_model = tf.keras.Model(inputs_char,\n",
        "                            x_char)\n",
        "\n",
        "# Positional model\n",
        "inputs_positional = tf.keras.layers.Input(shape=(17,), dtype=tf.int32)\n",
        "x = tf.keras.layers.Dense(32, activation='relu')(inputs_positional)\n",
        "positional_model = tf.keras.Model(inputs_positional, x)\n",
        "\n",
        "# Concatenate\n",
        "conc_layer = tf.keras.layers.Concatenate()([sentence_model.output,\n",
        "                                            char_model.output,\n",
        "                                            positional_model.output])\n",
        "\n",
        "# Dropout\n",
        "x_dense = tf.keras.layers.Dense(128, activation='relu')(conc_layer)\n",
        "dropout = tf.keras.layers.Dropout(0.5)(x_dense)\n",
        "\n",
        "# Outputs\n",
        "outputs = tf.keras.layers.Dense(5, activation='softmax')(dropout)\n",
        "\n",
        "model_7 = tf.keras.Model([inputs_sentence, inputs_char, inputs_positional],\n",
        "                         outputs)\n",
        "\n",
        "model_7.compile(loss='categorical_crossentropy',\n",
        "                optimizer=tf.keras.optimizers.Adam(),\n",
        "                metrics=['accuracy'])\n",
        "\n",
        "model_7.fit(train_dataset_wad_pos,\n",
        "            epochs=5,\n",
        "            validation_data=val_dataset_wad_pos,\n",
        "            validation_steps=int(0.1*len(val_dataset_wad_pos)),\n",
        "            steps_per_epoch=int(0.1*len(train_dataset_wad_pos)),\n",
        "            callbacks=[create_tensorboard_callback(dir_name='tb_callbacks',\n",
        "                                                   experiment_name='model_7')],\n",
        "            class_weight=class_weights) # assign class weights to tackle the imbalanced problm"
      ],
      "metadata": {
        "colab": {
          "base_uri": "https://localhost:8080/"
        },
        "id": "1b9bUM_M58y5",
        "outputId": "99b7c2ee-b31e-4a8b-f460-db13cad31e85"
      },
      "execution_count": 67,
      "outputs": [
        {
          "output_type": "stream",
          "name": "stdout",
          "text": [
            "Epoch 1/5\n",
            "562/562 [==============================] - 12s 15ms/step - loss: 0.0904 - accuracy: 0.7987 - val_loss: 0.4583 - val_accuracy: 0.8428\n",
            "Epoch 2/5\n",
            "562/562 [==============================] - 8s 14ms/step - loss: 0.0572 - accuracy: 0.8786 - val_loss: 0.4482 - val_accuracy: 0.8351\n",
            "Epoch 3/5\n",
            "562/562 [==============================] - 8s 14ms/step - loss: 0.0544 - accuracy: 0.8854 - val_loss: 0.4448 - val_accuracy: 0.8318\n",
            "Epoch 4/5\n",
            "562/562 [==============================] - 8s 14ms/step - loss: 0.0519 - accuracy: 0.8904 - val_loss: 0.4103 - val_accuracy: 0.8521\n",
            "Epoch 5/5\n",
            "562/562 [==============================] - 8s 14ms/step - loss: 0.0504 - accuracy: 0.8952 - val_loss: 0.4237 - val_accuracy: 0.8424\n"
          ]
        },
        {
          "output_type": "execute_result",
          "data": {
            "text/plain": [
              "<keras.callbacks.History at 0x7f5206dad590>"
            ]
          },
          "metadata": {},
          "execution_count": 67
        }
      ]
    },
    {
      "cell_type": "code",
      "source": [
        "model_7_preds_probs = model_7.predict(val_dataset_wad_pos)\n",
        "model_7_preds = tf.argmax(model_7_preds_probs, axis=1)"
      ],
      "metadata": {
        "id": "lo-rYADVDzi_"
      },
      "execution_count": 68,
      "outputs": []
    },
    {
      "cell_type": "code",
      "source": [
        "model_7_results = calculate_results(y_true=labels_val,\n",
        "                                    y_pred=model_7_preds)\n",
        "model_7_results"
      ],
      "metadata": {
        "colab": {
          "base_uri": "https://localhost:8080/"
        },
        "id": "JQ_XBcEAD1LJ",
        "outputId": "d8e3e24d-7e59-4914-80ab-ff4cfec71edf"
      },
      "execution_count": 69,
      "outputs": [
        {
          "output_type": "execute_result",
          "data": {
            "text/plain": [
              "{'accuracy': 84.0129749768304,\n",
              " 'precision': 0.843446133707912,\n",
              " 'recall': 0.840129749768304,\n",
              " 'f1': 0.8404820752186453}"
            ]
          },
          "metadata": {},
          "execution_count": 69
        }
      ]
    },
    {
      "cell_type": "code",
      "source": [
        "all_model_results = pd.concat([all_model_results,\n",
        "                               pd.DataFrame(model_7_results, index=['model_7'])], axis=0)\n",
        "all_model_results"
      ],
      "metadata": {
        "colab": {
          "base_uri": "https://localhost:8080/",
          "height": 300
        },
        "id": "uvWUK7SKD3rR",
        "outputId": "df17816e-7d00-4c6d-b6f6-5ab5226c9edb"
      },
      "execution_count": 70,
      "outputs": [
        {
          "output_type": "execute_result",
          "data": {
            "text/plain": [
              "                 accuracy  precision    recall        f1\n",
              "baseline_model  72.183238   0.718647  0.721832  0.698925\n",
              "model_1         80.057593   0.800491  0.800576  0.797440\n",
              "model_2         73.464186   0.730549  0.734642  0.728981\n",
              "model_3         62.759831   0.621506  0.627598  0.618570\n",
              "model_4         75.668608   0.753101  0.756686  0.752837\n",
              "model_5         83.456905   0.837790  0.834569  0.831449\n",
              "model_6         85.869853   0.859356  0.858699  0.857063\n",
              "model_7         84.012975   0.843446  0.840130  0.840482"
            ],
            "text/html": [
              "\n",
              "  <div id=\"df-6f307e6e-ac93-429e-bced-08d2ea1a67e8\">\n",
              "    <div class=\"colab-df-container\">\n",
              "      <div>\n",
              "<style scoped>\n",
              "    .dataframe tbody tr th:only-of-type {\n",
              "        vertical-align: middle;\n",
              "    }\n",
              "\n",
              "    .dataframe tbody tr th {\n",
              "        vertical-align: top;\n",
              "    }\n",
              "\n",
              "    .dataframe thead th {\n",
              "        text-align: right;\n",
              "    }\n",
              "</style>\n",
              "<table border=\"1\" class=\"dataframe\">\n",
              "  <thead>\n",
              "    <tr style=\"text-align: right;\">\n",
              "      <th></th>\n",
              "      <th>accuracy</th>\n",
              "      <th>precision</th>\n",
              "      <th>recall</th>\n",
              "      <th>f1</th>\n",
              "    </tr>\n",
              "  </thead>\n",
              "  <tbody>\n",
              "    <tr>\n",
              "      <th>baseline_model</th>\n",
              "      <td>72.183238</td>\n",
              "      <td>0.718647</td>\n",
              "      <td>0.721832</td>\n",
              "      <td>0.698925</td>\n",
              "    </tr>\n",
              "    <tr>\n",
              "      <th>model_1</th>\n",
              "      <td>80.057593</td>\n",
              "      <td>0.800491</td>\n",
              "      <td>0.800576</td>\n",
              "      <td>0.797440</td>\n",
              "    </tr>\n",
              "    <tr>\n",
              "      <th>model_2</th>\n",
              "      <td>73.464186</td>\n",
              "      <td>0.730549</td>\n",
              "      <td>0.734642</td>\n",
              "      <td>0.728981</td>\n",
              "    </tr>\n",
              "    <tr>\n",
              "      <th>model_3</th>\n",
              "      <td>62.759831</td>\n",
              "      <td>0.621506</td>\n",
              "      <td>0.627598</td>\n",
              "      <td>0.618570</td>\n",
              "    </tr>\n",
              "    <tr>\n",
              "      <th>model_4</th>\n",
              "      <td>75.668608</td>\n",
              "      <td>0.753101</td>\n",
              "      <td>0.756686</td>\n",
              "      <td>0.752837</td>\n",
              "    </tr>\n",
              "    <tr>\n",
              "      <th>model_5</th>\n",
              "      <td>83.456905</td>\n",
              "      <td>0.837790</td>\n",
              "      <td>0.834569</td>\n",
              "      <td>0.831449</td>\n",
              "    </tr>\n",
              "    <tr>\n",
              "      <th>model_6</th>\n",
              "      <td>85.869853</td>\n",
              "      <td>0.859356</td>\n",
              "      <td>0.858699</td>\n",
              "      <td>0.857063</td>\n",
              "    </tr>\n",
              "    <tr>\n",
              "      <th>model_7</th>\n",
              "      <td>84.012975</td>\n",
              "      <td>0.843446</td>\n",
              "      <td>0.840130</td>\n",
              "      <td>0.840482</td>\n",
              "    </tr>\n",
              "  </tbody>\n",
              "</table>\n",
              "</div>\n",
              "      <button class=\"colab-df-convert\" onclick=\"convertToInteractive('df-6f307e6e-ac93-429e-bced-08d2ea1a67e8')\"\n",
              "              title=\"Convert this dataframe to an interactive table.\"\n",
              "              style=\"display:none;\">\n",
              "        \n",
              "  <svg xmlns=\"http://www.w3.org/2000/svg\" height=\"24px\"viewBox=\"0 0 24 24\"\n",
              "       width=\"24px\">\n",
              "    <path d=\"M0 0h24v24H0V0z\" fill=\"none\"/>\n",
              "    <path d=\"M18.56 5.44l.94 2.06.94-2.06 2.06-.94-2.06-.94-.94-2.06-.94 2.06-2.06.94zm-11 1L8.5 8.5l.94-2.06 2.06-.94-2.06-.94L8.5 2.5l-.94 2.06-2.06.94zm10 10l.94 2.06.94-2.06 2.06-.94-2.06-.94-.94-2.06-.94 2.06-2.06.94z\"/><path d=\"M17.41 7.96l-1.37-1.37c-.4-.4-.92-.59-1.43-.59-.52 0-1.04.2-1.43.59L10.3 9.45l-7.72 7.72c-.78.78-.78 2.05 0 2.83L4 21.41c.39.39.9.59 1.41.59.51 0 1.02-.2 1.41-.59l7.78-7.78 2.81-2.81c.8-.78.8-2.07 0-2.86zM5.41 20L4 18.59l7.72-7.72 1.47 1.35L5.41 20z\"/>\n",
              "  </svg>\n",
              "      </button>\n",
              "      \n",
              "  <style>\n",
              "    .colab-df-container {\n",
              "      display:flex;\n",
              "      flex-wrap:wrap;\n",
              "      gap: 12px;\n",
              "    }\n",
              "\n",
              "    .colab-df-convert {\n",
              "      background-color: #E8F0FE;\n",
              "      border: none;\n",
              "      border-radius: 50%;\n",
              "      cursor: pointer;\n",
              "      display: none;\n",
              "      fill: #1967D2;\n",
              "      height: 32px;\n",
              "      padding: 0 0 0 0;\n",
              "      width: 32px;\n",
              "    }\n",
              "\n",
              "    .colab-df-convert:hover {\n",
              "      background-color: #E2EBFA;\n",
              "      box-shadow: 0px 1px 2px rgba(60, 64, 67, 0.3), 0px 1px 3px 1px rgba(60, 64, 67, 0.15);\n",
              "      fill: #174EA6;\n",
              "    }\n",
              "\n",
              "    [theme=dark] .colab-df-convert {\n",
              "      background-color: #3B4455;\n",
              "      fill: #D2E3FC;\n",
              "    }\n",
              "\n",
              "    [theme=dark] .colab-df-convert:hover {\n",
              "      background-color: #434B5C;\n",
              "      box-shadow: 0px 1px 3px 1px rgba(0, 0, 0, 0.15);\n",
              "      filter: drop-shadow(0px 1px 2px rgba(0, 0, 0, 0.3));\n",
              "      fill: #FFFFFF;\n",
              "    }\n",
              "  </style>\n",
              "\n",
              "      <script>\n",
              "        const buttonEl =\n",
              "          document.querySelector('#df-6f307e6e-ac93-429e-bced-08d2ea1a67e8 button.colab-df-convert');\n",
              "        buttonEl.style.display =\n",
              "          google.colab.kernel.accessAllowed ? 'block' : 'none';\n",
              "\n",
              "        async function convertToInteractive(key) {\n",
              "          const element = document.querySelector('#df-6f307e6e-ac93-429e-bced-08d2ea1a67e8');\n",
              "          const dataTable =\n",
              "            await google.colab.kernel.invokeFunction('convertToInteractive',\n",
              "                                                     [key], {});\n",
              "          if (!dataTable) return;\n",
              "\n",
              "          const docLinkHtml = 'Like what you see? Visit the ' +\n",
              "            '<a target=\"_blank\" href=https://colab.research.google.com/notebooks/data_table.ipynb>data table notebook</a>'\n",
              "            + ' to learn more about interactive tables.';\n",
              "          element.innerHTML = '';\n",
              "          dataTable['output_type'] = 'display_data';\n",
              "          await google.colab.output.renderOutput(dataTable, element);\n",
              "          const docLink = document.createElement('div');\n",
              "          docLink.innerHTML = docLinkHtml;\n",
              "          element.appendChild(docLink);\n",
              "        }\n",
              "      </script>\n",
              "    </div>\n",
              "  </div>\n",
              "  "
            ]
          },
          "metadata": {},
          "execution_count": 70
        }
      ]
    },
    {
      "cell_type": "code",
      "source": [
        "from sklearn.metrics import ConfusionMatrixDisplay, confusion_matrix\n",
        "cm_ovs = confusion_matrix(labels_val, model_7_preds)\n",
        "disp_ovs = ConfusionMatrixDisplay(cm_ovs, display_labels=label_encoder.classes_)\n",
        "disp.plot(xticks_rotation='vertical')\n",
        "disp_ovs.plot(xticks_rotation='vertical');"
      ],
      "metadata": {
        "colab": {
          "base_uri": "https://localhost:8080/",
          "height": 665
        },
        "id": "T6LTWXpAEF9z",
        "outputId": "252b7313-f787-4aa0-86de-0da84041b8ef"
      },
      "execution_count": 71,
      "outputs": [
        {
          "output_type": "display_data",
          "data": {
            "text/plain": [
              "<Figure size 432x288 with 2 Axes>"
            ],
            "image/png": "[encoded data removed]"
          },
          "metadata": {
            "needs_background": "light"
          }
        },
        {
          "output_type": "display_data",
          "data": {
            "text/plain": [
              "<Figure size 432x288 with 2 Axes>"
            ],
            "image/png": "[encoded data removed]"
          },
          "metadata": {
            "needs_background": "light"
          }
        }
      ]
    },
    {
      "cell_type": "markdown",
      "source": [
        "Even though the OBJECTIVE class had a higher precision, other classes such as RESULTS and BACKGROUND were negatively impacted. For further experiments, we can try oversampling the classes."
      ],
      "metadata": {
        "id": "kMULPyDpFWo_"
      }
    },
    {
      "cell_type": "markdown",
      "source": [
        "**6. Fine tuning**\n",
        "\n",
        "Model 6 was the best performing model. We will proceed to fine-tune it to see if we can improve performance."
      ],
      "metadata": {
        "id": "68O_qWz_Oew4"
      }
    },
    {
      "cell_type": "code",
      "source": [
        "import keras_tuner"
      ],
      "metadata": {
        "id": "T_giRe-uOu8d"
      },
      "execution_count": 73,
      "outputs": []
    },
    {
      "cell_type": "code",
      "source": [
        "def build_model(hp):\n",
        "  # Token embeddings\n",
        "  inputs_sentence = tf.keras.layers.Input(shape=[], dtype=tf.string)\n",
        "  text_vectorization = text_vectorizer(inputs_sentence)\n",
        "  word_embedding = embed_layer(text_vectorization)\n",
        "  x_sentence = tf.keras.layers.Conv1D(filters=hp.Choice('conv1d_filters', [16, 32, 64, 128]), kernel_size=hp.Choice('conv1d_ksize', [3, 5, 7]), padding='same',\n",
        "                                      activation=hp.Choice('conv1d_activation', ['relu', 'elu', 'tanh']))(word_embedding)\n",
        "  x_sentence = tf.keras.layers.GlobalAveragePooling1D()(x_sentence)\n",
        "  sentence_model = tf.keras.Model(inputs_sentence,\n",
        "                                  x_sentence)\n",
        "\n",
        "  # Character embeddings\n",
        "  inputs_char = tf.keras.layers.Input(shape=(1,), dtype=tf.string)\n",
        "  char_vector = char_vectorizer(inputs_char)\n",
        "  char_embed = char_embedding(char_vector)\n",
        "  x_char = tf.keras.layers.Bidirectional(tf.keras.layers.LSTM(hp.Choice('lstm_units', [24, 48, 96])))(char_embed)\n",
        "  char_model = tf.keras.Model(inputs_char,\n",
        "                              x_char)\n",
        "\n",
        "  # Positional model\n",
        "  inputs_positional = tf.keras.layers.Input(shape=(17,), dtype=tf.int32)\n",
        "  x = tf.keras.layers.Dense(hp.Choice('dense1_units', [16, 32, 64, 128]), activation=hp.Choice('dense1_activation', ['relu', 'elu']))(inputs_positional)\n",
        "  positional_model = tf.keras.Model(inputs_positional, x)\n",
        "\n",
        "  # Concatenate\n",
        "  conc_layer = tf.keras.layers.Concatenate()([sentence_model.output,\n",
        "                                              char_model.output,\n",
        "                                              positional_model.output])\n",
        "\n",
        "  # Dropout\n",
        "  x_dense = tf.keras.layers.Dense(hp.Choice('dense2_units', [16, 32, 64, 128]), activation=hp.Choice('dense2_activation', ['relu', 'elu']))(conc_layer)\n",
        "  dropout = tf.keras.layers.Dropout(hp.Choice('dropout_rate', [0.1, 0.2, 0.3, 0.5]))(x_dense)\n",
        "\n",
        "  # Outputs\n",
        "  outputs = tf.keras.layers.Dense(5, activation='softmax')(dropout)\n",
        "\n",
        "  model = tf.keras.Model([inputs_sentence, inputs_char, inputs_positional],\n",
        "                          outputs)\n",
        "  model.compile(loss='categorical_crossentropy',\n",
        "                optimizer=hp.Choice('optimizer', ['adam', 'sgd', 'nadam']),\n",
        "                metrics=['accuracy'])\n",
        "\n",
        "  return model"
      ],
      "metadata": {
        "id": "StdB6zOeR1Hh"
      },
      "execution_count": 74,
      "outputs": []
    },
    {
      "cell_type": "code",
      "source": [
        "tuner = keras_tuner.RandomSearch(\n",
        "    build_model,\n",
        "    objective='val_loss',\n",
        "    max_trials=25,\n",
        "    directory='keras_tuner_dir/',\n",
        "    project_name='paper_classification')"
      ],
      "metadata": {
        "id": "ANJGo20Ovcbq"
      },
      "execution_count": 75,
      "outputs": []
    },
    {
      "cell_type": "code",
      "source": [
        "tuner.search(train_dataset_wad_pos, epochs=5, validation_data=val_dataset_wad_pos)"
      ],
      "metadata": {
        "colab": {
          "base_uri": "https://localhost:8080/"
        },
        "id": "OCSsee8UdaUL",
        "outputId": "886e4045-979b-4bd5-8887-accce1e95564"
      },
      "execution_count": 76,
      "outputs": [
        {
          "output_type": "stream",
          "name": "stdout",
          "text": [
            "Trial 25 Complete [00h 06m 28s]\n",
            "val_loss: 1.7348905801773071\n",
            "\n",
            "Best val_loss So Far: 0.39833948016166687\n",
            "Total elapsed time: 02h 31m 20s\n"
          ]
        }
      ]
    },
    {
      "cell_type": "code",
      "source": [
        "tuner.results_summary()"
      ],
      "metadata": {
        "colab": {
          "base_uri": "https://localhost:8080/"
        },
        "id": "AABnUnu5wQDf",
        "outputId": "ef36e08f-8608-49c3-8315-a7c7d9008b1d"
      },
      "execution_count": 87,
      "outputs": [
        {
          "output_type": "stream",
          "name": "stdout",
          "text": [
            "Results summary\n",
            "Results in keras_tuner_dir/paper_classification\n",
            "Showing 10 best trials\n",
            "<keras_tuner.engine.objective.Objective object at 0x7f5206e85610>\n",
            "Trial summary\n",
            "Hyperparameters:\n",
            "conv1d_filters: 16\n",
            "conv1d_ksize: 3\n",
            "conv1d_activation: tanh\n",
            "lstm_units: 96\n",
            "dense1_units: 32\n",
            "dense1_activation: elu\n",
            "dense2_units: 64\n",
            "dense2_activation: relu\n",
            "dropout_rate: 0.3\n",
            "optimizer: adam\n",
            "Score: 0.39833948016166687\n",
            "Trial summary\n",
            "Hyperparameters:\n",
            "conv1d_filters: 64\n",
            "conv1d_ksize: 5\n",
            "conv1d_activation: relu\n",
            "lstm_units: 24\n",
            "dense1_units: 64\n",
            "dense1_activation: relu\n",
            "dense2_units: 128\n",
            "dense2_activation: elu\n",
            "dropout_rate: 0.3\n",
            "optimizer: sgd\n",
            "Score: 0.4478137493133545\n",
            "Trial summary\n",
            "Hyperparameters:\n",
            "conv1d_filters: 128\n",
            "conv1d_ksize: 7\n",
            "conv1d_activation: relu\n",
            "lstm_units: 24\n",
            "dense1_units: 32\n",
            "dense1_activation: elu\n",
            "dense2_units: 32\n",
            "dense2_activation: relu\n",
            "dropout_rate: 0.3\n",
            "optimizer: sgd\n",
            "Score: 0.473442405462265\n",
            "Trial summary\n",
            "Hyperparameters:\n",
            "conv1d_filters: 64\n",
            "conv1d_ksize: 7\n",
            "conv1d_activation: relu\n",
            "lstm_units: 96\n",
            "dense1_units: 64\n",
            "dense1_activation: elu\n",
            "dense2_units: 64\n",
            "dense2_activation: elu\n",
            "dropout_rate: 0.3\n",
            "optimizer: sgd\n",
            "Score: 0.48336222767829895\n",
            "Trial summary\n",
            "Hyperparameters:\n",
            "conv1d_filters: 32\n",
            "conv1d_ksize: 3\n",
            "conv1d_activation: tanh\n",
            "lstm_units: 24\n",
            "dense1_units: 64\n",
            "dense1_activation: elu\n",
            "dense2_units: 16\n",
            "dense2_activation: elu\n",
            "dropout_rate: 0.1\n",
            "optimizer: sgd\n",
            "Score: 0.4866066873073578\n",
            "Trial summary\n",
            "Hyperparameters:\n",
            "conv1d_filters: 64\n",
            "conv1d_ksize: 5\n",
            "conv1d_activation: elu\n",
            "lstm_units: 48\n",
            "dense1_units: 128\n",
            "dense1_activation: elu\n",
            "dense2_units: 128\n",
            "dense2_activation: relu\n",
            "dropout_rate: 0.1\n",
            "optimizer: sgd\n",
            "Score: 0.48866841197013855\n",
            "Trial summary\n",
            "Hyperparameters:\n",
            "conv1d_filters: 128\n",
            "conv1d_ksize: 7\n",
            "conv1d_activation: relu\n",
            "lstm_units: 48\n",
            "dense1_units: 16\n",
            "dense1_activation: relu\n",
            "dense2_units: 16\n",
            "dense2_activation: relu\n",
            "dropout_rate: 0.3\n",
            "optimizer: sgd\n",
            "Score: 0.5059513449668884\n",
            "Trial summary\n",
            "Hyperparameters:\n",
            "conv1d_filters: 16\n",
            "conv1d_ksize: 7\n",
            "conv1d_activation: relu\n",
            "lstm_units: 24\n",
            "dense1_units: 32\n",
            "dense1_activation: elu\n",
            "dense2_units: 128\n",
            "dense2_activation: relu\n",
            "dropout_rate: 0.2\n",
            "optimizer: adam\n",
            "Score: 0.6288591027259827\n",
            "Trial summary\n",
            "Hyperparameters:\n",
            "conv1d_filters: 16\n",
            "conv1d_ksize: 5\n",
            "conv1d_activation: tanh\n",
            "lstm_units: 24\n",
            "dense1_units: 32\n",
            "dense1_activation: elu\n",
            "dense2_units: 128\n",
            "dense2_activation: elu\n",
            "dropout_rate: 0.2\n",
            "optimizer: nadam\n",
            "Score: 0.6934125423431396\n",
            "Trial summary\n",
            "Hyperparameters:\n",
            "conv1d_filters: 128\n",
            "conv1d_ksize: 5\n",
            "conv1d_activation: tanh\n",
            "lstm_units: 24\n",
            "dense1_units: 128\n",
            "dense1_activation: elu\n",
            "dense2_units: 16\n",
            "dense2_activation: relu\n",
            "dropout_rate: 0.2\n",
            "optimizer: nadam\n",
            "Score: 0.8250613212585449\n"
          ]
        }
      ]
    },
    {
      "cell_type": "code",
      "source": [
        "model_8 = build_model(tuner.get_best_hyperparameters()[0])"
      ],
      "metadata": {
        "id": "bHypHsFNfI-S"
      },
      "execution_count": 126,
      "outputs": []
    },
    {
      "cell_type": "markdown",
      "source": [
        "Lets find the optimal learning rate for this model"
      ],
      "metadata": {
        "id": "-EoHFqbTPATe"
      }
    },
    {
      "cell_type": "code",
      "source": [
        "K = tf.keras.backend\n",
        "class ExponentialLearningRate(tf.keras.callbacks.Callback):\n",
        "    def __init__(self, factor):\n",
        "        self.factor = factor\n",
        "        self.rates = []\n",
        "        self.losses = []\n",
        "    def on_batch_end(self, batch, logs):\n",
        "        self.rates.append(K.get_value(self.model.optimizer.learning_rate))\n",
        "        self.losses.append(logs[\"loss\"])\n",
        "        K.set_value(self.model.optimizer.learning_rate, self.model.optimizer.learning_rate * self.factor)\n",
        "\n",
        "def find_learning_rate(model_iter, train, epochs=1, min_rate=10**-5, max_rate=10, iterations=None):\n",
        "    init_weights = model_iter.get_weights()\n",
        "    iterations = len(train) * epochs if iterations is None else iterations\n",
        "    factor = np.exp(np.log(max_rate / min_rate) / iterations)\n",
        "    init_lr = K.get_value(model_iter.optimizer.learning_rate)\n",
        "    K.set_value(model_iter.optimizer.learning_rate, min_rate)\n",
        "    exp_lr = ExponentialLearningRate(factor)\n",
        "    history = model_iter.fit(train, epochs=epochs, callbacks=[exp_lr])\n",
        "    K.set_value(model_iter.optimizer.learning_rate, init_lr)\n",
        "    model_iter.set_weights(init_weights)\n",
        "    plot_lr_vs_loss(exp_lr.rates, exp_lr.losses)\n",
        "    K.clear_session()\n",
        "\n",
        "def plot_lr_vs_loss(rates, losses):\n",
        "    min_pos = np.where(losses == np.min(losses))[0][0]\n",
        "    min_rate = rates[min_pos]\n",
        "    title=\"Min learning rate: {}\".format(min_rate)\n",
        "    plt.plot(rates, losses)\n",
        "    plt.gca().set_xscale('log')\n",
        "    plt.hlines(min(losses), min(rates), max(rates))\n",
        "    plt.axis([min(rates), max(rates), min(losses), (losses[0] + min(losses)) / 2])\n",
        "    plt.xlabel(\"Learning rate\")\n",
        "    plt.ylabel(\"Loss\")\n",
        "    plt.title(title)\n",
        "    plt.axvline(x=min_rate, c='g', alpha=0.5)\n",
        "    plt.show()\n",
        "    plt.clf();"
      ],
      "metadata": {
        "id": "75YJ0nfoPD0_"
      },
      "execution_count": 103,
      "outputs": []
    },
    {
      "cell_type": "code",
      "source": [
        "find_learning_rate(model_8, train_dataset_wad_pos)"
      ],
      "metadata": {
        "colab": {
          "base_uri": "https://localhost:8080/",
          "height": 334
        },
        "id": "zTTmOG-6PdKX",
        "outputId": "c20ad28d-bcfc-4eaf-9247-c7426f8b9087"
      },
      "execution_count": 96,
      "outputs": [
        {
          "output_type": "stream",
          "name": "stdout",
          "text": [
            "5627/5627 [==============================] - 80s 14ms/step - loss: 2.4640 - accuracy: 0.5634\n"
          ]
        },
        {
          "output_type": "display_data",
          "data": {
            "text/plain": [
              "<Figure size 432x288 with 1 Axes>"
            ],
            "image/png": "[encoded data removed]"
          },
          "metadata": {
            "needs_background": "light"
          }
        },
        {
          "output_type": "display_data",
          "data": {
            "text/plain": [
              "<Figure size 432x288 with 0 Axes>"
            ]
          },
          "metadata": {}
        }
      ]
    },
    {
      "cell_type": "markdown",
      "source": [
        "0.01 seems like an appropriate learning rate"
      ],
      "metadata": {
        "id": "JxMrU0hEv0gx"
      }
    },
    {
      "cell_type": "markdown",
      "source": [
        "Finally, we'll define some callbacks"
      ],
      "metadata": {
        "id": "g-OUmr3vwCz2"
      }
    },
    {
      "cell_type": "code",
      "source": [
        "N_EPOCHS = 100\n",
        "early_stopping = tf.keras.callbacks.EarlyStopping(patience=15, restore_best_weights=True)\n",
        "model_checkpoint = tf.keras.callbacks.ModelCheckpoint('model_8_chpt/model_8', save_best_only=True, monitor='val_loss',\n",
        "                                                      save_weights_only=True)\n",
        "tb_callback = create_tensorboard_callback(dir_name='tb_callbacks', experiment_name='model_8')"
      ],
      "metadata": {
        "id": "RSvjWJdcO_dP"
      },
      "execution_count": 127,
      "outputs": []
    },
    {
      "cell_type": "code",
      "source": [
        "model_8.compile(loss='categorical_crossentropy',\n",
        "                metrics=['accuracy'], \n",
        "                optimizer=tf.keras.optimizers.Adam(learning_rate=0.01, decay=1e-5))\n",
        "\n",
        "history_m8 = model_8.fit(train_dataset_wad_pos, epochs=N_EPOCHS, validation_data=val_dataset_wad_pos,\n",
        "                      callbacks=[model_checkpoint, tb_callback, early_stopping])"
      ],
      "metadata": {
        "colab": {
          "base_uri": "https://localhost:8080/"
        },
        "id": "zxzq3IAQP8pc",
        "outputId": "21bb2ded-0ed5-4403-ead5-0420fde6728d"
      },
      "execution_count": 128,
      "outputs": [
        {
          "output_type": "stream",
          "name": "stdout",
          "text": [
            "Epoch 1/100\n",
            "5627/5627 [==============================] - 79s 13ms/step - loss: 0.5123 - accuracy: 0.8040 - val_loss: 0.4961 - val_accuracy: 0.8165\n",
            "Epoch 2/100\n",
            "5627/5627 [==============================] - 75s 13ms/step - loss: 0.4680 - accuracy: 0.8256 - val_loss: 0.4766 - val_accuracy: 0.8261\n",
            "Epoch 3/100\n",
            "5627/5627 [==============================] - 74s 13ms/step - loss: 0.4571 - accuracy: 0.8316 - val_loss: 0.4836 - val_accuracy: 0.8293\n",
            "Epoch 4/100\n",
            "5627/5627 [==============================] - 75s 13ms/step - loss: 0.4510 - accuracy: 0.8316 - val_loss: 0.4821 - val_accuracy: 0.8286\n",
            "Epoch 5/100\n",
            "5627/5627 [==============================] - 74s 13ms/step - loss: 0.4424 - accuracy: 0.8363 - val_loss: 0.4840 - val_accuracy: 0.8273\n",
            "Epoch 6/100\n",
            "5627/5627 [==============================] - 75s 13ms/step - loss: 0.4375 - accuracy: 0.8385 - val_loss: 0.4696 - val_accuracy: 0.8343\n",
            "Epoch 7/100\n",
            "5627/5627 [==============================] - 75s 13ms/step - loss: 0.4312 - accuracy: 0.8404 - val_loss: 0.4730 - val_accuracy: 0.8299\n",
            "Epoch 8/100\n",
            "5627/5627 [==============================] - 74s 13ms/step - loss: 0.4337 - accuracy: 0.8391 - val_loss: 0.4850 - val_accuracy: 0.8300\n",
            "Epoch 9/100\n",
            "5627/5627 [==============================] - 75s 13ms/step - loss: 0.4291 - accuracy: 0.8422 - val_loss: 0.4693 - val_accuracy: 0.8337\n",
            "Epoch 10/100\n",
            "5627/5627 [==============================] - 75s 13ms/step - loss: 0.4265 - accuracy: 0.8416 - val_loss: 0.4603 - val_accuracy: 0.8351\n",
            "Epoch 11/100\n",
            "5627/5627 [==============================] - 75s 13ms/step - loss: 0.4185 - accuracy: 0.8452 - val_loss: 0.4601 - val_accuracy: 0.8363\n",
            "Epoch 12/100\n",
            "5627/5627 [==============================] - 74s 13ms/step - loss: 0.4140 - accuracy: 0.8480 - val_loss: 0.4881 - val_accuracy: 0.8304\n",
            "Epoch 13/100\n",
            "5627/5627 [==============================] - 74s 13ms/step - loss: 0.4096 - accuracy: 0.8491 - val_loss: 0.4722 - val_accuracy: 0.8343\n",
            "Epoch 14/100\n",
            "5627/5627 [==============================] - 75s 13ms/step - loss: 0.4091 - accuracy: 0.8492 - val_loss: 0.4890 - val_accuracy: 0.8278\n",
            "Epoch 15/100\n",
            "5627/5627 [==============================] - 75s 13ms/step - loss: 0.4058 - accuracy: 0.8512 - val_loss: 0.4670 - val_accuracy: 0.8356\n",
            "Epoch 16/100\n",
            "5627/5627 [==============================] - 74s 13ms/step - loss: 0.4172 - accuracy: 0.8458 - val_loss: 0.4677 - val_accuracy: 0.8369\n",
            "Epoch 17/100\n",
            "5627/5627 [==============================] - 74s 13ms/step - loss: 0.4117 - accuracy: 0.8491 - val_loss: 0.4634 - val_accuracy: 0.8372\n",
            "Epoch 18/100\n",
            "5627/5627 [==============================] - 74s 13ms/step - loss: 0.4149 - accuracy: 0.8479 - val_loss: 0.4812 - val_accuracy: 0.8262\n",
            "Epoch 19/100\n",
            "5627/5627 [==============================] - 75s 13ms/step - loss: 0.4143 - accuracy: 0.8460 - val_loss: 0.4488 - val_accuracy: 0.8434\n",
            "Epoch 20/100\n",
            "5627/5627 [==============================] - 75s 13ms/step - loss: 0.4044 - accuracy: 0.8515 - val_loss: 0.4596 - val_accuracy: 0.8401\n",
            "Epoch 21/100\n",
            "5627/5627 [==============================] - 74s 13ms/step - loss: 0.3992 - accuracy: 0.8540 - val_loss: 0.4533 - val_accuracy: 0.8435\n",
            "Epoch 22/100\n",
            "5627/5627 [==============================] - 74s 13ms/step - loss: 0.3954 - accuracy: 0.8552 - val_loss: 0.4543 - val_accuracy: 0.8427\n",
            "Epoch 23/100\n",
            "5627/5627 [==============================] - 74s 13ms/step - loss: 0.3941 - accuracy: 0.8566 - val_loss: 0.4715 - val_accuracy: 0.8393\n",
            "Epoch 24/100\n",
            "5627/5627 [==============================] - 75s 13ms/step - loss: 0.3930 - accuracy: 0.8566 - val_loss: 0.4668 - val_accuracy: 0.8388\n",
            "Epoch 25/100\n",
            "5627/5627 [==============================] - 75s 13ms/step - loss: 0.3903 - accuracy: 0.8582 - val_loss: 0.4596 - val_accuracy: 0.8404\n",
            "Epoch 26/100\n",
            "5627/5627 [==============================] - 74s 13ms/step - loss: 0.3886 - accuracy: 0.8585 - val_loss: 0.4573 - val_accuracy: 0.8420\n",
            "Epoch 27/100\n",
            "5627/5627 [==============================] - 75s 13ms/step - loss: 0.3965 - accuracy: 0.8558 - val_loss: 0.4444 - val_accuracy: 0.8445\n",
            "Epoch 28/100\n",
            "5627/5627 [==============================] - 75s 13ms/step - loss: 0.3868 - accuracy: 0.8592 - val_loss: 0.4559 - val_accuracy: 0.8443\n",
            "Epoch 29/100\n",
            "5627/5627 [==============================] - 74s 13ms/step - loss: 0.3836 - accuracy: 0.8616 - val_loss: 0.4477 - val_accuracy: 0.8458\n",
            "Epoch 30/100\n",
            "5627/5627 [==============================] - 74s 13ms/step - loss: 0.3806 - accuracy: 0.8620 - val_loss: 0.4475 - val_accuracy: 0.8459\n",
            "Epoch 31/100\n",
            "5627/5627 [==============================] - 75s 13ms/step - loss: 0.3800 - accuracy: 0.8626 - val_loss: 0.4444 - val_accuracy: 0.8457\n",
            "Epoch 32/100\n",
            "5627/5627 [==============================] - 75s 13ms/step - loss: 0.3792 - accuracy: 0.8630 - val_loss: 0.4436 - val_accuracy: 0.8459\n",
            "Epoch 33/100\n",
            "5627/5627 [==============================] - 75s 13ms/step - loss: 0.3843 - accuracy: 0.8613 - val_loss: 0.4568 - val_accuracy: 0.8351\n",
            "Epoch 34/100\n",
            "5627/5627 [==============================] - 74s 13ms/step - loss: 0.3867 - accuracy: 0.8608 - val_loss: 0.4449 - val_accuracy: 0.8470\n",
            "Epoch 35/100\n",
            "5627/5627 [==============================] - 75s 13ms/step - loss: 0.3769 - accuracy: 0.8644 - val_loss: 0.4419 - val_accuracy: 0.8471\n",
            "Epoch 36/100\n",
            "5627/5627 [==============================] - 75s 13ms/step - loss: 0.3749 - accuracy: 0.8650 - val_loss: 0.4372 - val_accuracy: 0.8469\n",
            "Epoch 37/100\n",
            "5627/5627 [==============================] - 74s 13ms/step - loss: 0.3862 - accuracy: 0.8612 - val_loss: 0.4421 - val_accuracy: 0.8442\n",
            "Epoch 38/100\n",
            "5627/5627 [==============================] - 74s 13ms/step - loss: 0.3743 - accuracy: 0.8651 - val_loss: 0.4420 - val_accuracy: 0.8457\n",
            "Epoch 39/100\n",
            "5627/5627 [==============================] - 75s 13ms/step - loss: 0.3721 - accuracy: 0.8657 - val_loss: 0.4401 - val_accuracy: 0.8471\n",
            "Epoch 40/100\n",
            "5627/5627 [==============================] - 75s 13ms/step - loss: 0.3694 - accuracy: 0.8670 - val_loss: 0.4427 - val_accuracy: 0.8464\n",
            "Epoch 41/100\n",
            "5627/5627 [==============================] - 75s 13ms/step - loss: 0.3853 - accuracy: 0.8614 - val_loss: 0.4409 - val_accuracy: 0.8461\n",
            "Epoch 42/100\n",
            "5627/5627 [==============================] - 74s 13ms/step - loss: 0.3736 - accuracy: 0.8656 - val_loss: 0.4392 - val_accuracy: 0.8476\n",
            "Epoch 43/100\n",
            "5627/5627 [==============================] - 75s 13ms/step - loss: 0.3688 - accuracy: 0.8667 - val_loss: 0.4339 - val_accuracy: 0.8492\n",
            "Epoch 44/100\n",
            "5627/5627 [==============================] - 75s 13ms/step - loss: 0.3679 - accuracy: 0.8673 - val_loss: 0.4393 - val_accuracy: 0.8484\n",
            "Epoch 45/100\n",
            "5627/5627 [==============================] - 74s 13ms/step - loss: 0.3666 - accuracy: 0.8685 - val_loss: 0.4344 - val_accuracy: 0.8493\n",
            "Epoch 46/100\n",
            "5627/5627 [==============================] - 75s 13ms/step - loss: 0.3820 - accuracy: 0.8618 - val_loss: 0.4427 - val_accuracy: 0.8448\n",
            "Epoch 47/100\n",
            "5627/5627 [==============================] - 75s 13ms/step - loss: 0.3793 - accuracy: 0.8628 - val_loss: 0.4297 - val_accuracy: 0.8481\n",
            "Epoch 48/100\n",
            "5627/5627 [==============================] - 74s 13ms/step - loss: 0.3700 - accuracy: 0.8667 - val_loss: 0.4314 - val_accuracy: 0.8501\n",
            "Epoch 49/100\n",
            "5627/5627 [==============================] - 75s 13ms/step - loss: 0.3670 - accuracy: 0.8677 - val_loss: 0.4360 - val_accuracy: 0.8472\n",
            "Epoch 50/100\n",
            "5627/5627 [==============================] - 75s 13ms/step - loss: 0.3662 - accuracy: 0.8679 - val_loss: 0.4332 - val_accuracy: 0.8479\n",
            "Epoch 51/100\n",
            "5627/5627 [==============================] - 74s 13ms/step - loss: 0.3641 - accuracy: 0.8691 - val_loss: 0.4319 - val_accuracy: 0.8480\n",
            "Epoch 52/100\n",
            "5627/5627 [==============================] - 75s 13ms/step - loss: 0.3638 - accuracy: 0.8703 - val_loss: 0.4326 - val_accuracy: 0.8480\n",
            "Epoch 53/100\n",
            "5627/5627 [==============================] - 75s 13ms/step - loss: 0.3622 - accuracy: 0.8696 - val_loss: 0.4282 - val_accuracy: 0.8502\n",
            "Epoch 54/100\n",
            "5627/5627 [==============================] - 75s 13ms/step - loss: 0.3608 - accuracy: 0.8706 - val_loss: 0.4244 - val_accuracy: 0.8502\n",
            "Epoch 55/100\n",
            "5627/5627 [==============================] - 75s 13ms/step - loss: 0.3599 - accuracy: 0.8706 - val_loss: 0.4297 - val_accuracy: 0.8491\n",
            "Epoch 56/100\n",
            "5627/5627 [==============================] - 74s 13ms/step - loss: 0.3603 - accuracy: 0.8705 - val_loss: 0.4324 - val_accuracy: 0.8485\n",
            "Epoch 57/100\n",
            "5627/5627 [==============================] - 75s 13ms/step - loss: 0.3948 - accuracy: 0.8577 - val_loss: 0.4403 - val_accuracy: 0.8453\n",
            "Epoch 58/100\n",
            "5627/5627 [==============================] - 74s 13ms/step - loss: 0.3690 - accuracy: 0.8662 - val_loss: 0.4370 - val_accuracy: 0.8480\n",
            "Epoch 59/100\n",
            "5627/5627 [==============================] - 74s 13ms/step - loss: 0.3629 - accuracy: 0.8687 - val_loss: 0.4274 - val_accuracy: 0.8514\n",
            "Epoch 60/100\n",
            "5627/5627 [==============================] - 74s 13ms/step - loss: 0.3618 - accuracy: 0.8689 - val_loss: 0.4268 - val_accuracy: 0.8494\n",
            "Epoch 61/100\n",
            "5627/5627 [==============================] - 75s 13ms/step - loss: 0.3600 - accuracy: 0.8698 - val_loss: 0.4387 - val_accuracy: 0.8469\n",
            "Epoch 62/100\n",
            "5627/5627 [==============================] - 75s 13ms/step - loss: 0.3580 - accuracy: 0.8701 - val_loss: 0.4293 - val_accuracy: 0.8499\n",
            "Epoch 63/100\n",
            "5627/5627 [==============================] - 75s 13ms/step - loss: 0.3615 - accuracy: 0.8697 - val_loss: 0.4857 - val_accuracy: 0.8312\n",
            "Epoch 64/100\n",
            "5627/5627 [==============================] - 75s 13ms/step - loss: 0.3754 - accuracy: 0.8634 - val_loss: 0.4348 - val_accuracy: 0.8481\n",
            "Epoch 65/100\n",
            "5627/5627 [==============================] - 75s 13ms/step - loss: 0.3662 - accuracy: 0.8679 - val_loss: 0.4375 - val_accuracy: 0.8476\n",
            "Epoch 66/100\n",
            "5627/5627 [==============================] - 75s 13ms/step - loss: 0.3623 - accuracy: 0.8689 - val_loss: 0.4316 - val_accuracy: 0.8500\n",
            "Epoch 67/100\n",
            "5627/5627 [==============================] - 75s 13ms/step - loss: 0.3590 - accuracy: 0.8706 - val_loss: 0.4377 - val_accuracy: 0.8491\n",
            "Epoch 68/100\n",
            "5627/5627 [==============================] - 74s 13ms/step - loss: 0.3599 - accuracy: 0.8709 - val_loss: 0.4353 - val_accuracy: 0.8504\n",
            "Epoch 69/100\n",
            "5627/5627 [==============================] - 75s 13ms/step - loss: 0.3571 - accuracy: 0.8712 - val_loss: 0.4350 - val_accuracy: 0.8503\n"
          ]
        }
      ]
    },
    {
      "cell_type": "code",
      "source": [
        "model_8_preds_probs = model_8.predict(val_dataset_wad_pos)\n",
        "model_8_preds = tf.argmax(model_8_preds_probs, axis=1)"
      ],
      "metadata": {
        "id": "KpJJj_OvQtjQ"
      },
      "execution_count": 129,
      "outputs": []
    },
    {
      "cell_type": "code",
      "source": [
        "model_8_results = calculate_results(y_true=labels_val,\n",
        "                                    y_pred=model_8_preds)\n",
        "model_8_results"
      ],
      "metadata": {
        "colab": {
          "base_uri": "https://localhost:8080/"
        },
        "id": "FjCp1ZntQwDK",
        "outputId": "bbc61ab8-c0b2-47ff-fb6a-d1be749b0d93"
      },
      "execution_count": 130,
      "outputs": [
        {
          "output_type": "execute_result",
          "data": {
            "text/plain": [
              "{'accuracy': 85.0158877267311,\n",
              " 'precision': 0.8531088135946695,\n",
              " 'recall': 0.850158877267311,\n",
              " 'f1': 0.846733674896619}"
            ]
          },
          "metadata": {},
          "execution_count": 130
        }
      ]
    },
    {
      "cell_type": "code",
      "source": [
        "all_model_results = pd.concat([all_model_results,\n",
        "                               pd.DataFrame(model_8_results, index=['model_8'])], axis=0)\n",
        "all_model_results"
      ],
      "metadata": {
        "colab": {
          "base_uri": "https://localhost:8080/",
          "height": 332
        },
        "id": "bPCfFl9gQymE",
        "outputId": "191ca43e-8114-4a75-a20f-28a69810bc36"
      },
      "execution_count": 138,
      "outputs": [
        {
          "output_type": "execute_result",
          "data": {
            "text/plain": [
              "                 accuracy  precision    recall        f1\n",
              "baseline_model  72.183238   0.718647  0.721832  0.698925\n",
              "model_1         80.057593   0.800491  0.800576  0.797440\n",
              "model_2         73.464186   0.730549  0.734642  0.728981\n",
              "model_3         62.759831   0.621506  0.627598  0.618570\n",
              "model_4         75.668608   0.753101  0.756686  0.752837\n",
              "model_5         83.456905   0.837790  0.834569  0.831449\n",
              "model_6         85.869853   0.859356  0.858699  0.857063\n",
              "model_7         84.012975   0.843446  0.840130  0.840482\n",
              "model_8         85.015888   0.853109  0.850159  0.846734"
            ],
            "text/html": [
              "\n",
              "  <div id=\"df-5dec8eea-7086-4e4b-8805-b300f417d8fa\">\n",
              "    <div class=\"colab-df-container\">\n",
              "      <div>\n",
              "<style scoped>\n",
              "    .dataframe tbody tr th:only-of-type {\n",
              "        vertical-align: middle;\n",
              "    }\n",
              "\n",
              "    .dataframe tbody tr th {\n",
              "        vertical-align: top;\n",
              "    }\n",
              "\n",
              "    .dataframe thead th {\n",
              "        text-align: right;\n",
              "    }\n",
              "</style>\n",
              "<table border=\"1\" class=\"dataframe\">\n",
              "  <thead>\n",
              "    <tr style=\"text-align: right;\">\n",
              "      <th></th>\n",
              "      <th>accuracy</th>\n",
              "      <th>precision</th>\n",
              "      <th>recall</th>\n",
              "      <th>f1</th>\n",
              "    </tr>\n",
              "  </thead>\n",
              "  <tbody>\n",
              "    <tr>\n",
              "      <th>baseline_model</th>\n",
              "      <td>72.183238</td>\n",
              "      <td>0.718647</td>\n",
              "      <td>0.721832</td>\n",
              "      <td>0.698925</td>\n",
              "    </tr>\n",
              "    <tr>\n",
              "      <th>model_1</th>\n",
              "      <td>80.057593</td>\n",
              "      <td>0.800491</td>\n",
              "      <td>0.800576</td>\n",
              "      <td>0.797440</td>\n",
              "    </tr>\n",
              "    <tr>\n",
              "      <th>model_2</th>\n",
              "      <td>73.464186</td>\n",
              "      <td>0.730549</td>\n",
              "      <td>0.734642</td>\n",
              "      <td>0.728981</td>\n",
              "    </tr>\n",
              "    <tr>\n",
              "      <th>model_3</th>\n",
              "      <td>62.759831</td>\n",
              "      <td>0.621506</td>\n",
              "      <td>0.627598</td>\n",
              "      <td>0.618570</td>\n",
              "    </tr>\n",
              "    <tr>\n",
              "      <th>model_4</th>\n",
              "      <td>75.668608</td>\n",
              "      <td>0.753101</td>\n",
              "      <td>0.756686</td>\n",
              "      <td>0.752837</td>\n",
              "    </tr>\n",
              "    <tr>\n",
              "      <th>model_5</th>\n",
              "      <td>83.456905</td>\n",
              "      <td>0.837790</td>\n",
              "      <td>0.834569</td>\n",
              "      <td>0.831449</td>\n",
              "    </tr>\n",
              "    <tr>\n",
              "      <th>model_6</th>\n",
              "      <td>85.869853</td>\n",
              "      <td>0.859356</td>\n",
              "      <td>0.858699</td>\n",
              "      <td>0.857063</td>\n",
              "    </tr>\n",
              "    <tr>\n",
              "      <th>model_7</th>\n",
              "      <td>84.012975</td>\n",
              "      <td>0.843446</td>\n",
              "      <td>0.840130</td>\n",
              "      <td>0.840482</td>\n",
              "    </tr>\n",
              "    <tr>\n",
              "      <th>model_8</th>\n",
              "      <td>85.015888</td>\n",
              "      <td>0.853109</td>\n",
              "      <td>0.850159</td>\n",
              "      <td>0.846734</td>\n",
              "    </tr>\n",
              "  </tbody>\n",
              "</table>\n",
              "</div>\n",
              "      <button class=\"colab-df-convert\" onclick=\"convertToInteractive('df-5dec8eea-7086-4e4b-8805-b300f417d8fa')\"\n",
              "              title=\"Convert this dataframe to an interactive table.\"\n",
              "              style=\"display:none;\">\n",
              "        \n",
              "  <svg xmlns=\"http://www.w3.org/2000/svg\" height=\"24px\"viewBox=\"0 0 24 24\"\n",
              "       width=\"24px\">\n",
              "    <path d=\"M0 0h24v24H0V0z\" fill=\"none\"/>\n",
              "    <path d=\"M18.56 5.44l.94 2.06.94-2.06 2.06-.94-2.06-.94-.94-2.06-.94 2.06-2.06.94zm-11 1L8.5 8.5l.94-2.06 2.06-.94-2.06-.94L8.5 2.5l-.94 2.06-2.06.94zm10 10l.94 2.06.94-2.06 2.06-.94-2.06-.94-.94-2.06-.94 2.06-2.06.94z\"/><path d=\"M17.41 7.96l-1.37-1.37c-.4-.4-.92-.59-1.43-.59-.52 0-1.04.2-1.43.59L10.3 9.45l-7.72 7.72c-.78.78-.78 2.05 0 2.83L4 21.41c.39.39.9.59 1.41.59.51 0 1.02-.2 1.41-.59l7.78-7.78 2.81-2.81c.8-.78.8-2.07 0-2.86zM5.41 20L4 18.59l7.72-7.72 1.47 1.35L5.41 20z\"/>\n",
              "  </svg>\n",
              "      </button>\n",
              "      \n",
              "  <style>\n",
              "    .colab-df-container {\n",
              "      display:flex;\n",
              "      flex-wrap:wrap;\n",
              "      gap: 12px;\n",
              "    }\n",
              "\n",
              "    .colab-df-convert {\n",
              "      background-color: #E8F0FE;\n",
              "      border: none;\n",
              "      border-radius: 50%;\n",
              "      cursor: pointer;\n",
              "      display: none;\n",
              "      fill: #1967D2;\n",
              "      height: 32px;\n",
              "      padding: 0 0 0 0;\n",
              "      width: 32px;\n",
              "    }\n",
              "\n",
              "    .colab-df-convert:hover {\n",
              "      background-color: #E2EBFA;\n",
              "      box-shadow: 0px 1px 2px rgba(60, 64, 67, 0.3), 0px 1px 3px 1px rgba(60, 64, 67, 0.15);\n",
              "      fill: #174EA6;\n",
              "    }\n",
              "\n",
              "    [theme=dark] .colab-df-convert {\n",
              "      background-color: #3B4455;\n",
              "      fill: #D2E3FC;\n",
              "    }\n",
              "\n",
              "    [theme=dark] .colab-df-convert:hover {\n",
              "      background-color: #434B5C;\n",
              "      box-shadow: 0px 1px 3px 1px rgba(0, 0, 0, 0.15);\n",
              "      filter: drop-shadow(0px 1px 2px rgba(0, 0, 0, 0.3));\n",
              "      fill: #FFFFFF;\n",
              "    }\n",
              "  </style>\n",
              "\n",
              "      <script>\n",
              "        const buttonEl =\n",
              "          document.querySelector('#df-5dec8eea-7086-4e4b-8805-b300f417d8fa button.colab-df-convert');\n",
              "        buttonEl.style.display =\n",
              "          google.colab.kernel.accessAllowed ? 'block' : 'none';\n",
              "\n",
              "        async function convertToInteractive(key) {\n",
              "          const element = document.querySelector('#df-5dec8eea-7086-4e4b-8805-b300f417d8fa');\n",
              "          const dataTable =\n",
              "            await google.colab.kernel.invokeFunction('convertToInteractive',\n",
              "                                                     [key], {});\n",
              "          if (!dataTable) return;\n",
              "\n",
              "          const docLinkHtml = 'Like what you see? Visit the ' +\n",
              "            '<a target=\"_blank\" href=https://colab.research.google.com/notebooks/data_table.ipynb>data table notebook</a>'\n",
              "            + ' to learn more about interactive tables.';\n",
              "          element.innerHTML = '';\n",
              "          dataTable['output_type'] = 'display_data';\n",
              "          await google.colab.output.renderOutput(dataTable, element);\n",
              "          const docLink = document.createElement('div');\n",
              "          docLink.innerHTML = docLinkHtml;\n",
              "          element.appendChild(docLink);\n",
              "        }\n",
              "      </script>\n",
              "    </div>\n",
              "  </div>\n",
              "  "
            ]
          },
          "metadata": {},
          "execution_count": 138
        }
      ]
    },
    {
      "cell_type": "markdown",
      "source": [
        "Great! We managed to slightly improve all metrics with model 8."
      ],
      "metadata": {
        "id": "B0mIzaUEJJaC"
      }
    },
    {
      "cell_type": "markdown",
      "source": [
        "Finally, lets test our model on the test set"
      ],
      "metadata": {
        "id": "BAcv4QGIJX3M"
      }
    },
    {
      "cell_type": "code",
      "source": [
        "model_8_preds_probs_test = model_8.predict(test_dataset_wad_pos)\n",
        "model_8_preds_test = tf.argmax(model_8_preds_probs_test, axis=1)"
      ],
      "metadata": {
        "id": "5-WodOf6JcN6"
      },
      "execution_count": 139,
      "outputs": []
    },
    {
      "cell_type": "code",
      "source": [
        "model_8_results = calculate_results(y_true=labels_test,\n",
        "                                    y_pred=model_8_preds_test)\n",
        "model_8_results"
      ],
      "metadata": {
        "colab": {
          "base_uri": "https://localhost:8080/"
        },
        "id": "btM_HWxQJZNx",
        "outputId": "5e8ba1c3-bf7c-4db3-af4c-407a9a2f8f15"
      },
      "execution_count": 140,
      "outputs": [
        {
          "output_type": "execute_result",
          "data": {
            "text/plain": [
              "{'accuracy': 84.7054919528787,\n",
              " 'precision': 0.848931103404574,\n",
              " 'recall': 0.8470549195287871,\n",
              " 'f1': 0.8434298385820616}"
            ]
          },
          "metadata": {},
          "execution_count": 140
        }
      ]
    },
    {
      "cell_type": "markdown",
      "source": [
        "Performance on the test set is very similar to that on the validation set. We have a good performing model which significantly outperformed our baseline model.\n",
        "\n",
        "For further experiments, we could fit this model on the complete dataset."
      ],
      "metadata": {
        "id": "5MdNKL5aK83a"
      }
    }
  ],
  "metadata": {
    "colab": {
      "provenance": [],
      "collapsed_sections": [],
      "machine_shape": "hm"
    },
    "kernelspec": {
      "display_name": "Python 3",
      "name": "python3"
    },
    "language_info": {
      "name": "python"
    },
    "accelerator": "GPU",
    "gpuClass": "standard"
  },
  "nbformat": 4,
  "nbformat_minor": 0
}