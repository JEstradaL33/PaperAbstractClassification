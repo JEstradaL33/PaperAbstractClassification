{
  "cells": [
    {
      "cell_type": "markdown",
      "source": [
        "**Data science project**\n",
        "\n",
        "Making medical papers abstracts easier to read."
      ],
      "metadata": {
        "id": "1LUoQ-xkrCyS"
      }
    },
    {
      "cell_type": "markdown",
      "source": [
        "Helper functions"
      ],
      "metadata": {
        "id": "fkUBE7j80cIv"
      }
    },
    {
      "cell_type": "code",
      "source": [
        "!pip install imblearn"
      ],
      "metadata": {
        "colab": {
          "base_uri": "https://localhost:8080/"
        },
        "id": "PkrW_9_U_CEc",
        "outputId": "0e0b9f41-a724-4f91-f9b5-7c5caec11dbc"
      },
      "execution_count": 73,
      "outputs": [
        {
          "output_type": "stream",
          "name": "stdout",
          "text": [
            "Looking in indexes: https://pypi.org/simple, https://us-python.pkg.dev/colab-wheels/public/simple/\n",
            "Requirement already satisfied: imblearn in /usr/local/lib/python3.7/dist-packages (0.0)\n",
            "Requirement already satisfied: imbalanced-learn in /usr/local/lib/python3.7/dist-packages (from imblearn) (0.8.1)\n",
            "Requirement already satisfied: numpy>=1.13.3 in /usr/local/lib/python3.7/dist-packages (from imbalanced-learn->imblearn) (1.21.6)\n",
            "Requirement already satisfied: scikit-learn>=0.24 in /usr/local/lib/python3.7/dist-packages (from imbalanced-learn->imblearn) (1.0.2)\n",
            "Requirement already satisfied: scipy>=0.19.1 in /usr/local/lib/python3.7/dist-packages (from imbalanced-learn->imblearn) (1.7.3)\n",
            "Requirement already satisfied: joblib>=0.11 in /usr/local/lib/python3.7/dist-packages (from imbalanced-learn->imblearn) (1.1.0)\n",
            "Requirement already satisfied: threadpoolctl>=2.0.0 in /usr/local/lib/python3.7/dist-packages (from scikit-learn>=0.24->imbalanced-learn->imblearn) (3.1.0)\n"
          ]
        }
      ]
    },
    {
      "cell_type": "code",
      "source": [
        "from sklearn.metrics import accuracy_score, precision_recall_fscore_support\n",
        "import datetime\n",
        "import tensorflow_hub as hub"
      ],
      "metadata": {
        "id": "cbSgKiS0jg8m"
      },
      "execution_count": 74,
      "outputs": []
    },
    {
      "cell_type": "code",
      "source": [
        "def create_tensorboard_callback(dir_name, experiment_name):\n",
        "  return tf.keras.callbacks.TensorBoard(dir_name + '/' + experiment_name + '/' + datetime.datetime.now().strftime('%Y%m%d %H%M%S'))"
      ],
      "metadata": {
        "id": "ERo15eUJ5mNo"
      },
      "execution_count": 75,
      "outputs": []
    },
    {
      "cell_type": "code",
      "source": [
        "def preprocess_text_data(document):\n",
        "\n",
        "  \"\"\"\n",
        "  Receives a corpus of text and preprocesses the data.\n",
        "  Returns a pd.DataFrame with the following columns:\n",
        "    - line_number: the number of the line in the abstract\n",
        "    - total_lines: total number of lines in the abstract\n",
        "    - target: class the line belongs to\n",
        "    - text: text in line\n",
        "  \"\"\"\n",
        "\n",
        "  abstract_lines = ''\n",
        "  output_list = []\n",
        "\n",
        "  for line in document:\n",
        "    if line.startswith(\"###\"):\n",
        "      abstract_lines = ''\n",
        "    elif line.isspace():\n",
        "      split_text = abstract_lines.splitlines()\n",
        "      number_of_lines = len(split_text)\n",
        "      for i, ab_line in enumerate(split_text):\n",
        "        ab_line_dict = {}\n",
        "        ab_line_dict['line_number'] = i + 1\n",
        "        ab_line_dict['total_lines'] = number_of_lines\n",
        "        ab_line_dict['target'] = ab_line.split('\\t')[0]\n",
        "        ab_line_dict['text'] = ab_line.split('\\t')[1]\n",
        "        output_list.append(ab_line_dict)\n",
        "    else:\n",
        "      abstract_lines += line\n",
        "  \n",
        "  return output_list"
      ],
      "metadata": {
        "id": "ax4-01n7v153"
      },
      "execution_count": 76,
      "outputs": []
    },
    {
      "cell_type": "code",
      "source": [
        "def calculate_results(y_true, y_pred):\n",
        "  \"\"\"\n",
        "  Calculates model accuracy, precision, recall and f1 score of a binary classification model.\n",
        "  Args:\n",
        "      y_true: true labels in the form of a 1D array\n",
        "      y_pred: predicted labels in the form of a 1D array\n",
        "  Returns a dictionary of accuracy, precision, recall, f1-score.\n",
        "  \"\"\"\n",
        "  # Calculate model accuracy\n",
        "  model_accuracy = accuracy_score(y_true, y_pred) * 100\n",
        "  # Calculate model precision, recall and f1 score using \"weighted average\n",
        "  model_precision, model_recall, model_f1, _ = precision_recall_fscore_support(y_true, y_pred, average=\"weighted\")\n",
        "  model_results = {\"accuracy\": model_accuracy,\n",
        "                  \"precision\": model_precision,\n",
        "                  \"recall\": model_recall,\n",
        "                  \"f1\": model_f1}\n",
        "  return model_results"
      ],
      "metadata": {
        "id": "r0uLAKn9q6fr"
      },
      "execution_count": 77,
      "outputs": []
    },
    {
      "cell_type": "markdown",
      "source": [
        "**1. Problem definition**\n",
        "\n",
        "Abstracts are concise summaries of research papers. Text in an abstract can generally be categorized in one of the following:\n",
        "\n",
        "1.   Background\n",
        "2.   Objective\n",
        "3.   Methods\n",
        "4.   Results\n",
        "5.   Conclusions\n",
        "\n",
        "This project aims to partly replicate the 2017 paper https://arxiv.org/abs/1710.06071, in which the authors used NLP methods to classify lines in an abstract in one of the five categories, making it easier to read.\n",
        "\n"
      ],
      "metadata": {
        "id": "GBmyVpKCqxUX"
      }
    },
    {
      "cell_type": "markdown",
      "source": [
        "**2. Determining the necessary data**\n",
        "\n",
        "To replicate the paper, we'll need the dataset that the authors prepared and worked on. It can be found on the following github repository: https://github.com/Franck-Dernoncourt/pubmed-rct.git.\n",
        "\n",
        "There are four datasets:\n",
        "\n",
        "\n",
        "\n",
        "1.   Complete dataset with 200,000 instances\n",
        "2.   Sample dataset with 20,000 instances\n",
        "\n",
        "Both datasets come in raw format and with numeric characters replaced with the at sign.\n"
      ],
      "metadata": {
        "id": "zULncMToss99"
      }
    },
    {
      "cell_type": "markdown",
      "source": [
        "**3. Getting/Inspecting the data**\n",
        "\n",
        "To start experimenting, we will use the 20k dataset first, then scale up to the complete dataset once we have a good model."
      ],
      "metadata": {
        "id": "PsLC7TGftB_o"
      }
    },
    {
      "cell_type": "code",
      "source": [
        "!git clone https://github.com/Franck-Dernoncourt/pubmed-rct.git"
      ],
      "metadata": {
        "colab": {
          "base_uri": "https://localhost:8080/"
        },
        "id": "nZmSA-bPtGlk",
        "outputId": "00c8f597-aca5-4bef-e94c-d89142469a7f"
      },
      "execution_count": 78,
      "outputs": [
        {
          "output_type": "stream",
          "name": "stdout",
          "text": [
            "fatal: destination path 'pubmed-rct' already exists and is not an empty directory.\n"
          ]
        }
      ]
    },
    {
      "cell_type": "code",
      "execution_count": 79,
      "metadata": {
        "id": "R__mYz9uPLCS"
      },
      "outputs": [],
      "source": [
        "def read_file(filepath):\n",
        "  with open(filepath, 'r') as read:\n",
        "    return read.readlines()"
      ]
    },
    {
      "cell_type": "code",
      "source": [
        "root_dir_20k = '/content/pubmed-rct/PubMed_20k_RCT_numbers_replaced_with_at_sign'\n",
        "\n",
        "train = read_file(root_dir_20k + '/train.txt')\n",
        "val = read_file(root_dir_20k + '/dev.txt')\n",
        "test = read_file(root_dir_20k + '/test.txt')"
      ],
      "metadata": {
        "id": "iIFw6FTYk6Zi"
      },
      "execution_count": 80,
      "outputs": []
    },
    {
      "cell_type": "code",
      "source": [
        "total_instances = len(train) + len(val) + len(test)\n",
        "print(\"Instances in training dataset: {}, {:.1%} of total\".format(len(train), len(train) / total_instances))\n",
        "print(\"Instances in validation dataset: {}, {:.1%} of total\".format(len(val), len(val) / total_instances))\n",
        "print(\"Instances in testing dataset: {}, {:.1%} of total\".format(len(test), len(test) / total_instances))"
      ],
      "metadata": {
        "colab": {
          "base_uri": "https://localhost:8080/"
        },
        "id": "O2kq4_WQtpyn",
        "outputId": "396e6f41-1ba0-487b-f446-e6f19f381efc"
      },
      "execution_count": 81,
      "outputs": [
        {
          "output_type": "stream",
          "name": "stdout",
          "text": [
            "Instances in training dataset: 210040, 74.9% of total\n",
            "Instances in validation dataset: 35212, 12.6% of total\n",
            "Instances in testing dataset: 35135, 12.5% of total\n"
          ]
        }
      ]
    },
    {
      "cell_type": "code",
      "source": [
        "train[:20]"
      ],
      "metadata": {
        "colab": {
          "base_uri": "https://localhost:8080/"
        },
        "id": "WXL_VVEetpwb",
        "outputId": "3d58e9ec-0b23-4101-e303-f5b6785b32d5"
      },
      "execution_count": 82,
      "outputs": [
        {
          "output_type": "execute_result",
          "data": {
            "text/plain": [
              "['###24293578\\n',\n",
              " 'OBJECTIVE\\tTo investigate the efficacy of @ weeks of daily low-dose oral prednisolone in improving pain , mobility , and systemic low-grade inflammation in the short term and whether the effect would be sustained at @ weeks in older adults with moderate to severe knee osteoarthritis ( OA ) .\\n',\n",
              " 'METHODS\\tA total of @ patients with primary knee OA were randomized @:@ ; @ received @ mg/day of prednisolone and @ received placebo for @ weeks .\\n',\n",
              " 'METHODS\\tOutcome measures included pain reduction and improvement in function scores and systemic inflammation markers .\\n',\n",
              " 'METHODS\\tPain was assessed using the visual analog pain scale ( @-@ mm ) .\\n',\n",
              " 'METHODS\\tSecondary outcome measures included the Western Ontario and McMaster Universities Osteoarthritis Index scores , patient global assessment ( PGA ) of the severity of knee OA , and @-min walk distance ( @MWD ) .\\n',\n",
              " 'METHODS\\tSerum levels of interleukin @ ( IL-@ ) , IL-@ , tumor necrosis factor ( TNF ) - , and high-sensitivity C-reactive protein ( hsCRP ) were measured .\\n',\n",
              " 'RESULTS\\tThere was a clinically relevant reduction in the intervention group compared to the placebo group for knee pain , physical function , PGA , and @MWD at @ weeks .\\n',\n",
              " 'RESULTS\\tThe mean difference between treatment arms ( @ % CI ) was @ ( @-@ @ ) , p < @ ; @ ( @-@ @ ) , p < @ ; @ ( @-@ @ ) , p < @ ; and @ ( @-@ @ ) , p < @ , respectively .\\n',\n",
              " 'RESULTS\\tFurther , there was a clinically relevant reduction in the serum levels of IL-@ , IL-@ , TNF - , and hsCRP at @ weeks in the intervention group when compared to the placebo group .\\n',\n",
              " 'RESULTS\\tThese differences remained significant at @ weeks .\\n',\n",
              " 'RESULTS\\tThe Outcome Measures in Rheumatology Clinical Trials-Osteoarthritis Research Society International responder rate was @ % in the intervention group and @ % in the placebo group ( p < @ ) .\\n',\n",
              " 'CONCLUSIONS\\tLow-dose oral prednisolone had both a short-term and a longer sustained effect resulting in less knee pain , better physical function , and attenuation of systemic inflammation in older patients with knee OA ( ClinicalTrials.gov identifier NCT@ ) .\\n',\n",
              " '\\n',\n",
              " '###24854809\\n',\n",
              " 'BACKGROUND\\tEmotional eating is associated with overeating and the development of obesity .\\n',\n",
              " 'BACKGROUND\\tYet , empirical evidence for individual ( trait ) differences in emotional eating and cognitive mechanisms that contribute to eating during sad mood remain equivocal .\\n',\n",
              " 'OBJECTIVE\\tThe aim of this study was to test if attention bias for food moderates the effect of self-reported emotional eating during sad mood ( vs neutral mood ) on actual food intake .\\n',\n",
              " 'OBJECTIVE\\tIt was expected that emotional eating is predictive of elevated attention for food and higher food intake after an experimentally induced sad mood and that attentional maintenance on food predicts food intake during a sad versus a neutral mood .\\n',\n",
              " 'METHODS\\tParticipants ( N = @ ) were randomly assigned to one of the two experimental mood induction conditions ( sad/neutral ) .\\n']"
            ]
          },
          "metadata": {},
          "execution_count": 82
        }
      ]
    },
    {
      "cell_type": "markdown",
      "source": [
        "Strings that start with \"###\" mark the beginning of a new article. Lines in each article start with the class they belong to and the text separated by the \"/t\" characters. The end of the article is denoted with \"\\n\". Every line ends with \"\\n\", indicating the beginning of a new line.\n",
        "\n",
        "This is important to keep in mind when preprocessing and preparing the data to feed to a model."
      ],
      "metadata": {
        "id": "jgobWVIItpuO"
      }
    },
    {
      "cell_type": "markdown",
      "source": [
        "**4. Data preparation and EDA**\n",
        "\n",
        "Let's prepare the data to make it easier to understand"
      ],
      "metadata": {
        "id": "KxmQN1eevnwA"
      }
    },
    {
      "cell_type": "code",
      "source": [
        "import pandas as pd\n",
        "import numpy as np\n",
        "import matplotlib.pyplot as plt\n",
        "import seaborn as sns"
      ],
      "metadata": {
        "id": "bC7cCaZwv0XO"
      },
      "execution_count": 83,
      "outputs": []
    },
    {
      "cell_type": "code",
      "source": [
        "train_df = pd.DataFrame(preprocess_text_data(train))\n",
        "val_df = pd.DataFrame(preprocess_text_data(val))\n",
        "test_df = pd.DataFrame(preprocess_text_data(test))"
      ],
      "metadata": {
        "id": "eqg4Ye4gl7uY"
      },
      "execution_count": 84,
      "outputs": []
    },
    {
      "cell_type": "code",
      "source": [
        "train_df.head()"
      ],
      "metadata": {
        "colab": {
          "base_uri": "https://localhost:8080/",
          "height": 206
        },
        "id": "XrecU3_8wPkZ",
        "outputId": "c0640e00-8d57-46bb-ebd6-956ff77a537d"
      },
      "execution_count": 85,
      "outputs": [
        {
          "output_type": "execute_result",
          "data": {
            "text/plain": [
              "   line_number  total_lines     target  \\\n",
              "0            1           12  OBJECTIVE   \n",
              "1            2           12    METHODS   \n",
              "2            3           12    METHODS   \n",
              "3            4           12    METHODS   \n",
              "4            5           12    METHODS   \n",
              "\n",
              "                                                text  \n",
              "0  To investigate the efficacy of @ weeks of dail...  \n",
              "1  A total of @ patients with primary knee OA wer...  \n",
              "2  Outcome measures included pain reduction and i...  \n",
              "3  Pain was assessed using the visual analog pain...  \n",
              "4  Secondary outcome measures included the Wester...  "
            ],
            "text/html": [
              "\n",
              "  <div id=\"df-52c3e75f-0aaf-4c01-9510-3aed43cbc5a9\">\n",
              "    <div class=\"colab-df-container\">\n",
              "      <div>\n",
              "<style scoped>\n",
              "    .dataframe tbody tr th:only-of-type {\n",
              "        vertical-align: middle;\n",
              "    }\n",
              "\n",
              "    .dataframe tbody tr th {\n",
              "        vertical-align: top;\n",
              "    }\n",
              "\n",
              "    .dataframe thead th {\n",
              "        text-align: right;\n",
              "    }\n",
              "</style>\n",
              "<table border=\"1\" class=\"dataframe\">\n",
              "  <thead>\n",
              "    <tr style=\"text-align: right;\">\n",
              "      <th></th>\n",
              "      <th>line_number</th>\n",
              "      <th>total_lines</th>\n",
              "      <th>target</th>\n",
              "      <th>text</th>\n",
              "    </tr>\n",
              "  </thead>\n",
              "  <tbody>\n",
              "    <tr>\n",
              "      <th>0</th>\n",
              "      <td>1</td>\n",
              "      <td>12</td>\n",
              "      <td>OBJECTIVE</td>\n",
              "      <td>To investigate the efficacy of @ weeks of dail...</td>\n",
              "    </tr>\n",
              "    <tr>\n",
              "      <th>1</th>\n",
              "      <td>2</td>\n",
              "      <td>12</td>\n",
              "      <td>METHODS</td>\n",
              "      <td>A total of @ patients with primary knee OA wer...</td>\n",
              "    </tr>\n",
              "    <tr>\n",
              "      <th>2</th>\n",
              "      <td>3</td>\n",
              "      <td>12</td>\n",
              "      <td>METHODS</td>\n",
              "      <td>Outcome measures included pain reduction and i...</td>\n",
              "    </tr>\n",
              "    <tr>\n",
              "      <th>3</th>\n",
              "      <td>4</td>\n",
              "      <td>12</td>\n",
              "      <td>METHODS</td>\n",
              "      <td>Pain was assessed using the visual analog pain...</td>\n",
              "    </tr>\n",
              "    <tr>\n",
              "      <th>4</th>\n",
              "      <td>5</td>\n",
              "      <td>12</td>\n",
              "      <td>METHODS</td>\n",
              "      <td>Secondary outcome measures included the Wester...</td>\n",
              "    </tr>\n",
              "  </tbody>\n",
              "</table>\n",
              "</div>\n",
              "      <button class=\"colab-df-convert\" onclick=\"convertToInteractive('df-52c3e75f-0aaf-4c01-9510-3aed43cbc5a9')\"\n",
              "              title=\"Convert this dataframe to an interactive table.\"\n",
              "              style=\"display:none;\">\n",
              "        \n",
              "  <svg xmlns=\"http://www.w3.org/2000/svg\" height=\"24px\"viewBox=\"0 0 24 24\"\n",
              "       width=\"24px\">\n",
              "    <path d=\"M0 0h24v24H0V0z\" fill=\"none\"/>\n",
              "    <path d=\"M18.56 5.44l.94 2.06.94-2.06 2.06-.94-2.06-.94-.94-2.06-.94 2.06-2.06.94zm-11 1L8.5 8.5l.94-2.06 2.06-.94-2.06-.94L8.5 2.5l-.94 2.06-2.06.94zm10 10l.94 2.06.94-2.06 2.06-.94-2.06-.94-.94-2.06-.94 2.06-2.06.94z\"/><path d=\"M17.41 7.96l-1.37-1.37c-.4-.4-.92-.59-1.43-.59-.52 0-1.04.2-1.43.59L10.3 9.45l-7.72 7.72c-.78.78-.78 2.05 0 2.83L4 21.41c.39.39.9.59 1.41.59.51 0 1.02-.2 1.41-.59l7.78-7.78 2.81-2.81c.8-.78.8-2.07 0-2.86zM5.41 20L4 18.59l7.72-7.72 1.47 1.35L5.41 20z\"/>\n",
              "  </svg>\n",
              "      </button>\n",
              "      \n",
              "  <style>\n",
              "    .colab-df-container {\n",
              "      display:flex;\n",
              "      flex-wrap:wrap;\n",
              "      gap: 12px;\n",
              "    }\n",
              "\n",
              "    .colab-df-convert {\n",
              "      background-color: #E8F0FE;\n",
              "      border: none;\n",
              "      border-radius: 50%;\n",
              "      cursor: pointer;\n",
              "      display: none;\n",
              "      fill: #1967D2;\n",
              "      height: 32px;\n",
              "      padding: 0 0 0 0;\n",
              "      width: 32px;\n",
              "    }\n",
              "\n",
              "    .colab-df-convert:hover {\n",
              "      background-color: #E2EBFA;\n",
              "      box-shadow: 0px 1px 2px rgba(60, 64, 67, 0.3), 0px 1px 3px 1px rgba(60, 64, 67, 0.15);\n",
              "      fill: #174EA6;\n",
              "    }\n",
              "\n",
              "    [theme=dark] .colab-df-convert {\n",
              "      background-color: #3B4455;\n",
              "      fill: #D2E3FC;\n",
              "    }\n",
              "\n",
              "    [theme=dark] .colab-df-convert:hover {\n",
              "      background-color: #434B5C;\n",
              "      box-shadow: 0px 1px 3px 1px rgba(0, 0, 0, 0.15);\n",
              "      filter: drop-shadow(0px 1px 2px rgba(0, 0, 0, 0.3));\n",
              "      fill: #FFFFFF;\n",
              "    }\n",
              "  </style>\n",
              "\n",
              "      <script>\n",
              "        const buttonEl =\n",
              "          document.querySelector('#df-52c3e75f-0aaf-4c01-9510-3aed43cbc5a9 button.colab-df-convert');\n",
              "        buttonEl.style.display =\n",
              "          google.colab.kernel.accessAllowed ? 'block' : 'none';\n",
              "\n",
              "        async function convertToInteractive(key) {\n",
              "          const element = document.querySelector('#df-52c3e75f-0aaf-4c01-9510-3aed43cbc5a9');\n",
              "          const dataTable =\n",
              "            await google.colab.kernel.invokeFunction('convertToInteractive',\n",
              "                                                     [key], {});\n",
              "          if (!dataTable) return;\n",
              "\n",
              "          const docLinkHtml = 'Like what you see? Visit the ' +\n",
              "            '<a target=\"_blank\" href=https://colab.research.google.com/notebooks/data_table.ipynb>data table notebook</a>'\n",
              "            + ' to learn more about interactive tables.';\n",
              "          element.innerHTML = '';\n",
              "          dataTable['output_type'] = 'display_data';\n",
              "          await google.colab.output.renderOutput(dataTable, element);\n",
              "          const docLink = document.createElement('div');\n",
              "          docLink.innerHTML = docLinkHtml;\n",
              "          element.appendChild(docLink);\n",
              "        }\n",
              "      </script>\n",
              "    </div>\n",
              "  </div>\n",
              "  "
            ]
          },
          "metadata": {},
          "execution_count": 85
        }
      ]
    },
    {
      "cell_type": "markdown",
      "source": [
        "90% of the papers have less than 18 lines"
      ],
      "metadata": {
        "id": "J14ySmsowdTs"
      }
    },
    {
      "cell_type": "code",
      "source": [
        "# Check the distribution of the total_lines feature\n",
        "train_df['total_lines'].describe(percentiles=[x/100 for x in np.arange(10, 100, 10)])"
      ],
      "metadata": {
        "colab": {
          "base_uri": "https://localhost:8080/"
        },
        "id": "g-BLW5KkwWEe",
        "outputId": "83a40a40-7a07-41e2-ae91-9bd2e1f8d70c"
      },
      "execution_count": 86,
      "outputs": [
        {
          "output_type": "execute_result",
          "data": {
            "text/plain": [
              "count    180040.000000\n",
              "mean         12.789136\n",
              "std           3.236095\n",
              "min           4.000000\n",
              "10%           9.000000\n",
              "20%          10.000000\n",
              "30%          11.000000\n",
              "40%          12.000000\n",
              "50%          12.000000\n",
              "60%          13.000000\n",
              "70%          14.000000\n",
              "80%          15.000000\n",
              "90%          17.000000\n",
              "max          31.000000\n",
              "Name: total_lines, dtype: float64"
            ]
          },
          "metadata": {},
          "execution_count": 86
        }
      ]
    },
    {
      "cell_type": "code",
      "source": [
        "plt.figure(figsize=(12, 8))\n",
        "ax = train_df['total_lines'].hist(bins=15)\n",
        "plt.ylabel('Number of papers')\n",
        "plt.xlabel('Total lines in abstract')\n",
        "ax.spines['top'].set_visible(False)\n",
        "ax.spines['right'].set_visible(False)\n",
        "ax.grid(False);"
      ],
      "metadata": {
        "colab": {
          "base_uri": "https://localhost:8080/",
          "height": 497
        },
        "id": "UQR8XsaDnkwK",
        "outputId": "b8ac0782-396d-4366-bab4-dbc159d86c6b"
      },
      "execution_count": 87,
      "outputs": [
        {
          "output_type": "display_data",
          "data": {
            "text/plain": [
              "<Figure size 864x576 with 1 Axes>"
            ],
            "image/png": "[encoded data removed]"
          },
          "metadata": {
            "needs_background": "light"
          }
        }
      ]
    },
    {
      "cell_type": "markdown",
      "source": [
        "The target variable is imbalanced, with relatively few entries for the OBJECTIVE class"
      ],
      "metadata": {
        "id": "yUv6ldkNxcMq"
      }
    },
    {
      "cell_type": "code",
      "source": [
        "train_df['target'].value_counts()"
      ],
      "metadata": {
        "colab": {
          "base_uri": "https://localhost:8080/"
        },
        "id": "ASHbFeCNn-NU",
        "outputId": "55057296-b0f4-4c45-b9ab-b3ee2a6922c7"
      },
      "execution_count": 88,
      "outputs": [
        {
          "output_type": "execute_result",
          "data": {
            "text/plain": [
              "METHODS        59353\n",
              "RESULTS        57953\n",
              "CONCLUSIONS    27168\n",
              "BACKGROUND     21727\n",
              "OBJECTIVE      13839\n",
              "Name: target, dtype: int64"
            ]
          },
          "metadata": {},
          "execution_count": 88
        }
      ]
    },
    {
      "cell_type": "code",
      "source": [
        "train_df['target'].value_counts() / train_df['target'].value_counts().sum()"
      ],
      "metadata": {
        "colab": {
          "base_uri": "https://localhost:8080/"
        },
        "id": "7wV4j83kn-LN",
        "outputId": "4290a0cc-a4c5-4d3c-9947-b1b891595a5e"
      },
      "execution_count": 89,
      "outputs": [
        {
          "output_type": "execute_result",
          "data": {
            "text/plain": [
              "METHODS        0.329666\n",
              "RESULTS        0.321890\n",
              "CONCLUSIONS    0.150900\n",
              "BACKGROUND     0.120679\n",
              "OBJECTIVE      0.076866\n",
              "Name: target, dtype: float64"
            ]
          },
          "metadata": {},
          "execution_count": 89
        }
      ]
    },
    {
      "cell_type": "markdown",
      "source": [
        "There is a clear distinction in the line_number between classes. This is intuitively right because the Objective always comes before the Conclusions, positioning it at the first lines of the article. There is a general order for the presentation of information in an abstract.\n",
        "\n",
        "We can use this information to engineer some features."
      ],
      "metadata": {
        "id": "OiPI2cn6x5Bs"
      }
    },
    {
      "cell_type": "code",
      "source": [
        "average_target_line = train_df.groupby('target')['line_number'].mean().sort_values(ascending=True)\n",
        "\n",
        "plt.figure(figsize=(12, 8))\n",
        "sns.barplot(x=average_target_line.index, y=average_target_line.values)\n",
        "plt.ylabel('Average line number')\n",
        "plt.xlabel('')\n",
        "plt.title('Average position of lines corresponding to each class')\n",
        "sns.despine()"
      ],
      "metadata": {
        "colab": {
          "base_uri": "https://localhost:8080/",
          "height": 499
        },
        "id": "2MxQlLuzoSFb",
        "outputId": "f528a15f-0a83-450c-ef30-669a3b9781cc"
      },
      "execution_count": 90,
      "outputs": [
        {
          "output_type": "display_data",
          "data": {
            "text/plain": [
              "<Figure size 864x576 with 1 Axes>"
            ],
            "image/png": "[encoded data removed]"
          },
          "metadata": {
            "needs_background": "light"
          }
        }
      ]
    },
    {
      "cell_type": "markdown",
      "source": [
        "Let's encode the target variable"
      ],
      "metadata": {
        "id": "GtT27JtqzNxB"
      }
    },
    {
      "cell_type": "code",
      "source": [
        "from sklearn.preprocessing import OneHotEncoder, LabelEncoder\n",
        "encoder = OneHotEncoder()\n",
        "train_labels_one_hot = encoder.fit_transform(train_df['target'].to_numpy().reshape(-1, 1))\n",
        "val_labels_one_hot = encoder.transform(val_df['target'].to_numpy().reshape(-1, 1))\n",
        "test_labels_one_hot = encoder.transform(test_df['target'].to_numpy().reshape(-1, 1))\n",
        "\n",
        "label_encoder = LabelEncoder()\n",
        "labels_train = label_encoder.fit_transform(train_df['target'].to_numpy())\n",
        "labels_val = label_encoder.transform(val_df['target'].to_numpy())\n",
        "labels_test = label_encoder.transform(test_df['target'].to_numpy())"
      ],
      "metadata": {
        "id": "VjMSUhXazQuK"
      },
      "execution_count": 91,
      "outputs": []
    },
    {
      "cell_type": "code",
      "source": [
        "train_sentences = train_df['text'].tolist()\n",
        "val_sentences = val_df['text'].tolist()\n",
        "test_sentences = test_df['text'].tolist()"
      ],
      "metadata": {
        "id": "3ogl57Djzxu_"
      },
      "execution_count": 92,
      "outputs": []
    },
    {
      "cell_type": "markdown",
      "source": [
        "**5. Training and selecting models**\n",
        "\n",
        "Before fine-tuning, we will train different models and see which one performs better. Their performance will be compared on the validation dataset."
      ],
      "metadata": {
        "id": "S8Atr3SM0o7v"
      }
    },
    {
      "cell_type": "markdown",
      "source": [
        "**5.1 Baseline model**\n",
        "\n",
        "For our baseline, we will use an sklearn pipeline consisting of a TF-IDF vectorizer to preprocess text data and a MultinomialNB to classify the instances."
      ],
      "metadata": {
        "id": "FZ94B71T1ADK"
      }
    },
    {
      "cell_type": "code",
      "source": [
        "from sklearn.feature_extraction.text import TfidfVectorizer\n",
        "from sklearn.naive_bayes import MultinomialNB\n",
        "from sklearn.pipeline import Pipeline"
      ],
      "metadata": {
        "id": "eL7FmS4H1Mzl"
      },
      "execution_count": 93,
      "outputs": []
    },
    {
      "cell_type": "code",
      "source": [
        "baseline_model = Pipeline([\n",
        "    ('tfidf', TfidfVectorizer()),\n",
        "    ('multinomialnb', MultinomialNB())\n",
        "])"
      ],
      "metadata": {
        "id": "0SlSCddw1RLA"
      },
      "execution_count": 94,
      "outputs": []
    },
    {
      "cell_type": "code",
      "source": [
        "baseline_model.fit(train_sentences, labels_train)\n",
        "baseline_model_preds = baseline_model.predict(val_sentences)"
      ],
      "metadata": {
        "id": "vGBGeEVj1S3l"
      },
      "execution_count": 95,
      "outputs": []
    },
    {
      "cell_type": "code",
      "source": [
        "baseline_results = calculate_results(y_true=labels_val,\n",
        "                                     y_pred=baseline_model_preds)\n",
        "baseline_results"
      ],
      "metadata": {
        "colab": {
          "base_uri": "https://localhost:8080/"
        },
        "id": "n2aHh-LF1T1f",
        "outputId": "071ae16d-4640-435e-cd4f-06b9b3fd5d70"
      },
      "execution_count": 96,
      "outputs": [
        {
          "output_type": "execute_result",
          "data": {
            "text/plain": [
              "{'accuracy': 72.1832384482987,\n",
              " 'precision': 0.7186466952323352,\n",
              " 'recall': 0.7218323844829869,\n",
              " 'f1': 0.6989250353450294}"
            ]
          },
          "metadata": {},
          "execution_count": 96
        }
      ]
    },
    {
      "cell_type": "markdown",
      "source": [
        "**5.2 Conv1D model with text vectorizer and word embeddings**"
      ],
      "metadata": {
        "id": "GDvAtHrl1Y7c"
      }
    },
    {
      "cell_type": "code",
      "source": [
        "import tensorflow as tf"
      ],
      "metadata": {
        "id": "8Vi-ARlB1lHs"
      },
      "execution_count": 97,
      "outputs": []
    },
    {
      "cell_type": "code",
      "source": [
        "train_dataset = tf.data.Dataset.from_tensor_slices((train_sentences, train_labels_one_hot.toarray())).batch(32).prefetch(tf.data.AUTOTUNE)\n",
        "val_dataset = tf.data.Dataset.from_tensor_slices((val_sentences, val_labels_one_hot.toarray())).batch(32).prefetch(tf.data.AUTOTUNE)\n",
        "test_dataset = tf.data.Dataset.from_tensor_slices((test_sentences, test_labels_one_hot.toarray())).batch(32).prefetch(tf.data.AUTOTUNE)"
      ],
      "metadata": {
        "id": "RZCJw42WrIQX"
      },
      "execution_count": 98,
      "outputs": []
    },
    {
      "cell_type": "markdown",
      "source": [
        "Before creating the text vectorization layer, let's calculate how many tokens are per line and choose the 95th percentile of the distribution to use as the output_sequence_length in the tf TextVectorization class"
      ],
      "metadata": {
        "id": "ivHwH8nplUGz"
      }
    },
    {
      "cell_type": "code",
      "source": [
        "# Average sentence length\n",
        "sentence_length = [len(sentence.split()) for sentence in train_sentences]\n",
        "\n",
        "# 95th percentile\n",
        "sequence_length = int(np.percentile(sentence_length, 95))"
      ],
      "metadata": {
        "id": "-PwrHgtLk0eh"
      },
      "execution_count": 99,
      "outputs": []
    },
    {
      "cell_type": "code",
      "source": [
        "plt.figure(figsize=(12, 8))\n",
        "sns.histplot(sentence_length)\n",
        "sns.despine()\n",
        "plt.axvline(sequence_length, c='g', alpha=0.3)\n",
        "plt.title('Distribution of line length in the training dataset')\n",
        "plt.xlabel('Length');"
      ],
      "metadata": {
        "colab": {
          "base_uri": "https://localhost:8080/",
          "height": 513
        },
        "id": "XLo3wkE7nRoQ",
        "outputId": "8fc5d4ce-6090-4b57-aa97-6869f8aa9c99"
      },
      "execution_count": 100,
      "outputs": [
        {
          "output_type": "display_data",
          "data": {
            "text/plain": [
              "<Figure size 864x576 with 1 Axes>"
            ],
            "image/png": "[encoded data removed]"
          },
          "metadata": {
            "needs_background": "light"
          }
        }
      ]
    },
    {
      "cell_type": "code",
      "source": [
        "text_vectorizer = tf.keras.layers.TextVectorization(max_tokens=68000, output_sequence_length=sequence_length) # 68,000 is the vocabulary's size mentioned in the paper\n",
        "text_vectorizer.adapt(train_sentences)"
      ],
      "metadata": {
        "id": "BmRLzv_3i72J"
      },
      "execution_count": 101,
      "outputs": []
    },
    {
      "cell_type": "code",
      "source": [
        "vocabulary = text_vectorizer.get_vocabulary()\n",
        "print(\"5 most common tokens: {}\".format(vocabulary[:5]))\n",
        "print(\"5 least common tokens: {}\".format(vocabulary[-5:]))\n",
        "print(\"Number of tokens in 20k training dataset: {}\".format(len(vocabulary)))"
      ],
      "metadata": {
        "colab": {
          "base_uri": "https://localhost:8080/"
        },
        "id": "7l_FBAS1l4fX",
        "outputId": "b4937c82-60e1-43a4-9b85-659220758716"
      },
      "execution_count": 102,
      "outputs": [
        {
          "output_type": "stream",
          "name": "stdout",
          "text": [
            "5 most common tokens: ['', '[UNK]', 'the', 'and', 'of']\n",
            "5 least common tokens: ['aainduced', 'aaigroup', 'aachener', 'aachen', 'aaacp']\n",
            "Number of tokens in 20k training dataset: 64841\n"
          ]
        }
      ]
    },
    {
      "cell_type": "code",
      "source": [
        "embed_layer = tf.keras.layers.Embedding(input_dim=len(text_vectorizer.get_vocabulary()), output_dim=128)"
      ],
      "metadata": {
        "id": "-nxNSNnri7z8"
      },
      "execution_count": 103,
      "outputs": []
    },
    {
      "cell_type": "markdown",
      "source": [
        "Build the model"
      ],
      "metadata": {
        "id": "doao9S4Lmh_e"
      }
    },
    {
      "cell_type": "code",
      "source": [
        "inputs = tf.keras.layers.Input(shape=(1,), dtype=tf.string, name='m1_input_layer')\n",
        "text_vectorization = text_vectorizer(inputs)\n",
        "word_embedding = embed_layer(text_vectorization)\n",
        "x = tf.keras.layers.Conv1D(filters=64, kernel_size=5, padding='same',\n",
        "                           activation='relu')(word_embedding)\n",
        "x = tf.keras.layers.GlobalAveragePooling1D()(x)\n",
        "outputs = tf.keras.layers.Dense(5, activation='softmax')(x)\n",
        "model_1 = tf.keras.Model(inputs, outputs, name='model_1')\n",
        "\n",
        "model_1.compile(loss='categorical_crossentropy',\n",
        "                optimizer=tf.keras.optimizers.Adam(),\n",
        "                metrics=['accuracy'])\n",
        "\n",
        "history_model_1 = model_1.fit(train_dataset,\n",
        "                              epochs=5,\n",
        "                              steps_per_epoch=int(0.1*len(train_dataset)), # train on subset to make training faster for initial experiments\n",
        "                              validation_data=val_dataset,\n",
        "                              validation_steps=int(0.1*len(train_dataset)),\n",
        "                              callbacks=[create_tensorboard_callback(dir_name='tb_callbacks',\n",
        "                                                                     experiment_name='conv1d')])"
      ],
      "metadata": {
        "colab": {
          "base_uri": "https://localhost:8080/"
        },
        "id": "n4yxJJyImgIe",
        "outputId": "6e53f6c8-2069-4b73-84d8-18c780c8effe"
      },
      "execution_count": 104,
      "outputs": [
        {
          "output_type": "stream",
          "name": "stdout",
          "text": [
            "Epoch 1/5\n",
            "562/562 [==============================] - 5s 8ms/step - loss: 0.9238 - accuracy: 0.6391 - val_loss: 0.6832 - val_accuracy: 0.7449\n",
            "Epoch 2/5\n",
            "562/562 [==============================] - 4s 7ms/step - loss: 0.6612 - accuracy: 0.7543 - val_loss: 0.6445 - val_accuracy: 0.7700\n",
            "Epoch 3/5\n",
            "562/562 [==============================] - 4s 7ms/step - loss: 0.6195 - accuracy: 0.7741 - val_loss: 0.5936 - val_accuracy: 0.7904\n",
            "Epoch 4/5\n",
            "562/562 [==============================] - 4s 7ms/step - loss: 0.5898 - accuracy: 0.7908 - val_loss: 0.5738 - val_accuracy: 0.7952\n",
            "Epoch 5/5\n",
            "562/562 [==============================] - 4s 7ms/step - loss: 0.5916 - accuracy: 0.7918 - val_loss: 0.5548 - val_accuracy: 0.8057\n"
          ]
        }
      ]
    },
    {
      "cell_type": "code",
      "source": [
        "model_1_preds_probs = model_1.predict(val_dataset)\n",
        "model_1_preds = tf.argmax(model_1_preds_probs, axis=1)"
      ],
      "metadata": {
        "id": "ys76BwWWmwWP"
      },
      "execution_count": 105,
      "outputs": []
    },
    {
      "cell_type": "code",
      "source": [
        "model_1_results = calculate_results(y_true=labels_val,\n",
        "                                    y_pred=model_1_preds)\n",
        "model_1_results"
      ],
      "metadata": {
        "colab": {
          "base_uri": "https://localhost:8080/"
        },
        "id": "y4Hj3gW2mx_U",
        "outputId": "c45e4f05-7598-48ec-90fe-afcf15db580b"
      },
      "execution_count": 106,
      "outputs": [
        {
          "output_type": "execute_result",
          "data": {
            "text/plain": [
              "{'accuracy': 80.25949953660798,\n",
              " 'precision': 0.8025752533483523,\n",
              " 'recall': 0.8025949953660797,\n",
              " 'f1': 0.7997547333537579}"
            ]
          },
          "metadata": {},
          "execution_count": 106
        }
      ]
    },
    {
      "cell_type": "markdown",
      "source": [
        "**5.3 Feature extraction with pretrained token embeddings (transfer learning)**\n",
        "\n",
        "Transfer learning is a great tool to improve performance by leveraging the learned patterns from complex models trained on big datasets.\n",
        "\n",
        "For our task, we will replace the TextVectorization and word embedding layers with the Universal Sentence Encoder from TensorFlow Hub."
      ],
      "metadata": {
        "id": "AcGPViQEnFRj"
      }
    },
    {
      "cell_type": "code",
      "source": [
        "use = hub.KerasLayer(\"https://tfhub.dev/google/universal-sentence-encoder/4\",\n",
        "                     trainable=False)"
      ],
      "metadata": {
        "id": "43AGlPOGAC1x"
      },
      "execution_count": 107,
      "outputs": []
    },
    {
      "cell_type": "code",
      "source": [
        "inputs = tf.keras.layers.Input(shape=[], dtype=tf.string, name='m2_input_layer')\n",
        "use_embedding = use(inputs)\n",
        "x = tf.keras.layers.Dense(128, activation='relu')(use_embedding)\n",
        "outputs = tf.keras.layers.Dense(5, activation='softmax')(x)\n",
        "\n",
        "model_2 = tf.keras.Model(inputs, outputs, name='model_2')\n",
        "\n",
        "model_2.compile(loss='categorical_crossentropy',\n",
        "                optimizer=tf.keras.optimizers.Adam(),\n",
        "                metrics=['accuracy'])\n",
        "\n",
        "history_model_2 = model_2.fit(train_dataset,\n",
        "                  epochs=5,\n",
        "                  validation_data=val_dataset,\n",
        "                  steps_per_epoch=int(0.1*len(train_dataset)),\n",
        "                  validation_steps=int(0.1*len(val_dataset)),\n",
        "                  callbacks=[create_tensorboard_callback(dir_name='tb_callbacks',\n",
        "                                                         experiment_name='model_2')])"
      ],
      "metadata": {
        "colab": {
          "base_uri": "https://localhost:8080/"
        },
        "id": "xKjLnDEcCq96",
        "outputId": "7c50033a-9964-407a-fd36-0099bf9fd803"
      },
      "execution_count": 108,
      "outputs": [
        {
          "output_type": "stream",
          "name": "stdout",
          "text": [
            "Epoch 1/5\n",
            "562/562 [==============================] - 9s 11ms/step - loss: 0.9155 - accuracy: 0.6494 - val_loss: 0.7955 - val_accuracy: 0.6885\n",
            "Epoch 2/5\n",
            "562/562 [==============================] - 7s 12ms/step - loss: 0.7672 - accuracy: 0.7024 - val_loss: 0.7527 - val_accuracy: 0.7061\n",
            "Epoch 3/5\n",
            "562/562 [==============================] - 6s 10ms/step - loss: 0.7499 - accuracy: 0.7137 - val_loss: 0.7368 - val_accuracy: 0.7134\n",
            "Epoch 4/5\n",
            "562/562 [==============================] - 6s 10ms/step - loss: 0.7170 - accuracy: 0.7254 - val_loss: 0.7090 - val_accuracy: 0.7304\n",
            "Epoch 5/5\n",
            "562/562 [==============================] - 6s 10ms/step - loss: 0.7240 - accuracy: 0.7235 - val_loss: 0.6899 - val_accuracy: 0.7291\n"
          ]
        }
      ]
    },
    {
      "cell_type": "code",
      "source": [
        "model_2_preds_probs = model_2.predict(val_dataset)\n",
        "model_2_preds = tf.argmax(model_2_preds_probs, axis=1)"
      ],
      "metadata": {
        "id": "XMMLU0raFMa5"
      },
      "execution_count": 109,
      "outputs": []
    },
    {
      "cell_type": "code",
      "source": [
        "model_2_results = calculate_results(y_true=labels_val,\n",
        "                                    y_pred=model_2_preds)\n",
        "model_2_results"
      ],
      "metadata": {
        "colab": {
          "base_uri": "https://localhost:8080/"
        },
        "id": "h309yT1QFmRC",
        "outputId": "f4e82044-4100-4819-9ab8-0057232a8959"
      },
      "execution_count": 110,
      "outputs": [
        {
          "output_type": "execute_result",
          "data": {
            "text/plain": [
              "{'accuracy': 73.566794651132,\n",
              " 'precision': 0.7323370147041268,\n",
              " 'recall': 0.7356679465113201,\n",
              " 'f1': 0.7301706152933204}"
            ]
          },
          "metadata": {},
          "execution_count": 110
        }
      ]
    },
    {
      "cell_type": "markdown",
      "source": [
        "**5.4 Conv1D model with character-level tokenization**\n",
        "\n",
        "Instead of tokenizing at the word level, let's see how well a model performs with character-level tokenization."
      ],
      "metadata": {
        "id": "4ST3MaXRos2n"
      }
    },
    {
      "cell_type": "markdown",
      "source": [
        "Before creating the datasets, we must preprocess the data to separate characters in each word to treat them independently"
      ],
      "metadata": {
        "id": "QEpVIqXgpD6p"
      }
    },
    {
      "cell_type": "code",
      "source": [
        "def split_chars(text):\n",
        "  return \" \".join(list(text))"
      ],
      "metadata": {
        "id": "-3_FoEfTNVA7"
      },
      "execution_count": 111,
      "outputs": []
    },
    {
      "cell_type": "code",
      "source": [
        "char_train_sentences = [split_chars(sentence) for sentence in train_sentences]\n",
        "char_val_sentences = [split_chars(sentence) for sentence in val_sentences]\n",
        "char_test_sentences = [split_chars(sentence) for sentence in test_sentences]\n",
        "\n",
        "char_train_sentences[0]"
      ],
      "metadata": {
        "colab": {
          "base_uri": "https://localhost:8080/",
          "height": 70
        },
        "id": "IR74oHbuJS0W",
        "outputId": "7d14e7bf-6b8e-453e-d20b-414c7fc1e642"
      },
      "execution_count": 112,
      "outputs": [
        {
          "output_type": "execute_result",
          "data": {
            "text/plain": [
              "'T o   i n v e s t i g a t e   t h e   e f f i c a c y   o f   @   w e e k s   o f   d a i l y   l o w - d o s e   o r a l   p r e d n i s o l o n e   i n   i m p r o v i n g   p a i n   ,   m o b i l i t y   ,   a n d   s y s t e m i c   l o w - g r a d e   i n f l a m m a t i o n   i n   t h e   s h o r t   t e r m   a n d   w h e t h e r   t h e   e f f e c t   w o u l d   b e   s u s t a i n e d   a t   @   w e e k s   i n   o l d e r   a d u l t s   w i t h   m o d e r a t e   t o   s e v e r e   k n e e   o s t e o a r t h r i t i s   (   O A   )   .'"
            ],
            "application/vnd.google.colaboratory.intrinsic+json": {
              "type": "string"
            }
          },
          "metadata": {},
          "execution_count": 112
        }
      ]
    },
    {
      "cell_type": "code",
      "source": [
        "char_train_dataset = tf.data.Dataset.from_tensor_slices((char_train_sentences, train_labels_one_hot.toarray())).batch(32).prefetch(tf.data.AUTOTUNE)\n",
        "char_val_dataset = tf.data.Dataset.from_tensor_slices((char_val_sentences, val_labels_one_hot.toarray())).batch(32).prefetch(tf.data.AUTOTUNE)\n",
        "char_test_dataset = tf.data.Dataset.from_tensor_slices((char_test_sentences, test_labels_one_hot.toarray())).batch(32).prefetch(tf.data.AUTOTUNE)"
      ],
      "metadata": {
        "id": "egy_HzxdpDIg"
      },
      "execution_count": 113,
      "outputs": []
    },
    {
      "cell_type": "code",
      "source": [
        "import string\n",
        "all_chars = string.ascii_lowercase + string.digits + string.punctuation\n",
        "all_chars"
      ],
      "metadata": {
        "colab": {
          "base_uri": "https://localhost:8080/",
          "height": 35
        },
        "id": "tA4eLSXYK83R",
        "outputId": "b26b1988-1341-46d8-ddca-d90c4b83a8ab"
      },
      "execution_count": 114,
      "outputs": [
        {
          "output_type": "execute_result",
          "data": {
            "text/plain": [
              "'abcdefghijklmnopqrstuvwxyz0123456789!\"#$%&\\'()*+,-./:;<=>?@[\\\\]^_`{|}~'"
            ],
            "application/vnd.google.colaboratory.intrinsic+json": {
              "type": "string"
            }
          },
          "metadata": {},
          "execution_count": 114
        }
      ]
    },
    {
      "cell_type": "code",
      "source": [
        "print(\"Total alphanumeric + punctuation characters: {}\".format(len(all_chars))) # max_tokens input in new TextVectorization layer"
      ],
      "metadata": {
        "colab": {
          "base_uri": "https://localhost:8080/"
        },
        "id": "ZtNdTTsYpXRn",
        "outputId": "65abd27e-2b22-4263-d83d-d3d3599a8573"
      },
      "execution_count": 115,
      "outputs": [
        {
          "output_type": "stream",
          "name": "stdout",
          "text": [
            "Total alphanumeric + punctuation characters: 68\n"
          ]
        }
      ]
    },
    {
      "cell_type": "code",
      "source": [
        "char_vectorizer = tf.keras.layers.TextVectorization(max_tokens=len(all_chars) + 2, output_sequence_length=sequence_length)\n",
        "char_vectorizer.adapt(char_train_sentences)"
      ],
      "metadata": {
        "id": "XYGL-TzYKfDx"
      },
      "execution_count": 116,
      "outputs": []
    },
    {
      "cell_type": "code",
      "source": [
        "characters = char_vectorizer.get_vocabulary()\n",
        "print(\"5 most common tokens: {}\".format(characters[:5]))\n",
        "print(\"5 least common tokens: {}\".format(characters[-5:]))\n",
        "print(\"Number of tokens in 20k training dataset: {}\".format(len(characters)))"
      ],
      "metadata": {
        "colab": {
          "base_uri": "https://localhost:8080/"
        },
        "id": "fK2pyQjfp4c8",
        "outputId": "75eeddb6-187a-4299-b076-a0e9070a10ed"
      },
      "execution_count": 117,
      "outputs": [
        {
          "output_type": "stream",
          "name": "stdout",
          "text": [
            "5 most common tokens: ['', '[UNK]', 'e', 't', 'i']\n",
            "5 least common tokens: ['k', 'x', 'z', 'q', 'j']\n",
            "Number of tokens in 20k training dataset: 28\n"
          ]
        }
      ]
    },
    {
      "cell_type": "code",
      "source": [
        "char_embedding = tf.keras.layers.Embedding(input_dim=len(char_vectorizer.get_vocabulary()), output_dim=24, mask_zero=False)"
      ],
      "metadata": {
        "id": "rCKO6JHHKfBX"
      },
      "execution_count": 118,
      "outputs": []
    },
    {
      "cell_type": "code",
      "source": [
        "inputs = tf.keras.layers.Input(shape=(1,), dtype=tf.string, name='m3_input_layer')\n",
        "char_vector = char_vectorizer(inputs)\n",
        "char_embed = char_embedding(char_vector)\n",
        "x = tf.keras.layers.Conv1D(filters=64, kernel_size=5, padding='same',\n",
        "                           activation='relu')(char_embed)\n",
        "x = tf.keras.layers.GlobalMaxPool1D()(x)\n",
        "outputs = tf.keras.layers.Dense(5, activation='softmax')(x)\n",
        "\n",
        "model_3 = tf.keras.Model(inputs, outputs, name='model_3')\n",
        "\n",
        "model_3.compile(loss='categorical_crossentropy',\n",
        "                optimizer=tf.keras.optimizers.Adam(),\n",
        "                metrics=['accuracy'])\n",
        "\n",
        "model_3.fit(char_train_dataset,\n",
        "            epochs=5,\n",
        "            steps_per_epoch=int(0.1*len(char_train_dataset)),\n",
        "            validation_data=char_val_dataset,\n",
        "            validation_steps=int(0.1*len(char_val_dataset)),\n",
        "            callbacks=[create_tensorboard_callback(dir_name='tb_callbacks',\n",
        "                                                   experiment_name='model_3')])"
      ],
      "metadata": {
        "colab": {
          "base_uri": "https://localhost:8080/"
        },
        "id": "sGiL5_BoKezd",
        "outputId": "cb8fd6b8-dfda-488d-8b69-23cbae515bf0"
      },
      "execution_count": 119,
      "outputs": [
        {
          "output_type": "stream",
          "name": "stdout",
          "text": [
            "Epoch 1/5\n",
            "562/562 [==============================] - 3s 4ms/step - loss: 1.3298 - accuracy: 0.4501 - val_loss: 1.1443 - val_accuracy: 0.5356\n",
            "Epoch 2/5\n",
            "562/562 [==============================] - 2s 4ms/step - loss: 1.1096 - accuracy: 0.5522 - val_loss: 1.0497 - val_accuracy: 0.5731\n",
            "Epoch 3/5\n",
            "562/562 [==============================] - 2s 4ms/step - loss: 1.0318 - accuracy: 0.5890 - val_loss: 0.9792 - val_accuracy: 0.6174\n",
            "Epoch 4/5\n",
            "562/562 [==============================] - 2s 4ms/step - loss: 0.9896 - accuracy: 0.6047 - val_loss: 0.9605 - val_accuracy: 0.6193\n",
            "Epoch 5/5\n",
            "562/562 [==============================] - 2s 4ms/step - loss: 0.9758 - accuracy: 0.6140 - val_loss: 0.9308 - val_accuracy: 0.6396\n"
          ]
        },
        {
          "output_type": "execute_result",
          "data": {
            "text/plain": [
              "<keras.callbacks.History at 0x7fdc9a64c6d0>"
            ]
          },
          "metadata": {},
          "execution_count": 119
        }
      ]
    },
    {
      "cell_type": "code",
      "source": [
        "model_3_preds_probs = model_3.predict(char_val_dataset)\n",
        "model_3_preds = tf.argmax(model_3_preds_probs, axis=1)"
      ],
      "metadata": {
        "id": "Av5YzeaiTDlQ"
      },
      "execution_count": 120,
      "outputs": []
    },
    {
      "cell_type": "code",
      "source": [
        "model_3_results = calculate_results(y_true=labels_val,\n",
        "                                    y_pred=model_3_preds)\n",
        "model_3_results"
      ],
      "metadata": {
        "colab": {
          "base_uri": "https://localhost:8080/"
        },
        "id": "wgJDu5W6TDi_",
        "outputId": "2013ea35-ef48-4c86-da05-3b4bb9f14f95"
      },
      "execution_count": 121,
      "outputs": [
        {
          "output_type": "execute_result",
          "data": {
            "text/plain": [
              "{'accuracy': 62.8657487091222,\n",
              " 'precision': 0.6199197596426718,\n",
              " 'recall': 0.628657487091222,\n",
              " 'f1': 0.6189947425637907}"
            ]
          },
          "metadata": {},
          "execution_count": 121
        }
      ]
    },
    {
      "cell_type": "markdown",
      "source": [
        "**5.5 Wide-and-deep model combining character and token embeddings**\n",
        "\n",
        "The character-level embedding model didn't perform quite as well. However, it may contain some useful information for the problem. Let's test if joining both character and token embeddings improves the performance."
      ],
      "metadata": {
        "id": "qSR4540orYKU"
      }
    },
    {
      "cell_type": "code",
      "source": [
        "train_dataset_wad_x = tf.data.Dataset.from_tensor_slices((train_sentences, char_train_sentences))\n",
        "train_dataset_wad_y = tf.data.Dataset.from_tensor_slices(train_labels_one_hot.toarray())\n",
        "train_dataset_wad = tf.data.Dataset.zip((train_dataset_wad_x, train_dataset_wad_y)).batch(32).prefetch(tf.data.AUTOTUNE)\n",
        "\n",
        "val_dataset_wad_x = tf.data.Dataset.from_tensor_slices((val_sentences, char_val_sentences))\n",
        "val_dataset_wad_y = tf.data.Dataset.from_tensor_slices(val_labels_one_hot.toarray())\n",
        "val_dataset_wad = tf.data.Dataset.zip((val_dataset_wad_x, val_dataset_wad_y)).batch(32).prefetch(tf.data.AUTOTUNE)\n",
        "\n",
        "test_dataset_wad_x = tf.data.Dataset.from_tensor_slices((test_sentences, char_test_sentences))\n",
        "test_dataset_wad_y = tf.data.Dataset.from_tensor_slices(test_labels_one_hot.toarray())\n",
        "test_dataset_wad = tf.data.Dataset.zip((test_dataset_wad_x, test_dataset_wad_y)).batch(32).prefetch(tf.data.AUTOTUNE)"
      ],
      "metadata": {
        "id": "nPFp2g7qV7Fg"
      },
      "execution_count": 122,
      "outputs": []
    },
    {
      "cell_type": "code",
      "source": [
        "# Sentence\n",
        "inputs_sentence = tf.keras.layers.Input(shape=[], dtype=tf.string)\n",
        "sentence_embedding = use(inputs_sentence)\n",
        "x_sentence = tf.keras.layers.Dense(128, activation='relu')(sentence_embedding)\n",
        "sentence_model = tf.keras.Model(inputs=inputs_sentence,\n",
        "                                outputs=x_sentence)\n",
        "\n",
        "# Character\n",
        "inputs_char = tf.keras.layers.Input(shape=(1,), dtype=tf.string)\n",
        "char_vector = char_vectorizer(inputs_char)\n",
        "char_embed = char_embedding(char_vector)\n",
        "x_char = tf.keras.layers.Bidirectional(tf.keras.layers.LSTM(25))(char_embed)\n",
        "char_model = tf.keras.Model(inputs=inputs_char,\n",
        "                            outputs=x_char)\n",
        "\n",
        "# Concatenate\n",
        "conc_layer = tf.keras.layers.Concatenate()([sentence_model.output, \n",
        "                                            char_model.output])\n",
        "\n",
        "# Dropout\n",
        "last_dense = tf.keras.layers.Dense(128, activation='relu')(conc_layer)\n",
        "dropout_layer = tf.keras.layers.Dropout(0.5)(last_dense)\n",
        "\n",
        "# Output\n",
        "outputs = tf.keras.layers.Dense(5, activation='softmax')(dropout_layer)\n",
        "\n",
        "model_4 = tf.keras.Model(inputs=[inputs_sentence,\n",
        "                                 inputs_char],\n",
        "                         outputs=outputs,\n",
        "                         name='model_4')\n",
        "\n",
        "model_4.compile(loss='categorical_crossentropy',\n",
        "                optimizer=tf.keras.optimizers.Adam(),\n",
        "                metrics=['accuracy'])\n",
        "\n",
        "model_4.fit(train_dataset_wad,\n",
        "            epochs=5,\n",
        "            validation_data=val_dataset_wad,\n",
        "            validation_steps=int(0.1*len(val_dataset_wad)),\n",
        "            steps_per_epoch=int(0.1*len(train_dataset_wad)),\n",
        "            callbacks=[create_tensorboard_callback(dir_name='tb_callbacks',\n",
        "                                                   experiment_name='model_4')])"
      ],
      "metadata": {
        "colab": {
          "base_uri": "https://localhost:8080/"
        },
        "id": "zw8lkMtZTDgv",
        "outputId": "884f1f7e-5a0c-485b-9728-5b72db139e73"
      },
      "execution_count": 123,
      "outputs": [
        {
          "output_type": "stream",
          "name": "stdout",
          "text": [
            "Epoch 1/5\n",
            "562/562 [==============================] - 13s 17ms/step - loss: 0.9222 - accuracy: 0.6415 - val_loss: 0.7587 - val_accuracy: 0.7081\n",
            "Epoch 2/5\n",
            "562/562 [==============================] - 8s 15ms/step - loss: 0.7487 - accuracy: 0.7141 - val_loss: 0.6928 - val_accuracy: 0.7384\n",
            "Epoch 3/5\n",
            "562/562 [==============================] - 8s 15ms/step - loss: 0.7211 - accuracy: 0.7258 - val_loss: 0.6700 - val_accuracy: 0.7404\n",
            "Epoch 4/5\n",
            "562/562 [==============================] - 8s 15ms/step - loss: 0.6858 - accuracy: 0.7444 - val_loss: 0.6421 - val_accuracy: 0.7563\n",
            "Epoch 5/5\n",
            "562/562 [==============================] - 8s 15ms/step - loss: 0.6869 - accuracy: 0.7434 - val_loss: 0.6310 - val_accuracy: 0.7626\n"
          ]
        },
        {
          "output_type": "execute_result",
          "data": {
            "text/plain": [
              "<keras.callbacks.History at 0x7fdc9aee4c90>"
            ]
          },
          "metadata": {},
          "execution_count": 123
        }
      ]
    },
    {
      "cell_type": "code",
      "source": [
        "model_4_preds_probs = model_4.predict(val_dataset_wad)\n",
        "model_4_preds = tf.argmax(model_4_preds_probs, axis=1)"
      ],
      "metadata": {
        "id": "5i6Wq7pZruGU"
      },
      "execution_count": 124,
      "outputs": []
    },
    {
      "cell_type": "code",
      "source": [
        "model_4_results = calculate_results(y_true=labels_val,\n",
        "                                    y_pred=model_4_preds)\n",
        "model_4_results"
      ],
      "metadata": {
        "colab": {
          "base_uri": "https://localhost:8080/"
        },
        "id": "FKZJY3txrv0q",
        "outputId": "dcdd10a8-0fef-4449-9a9d-0868b973aa71"
      },
      "execution_count": 125,
      "outputs": [
        {
          "output_type": "execute_result",
          "data": {
            "text/plain": [
              "{'accuracy': 75.64543889845095,\n",
              " 'precision': 0.7536388158047045,\n",
              " 'recall': 0.7564543889845095,\n",
              " 'f1': 0.7517549053412735}"
            ]
          },
          "metadata": {},
          "execution_count": 125
        }
      ]
    },
    {
      "cell_type": "markdown",
      "source": [
        "**5.6 Wide and deep model including sentence position in abstract**"
      ],
      "metadata": {
        "id": "NmD2YdZXu3Sh"
      }
    },
    {
      "cell_type": "markdown",
      "source": [
        "From the exploratory data analysis, we found out that there is a strong correlation between class label and line position. For our final experiment, we will include an additional input layer that provides the model information about the position of the line in the abstract."
      ],
      "metadata": {
        "id": "JMyT3Vf5r0mp"
      }
    },
    {
      "cell_type": "markdown",
      "source": [
        "Given that 90% of the abstracts have less than 17 lines, we will one-hot encode the line_number variable using a depth of 17. This will cover most of the data."
      ],
      "metadata": {
        "id": "1A6GrMnjsLcC"
      }
    },
    {
      "cell_type": "code",
      "source": [
        "train_line_pos = tf.one_hot(train_df['line_number'].to_numpy(), depth=17)\n",
        "val_line_pos = tf.one_hot(val_df['line_number'].to_numpy(), depth=17)\n",
        "test_line_pos = tf.one_hot(test_df['line_number'].to_numpy(), depth=17)"
      ],
      "metadata": {
        "id": "s-mEsQ2thSQM"
      },
      "execution_count": 126,
      "outputs": []
    },
    {
      "cell_type": "code",
      "source": [
        "train_dataset_wad_pos = tf.data.Dataset.from_tensor_slices((train_sentences, char_train_sentences, train_line_pos))\n",
        "train_dataset_wad_pos = tf.data.Dataset.zip((train_dataset_wad_pos, train_dataset_wad_y)).batch(32).prefetch(tf.data.AUTOTUNE)\n",
        "\n",
        "val_dataset_wad_pos = tf.data.Dataset.from_tensor_slices((val_sentences, char_val_sentences, val_line_pos))\n",
        "val_dataset_wad_pos = tf.data.Dataset.zip((val_dataset_wad_pos, val_dataset_wad_y)).batch(32).prefetch(tf.data.AUTOTUNE)\n",
        "\n",
        "test_dataset_wad_pos = tf.data.Dataset.from_tensor_slices((test_sentences, char_test_sentences, test_line_pos))\n",
        "test_dataset_wad_pos = tf.data.Dataset.zip((test_dataset_wad_pos, test_dataset_wad_y)).batch(32).prefetch(tf.data.AUTOTUNE)"
      ],
      "metadata": {
        "id": "ofrJF0TwiiOL"
      },
      "execution_count": 127,
      "outputs": []
    },
    {
      "cell_type": "code",
      "source": [
        "# Token embeddings\n",
        "inputs_sentence = tf.keras.layers.Input(shape=[], dtype=tf.string)\n",
        "sentence_embedding = use(inputs_sentence)\n",
        "x_sentence = tf.keras.layers.Dense(128, activation='relu')(sentence_embedding)\n",
        "sentence_model = tf.keras.Model(inputs_sentence,\n",
        "                                x_sentence)\n",
        "\n",
        "# Character embeddings\n",
        "inputs_char = tf.keras.layers.Input(shape=(1,), dtype=tf.string)\n",
        "char_vector = char_vectorizer(inputs_char)\n",
        "char_embed = char_embedding(char_vector)\n",
        "x_char = tf.keras.layers.Bidirectional(tf.keras.layers.LSTM(25))(char_embed)\n",
        "char_model = tf.keras.Model(inputs_char,\n",
        "                            x_char)\n",
        "\n",
        "# Positional model\n",
        "inputs_positional = tf.keras.layers.Input(shape=(17,), dtype=tf.int32)\n",
        "x = tf.keras.layers.Dense(32, activation='relu')(inputs_positional)\n",
        "positional_model = tf.keras.Model(inputs_positional, x)\n",
        "\n",
        "# Concatenate\n",
        "conc_layer = tf.keras.layers.Concatenate()([sentence_model.output,\n",
        "                                            char_model.output,\n",
        "                                            positional_model.output])\n",
        "# Dropout\n",
        "x_dense = tf.keras.layers.Dense(128, activation='relu')(conc_layer)\n",
        "dropout = tf.keras.layers.Dropout(0.5)(x_dense)\n",
        "\n",
        "# Outputs\n",
        "outputs = tf.keras.layers.Dense(5, activation='softmax')(dropout)\n",
        "\n",
        "model_5 = tf.keras.Model([inputs_sentence, inputs_char, inputs_positional],\n",
        "                         outputs)\n",
        "\n",
        "model_5.compile(loss='categorical_crossentropy',\n",
        "                optimizer=tf.keras.optimizers.Adam(),\n",
        "                metrics=['accuracy'])\n",
        "\n",
        "model_5.fit(train_dataset_wad_pos,\n",
        "            epochs=5,\n",
        "            validation_data=val_dataset_wad_pos,\n",
        "            validation_steps=int(0.1*len(val_dataset_wad_pos)),\n",
        "            steps_per_epoch=int(0.1*len(train_dataset_wad_pos)),\n",
        "            callbacks=[create_tensorboard_callback(dir_name='tb_callbacks',\n",
        "                                                   experiment_name='model_5')])"
      ],
      "metadata": {
        "colab": {
          "base_uri": "https://localhost:8080/"
        },
        "id": "_lF6QGr4i043",
        "outputId": "0edc7a44-7f3d-472f-e48a-7d113ac65063"
      },
      "execution_count": 128,
      "outputs": [
        {
          "output_type": "stream",
          "name": "stdout",
          "text": [
            "Epoch 1/5\n",
            "562/562 [==============================] - 13s 16ms/step - loss: 0.7104 - accuracy: 0.7263 - val_loss: 0.5123 - val_accuracy: 0.8072\n",
            "Epoch 2/5\n",
            "562/562 [==============================] - 8s 15ms/step - loss: 0.5095 - accuracy: 0.8081 - val_loss: 0.4664 - val_accuracy: 0.8235\n",
            "Epoch 3/5\n",
            "562/562 [==============================] - 8s 15ms/step - loss: 0.4831 - accuracy: 0.8106 - val_loss: 0.4514 - val_accuracy: 0.8268\n",
            "Epoch 4/5\n",
            "562/562 [==============================] - 8s 15ms/step - loss: 0.4732 - accuracy: 0.8212 - val_loss: 0.4371 - val_accuracy: 0.8324\n",
            "Epoch 5/5\n",
            "562/562 [==============================] - 8s 15ms/step - loss: 0.4690 - accuracy: 0.8198 - val_loss: 0.4272 - val_accuracy: 0.8361\n"
          ]
        },
        {
          "output_type": "execute_result",
          "data": {
            "text/plain": [
              "<keras.callbacks.History at 0x7fdd633aa2d0>"
            ]
          },
          "metadata": {},
          "execution_count": 128
        }
      ]
    },
    {
      "cell_type": "code",
      "source": [
        "model_5_preds_probs = model_5.predict(val_dataset_wad_pos)\n",
        "model_5_preds = tf.argmax(model_5_preds_probs, axis=1)"
      ],
      "metadata": {
        "id": "ADfXtOaTnHYA"
      },
      "execution_count": 129,
      "outputs": []
    },
    {
      "cell_type": "code",
      "source": [
        "model_5_results = calculate_results(y_true=labels_val,\n",
        "                                    y_pred=model_5_preds)\n",
        "model_5_results"
      ],
      "metadata": {
        "colab": {
          "base_uri": "https://localhost:8080/"
        },
        "id": "ySFdhzB6tJDL",
        "outputId": "d8ffeb14-0927-4fa9-84bd-80d0162f76bc"
      },
      "execution_count": 130,
      "outputs": [
        {
          "output_type": "execute_result",
          "data": {
            "text/plain": [
              "{'accuracy': 83.23513835562028,\n",
              " 'precision': 0.8373981313191525,\n",
              " 'recall': 0.8323513835562029,\n",
              " 'f1': 0.8288195310455271}"
            ]
          },
          "metadata": {},
          "execution_count": 130
        }
      ]
    },
    {
      "cell_type": "markdown",
      "source": [
        "Finally, we'll compare the results of all models to see which one performed better"
      ],
      "metadata": {
        "id": "m4KwAsXWu_st"
      }
    },
    {
      "cell_type": "code",
      "source": [
        "all_model_results = pd.concat([pd.DataFrame(baseline_results, index=['baseline_model']),\n",
        "                    pd.DataFrame(model_1_results, index=['model_1']),\n",
        "                    pd.DataFrame(model_2_results, index=['model_2']),\n",
        "                    pd.DataFrame(model_3_results, index=['model_3']),\n",
        "                    pd.DataFrame(model_4_results, index=['model_4']),\n",
        "                    pd.DataFrame(model_5_results, index=['model_5'])], axis=0)\n",
        "all_model_results"
      ],
      "metadata": {
        "colab": {
          "base_uri": "https://localhost:8080/",
          "height": 238
        },
        "id": "KAHcGV1wvDKM",
        "outputId": "39dd9ed7-3f0d-406f-b01b-9ee96b0520d4"
      },
      "execution_count": 131,
      "outputs": [
        {
          "output_type": "execute_result",
          "data": {
            "text/plain": [
              "                 accuracy  precision    recall        f1\n",
              "baseline_model  72.183238   0.718647  0.721832  0.698925\n",
              "model_1         80.259500   0.802575  0.802595  0.799755\n",
              "model_2         73.566795   0.732337  0.735668  0.730171\n",
              "model_3         62.865749   0.619920  0.628657  0.618995\n",
              "model_4         75.645439   0.753639  0.756454  0.751755\n",
              "model_5         83.235138   0.837398  0.832351  0.828820"
            ],
            "text/html": [
              "\n",
              "  <div id=\"df-666032d1-9d64-41cb-96bb-955769346451\">\n",
              "    <div class=\"colab-df-container\">\n",
              "      <div>\n",
              "<style scoped>\n",
              "    .dataframe tbody tr th:only-of-type {\n",
              "        vertical-align: middle;\n",
              "    }\n",
              "\n",
              "    .dataframe tbody tr th {\n",
              "        vertical-align: top;\n",
              "    }\n",
              "\n",
              "    .dataframe thead th {\n",
              "        text-align: right;\n",
              "    }\n",
              "</style>\n",
              "<table border=\"1\" class=\"dataframe\">\n",
              "  <thead>\n",
              "    <tr style=\"text-align: right;\">\n",
              "      <th></th>\n",
              "      <th>accuracy</th>\n",
              "      <th>precision</th>\n",
              "      <th>recall</th>\n",
              "      <th>f1</th>\n",
              "    </tr>\n",
              "  </thead>\n",
              "  <tbody>\n",
              "    <tr>\n",
              "      <th>baseline_model</th>\n",
              "      <td>72.183238</td>\n",
              "      <td>0.718647</td>\n",
              "      <td>0.721832</td>\n",
              "      <td>0.698925</td>\n",
              "    </tr>\n",
              "    <tr>\n",
              "      <th>model_1</th>\n",
              "      <td>80.259500</td>\n",
              "      <td>0.802575</td>\n",
              "      <td>0.802595</td>\n",
              "      <td>0.799755</td>\n",
              "    </tr>\n",
              "    <tr>\n",
              "      <th>model_2</th>\n",
              "      <td>73.566795</td>\n",
              "      <td>0.732337</td>\n",
              "      <td>0.735668</td>\n",
              "      <td>0.730171</td>\n",
              "    </tr>\n",
              "    <tr>\n",
              "      <th>model_3</th>\n",
              "      <td>62.865749</td>\n",
              "      <td>0.619920</td>\n",
              "      <td>0.628657</td>\n",
              "      <td>0.618995</td>\n",
              "    </tr>\n",
              "    <tr>\n",
              "      <th>model_4</th>\n",
              "      <td>75.645439</td>\n",
              "      <td>0.753639</td>\n",
              "      <td>0.756454</td>\n",
              "      <td>0.751755</td>\n",
              "    </tr>\n",
              "    <tr>\n",
              "      <th>model_5</th>\n",
              "      <td>83.235138</td>\n",
              "      <td>0.837398</td>\n",
              "      <td>0.832351</td>\n",
              "      <td>0.828820</td>\n",
              "    </tr>\n",
              "  </tbody>\n",
              "</table>\n",
              "</div>\n",
              "      <button class=\"colab-df-convert\" onclick=\"convertToInteractive('df-666032d1-9d64-41cb-96bb-955769346451')\"\n",
              "              title=\"Convert this dataframe to an interactive table.\"\n",
              "              style=\"display:none;\">\n",
              "        \n",
              "  <svg xmlns=\"http://www.w3.org/2000/svg\" height=\"24px\"viewBox=\"0 0 24 24\"\n",
              "       width=\"24px\">\n",
              "    <path d=\"M0 0h24v24H0V0z\" fill=\"none\"/>\n",
              "    <path d=\"M18.56 5.44l.94 2.06.94-2.06 2.06-.94-2.06-.94-.94-2.06-.94 2.06-2.06.94zm-11 1L8.5 8.5l.94-2.06 2.06-.94-2.06-.94L8.5 2.5l-.94 2.06-2.06.94zm10 10l.94 2.06.94-2.06 2.06-.94-2.06-.94-.94-2.06-.94 2.06-2.06.94z\"/><path d=\"M17.41 7.96l-1.37-1.37c-.4-.4-.92-.59-1.43-.59-.52 0-1.04.2-1.43.59L10.3 9.45l-7.72 7.72c-.78.78-.78 2.05 0 2.83L4 21.41c.39.39.9.59 1.41.59.51 0 1.02-.2 1.41-.59l7.78-7.78 2.81-2.81c.8-.78.8-2.07 0-2.86zM5.41 20L4 18.59l7.72-7.72 1.47 1.35L5.41 20z\"/>\n",
              "  </svg>\n",
              "      </button>\n",
              "      \n",
              "  <style>\n",
              "    .colab-df-container {\n",
              "      display:flex;\n",
              "      flex-wrap:wrap;\n",
              "      gap: 12px;\n",
              "    }\n",
              "\n",
              "    .colab-df-convert {\n",
              "      background-color: #E8F0FE;\n",
              "      border: none;\n",
              "      border-radius: 50%;\n",
              "      cursor: pointer;\n",
              "      display: none;\n",
              "      fill: #1967D2;\n",
              "      height: 32px;\n",
              "      padding: 0 0 0 0;\n",
              "      width: 32px;\n",
              "    }\n",
              "\n",
              "    .colab-df-convert:hover {\n",
              "      background-color: #E2EBFA;\n",
              "      box-shadow: 0px 1px 2px rgba(60, 64, 67, 0.3), 0px 1px 3px 1px rgba(60, 64, 67, 0.15);\n",
              "      fill: #174EA6;\n",
              "    }\n",
              "\n",
              "    [theme=dark] .colab-df-convert {\n",
              "      background-color: #3B4455;\n",
              "      fill: #D2E3FC;\n",
              "    }\n",
              "\n",
              "    [theme=dark] .colab-df-convert:hover {\n",
              "      background-color: #434B5C;\n",
              "      box-shadow: 0px 1px 3px 1px rgba(0, 0, 0, 0.15);\n",
              "      filter: drop-shadow(0px 1px 2px rgba(0, 0, 0, 0.3));\n",
              "      fill: #FFFFFF;\n",
              "    }\n",
              "  </style>\n",
              "\n",
              "      <script>\n",
              "        const buttonEl =\n",
              "          document.querySelector('#df-666032d1-9d64-41cb-96bb-955769346451 button.colab-df-convert');\n",
              "        buttonEl.style.display =\n",
              "          google.colab.kernel.accessAllowed ? 'block' : 'none';\n",
              "\n",
              "        async function convertToInteractive(key) {\n",
              "          const element = document.querySelector('#df-666032d1-9d64-41cb-96bb-955769346451');\n",
              "          const dataTable =\n",
              "            await google.colab.kernel.invokeFunction('convertToInteractive',\n",
              "                                                     [key], {});\n",
              "          if (!dataTable) return;\n",
              "\n",
              "          const docLinkHtml = 'Like what you see? Visit the ' +\n",
              "            '<a target=\"_blank\" href=https://colab.research.google.com/notebooks/data_table.ipynb>data table notebook</a>'\n",
              "            + ' to learn more about interactive tables.';\n",
              "          element.innerHTML = '';\n",
              "          dataTable['output_type'] = 'display_data';\n",
              "          await google.colab.output.renderOutput(dataTable, element);\n",
              "          const docLink = document.createElement('div');\n",
              "          docLink.innerHTML = docLinkHtml;\n",
              "          element.appendChild(docLink);\n",
              "        }\n",
              "      </script>\n",
              "    </div>\n",
              "  </div>\n",
              "  "
            ]
          },
          "metadata": {},
          "execution_count": 131
        }
      ]
    },
    {
      "cell_type": "markdown",
      "source": [
        "Model 5 is the best performing model, let's continue working on it. The model_1 with a Conv1D layer had a good performance as well. This architecture may convey useful information about the patterns found in the data. To test this, we'll replace the dense layer and the USE of the sentence_model with a Conv1D layer and text vectorization and word embedding layers."
      ],
      "metadata": {
        "id": "sPdEl1ykvISq"
      }
    },
    {
      "cell_type": "code",
      "source": [
        "# Token embeddings\n",
        "inputs_sentence = tf.keras.layers.Input(shape=[], dtype=tf.string)\n",
        "text_vectorization = text_vectorizer(inputs_sentence)\n",
        "word_embedding = embed_layer(text_vectorization)\n",
        "x_sentence = tf.keras.layers.Conv1D(filters=64, kernel_size=5, padding='same',\n",
        "                                    activation='relu')(word_embedding)\n",
        "x_sentence = tf.keras.layers.GlobalAveragePooling1D()(x_sentence)\n",
        "sentence_model = tf.keras.Model(inputs_sentence,\n",
        "                                x_sentence)\n",
        "\n",
        "# Character embeddings\n",
        "inputs_char = tf.keras.layers.Input(shape=(1,), dtype=tf.string)\n",
        "char_vector = char_vectorizer(inputs_char)\n",
        "char_embed = char_embedding(char_vector)\n",
        "x_char = tf.keras.layers.Bidirectional(tf.keras.layers.LSTM(25))(char_embed)\n",
        "char_model = tf.keras.Model(inputs_char,\n",
        "                            x_char)\n",
        "\n",
        "# Positional model\n",
        "inputs_positional = tf.keras.layers.Input(shape=(17,), dtype=tf.int32)\n",
        "x = tf.keras.layers.Dense(32, activation='relu')(inputs_positional)\n",
        "positional_model = tf.keras.Model(inputs_positional, x)\n",
        "\n",
        "# Concatenate\n",
        "conc_layer = tf.keras.layers.Concatenate()([sentence_model.output,\n",
        "                                            char_model.output,\n",
        "                                            positional_model.output])\n",
        "\n",
        "# Dropout\n",
        "x_dense = tf.keras.layers.Dense(128, activation='relu')(conc_layer)\n",
        "dropout = tf.keras.layers.Dropout(0.5)(x_dense)\n",
        "\n",
        "# Outputs\n",
        "outputs = tf.keras.layers.Dense(5, activation='softmax')(dropout)\n",
        "\n",
        "model_6 = tf.keras.Model([inputs_sentence, inputs_char, inputs_positional],\n",
        "                         outputs)\n",
        "\n",
        "model_6.compile(loss='categorical_crossentropy',\n",
        "                optimizer=tf.keras.optimizers.Adam(),\n",
        "                metrics=['accuracy'])\n",
        "\n",
        "model_6.fit(train_dataset_wad_pos,\n",
        "            epochs=5,\n",
        "            validation_data=val_dataset_wad_pos,\n",
        "            validation_steps=int(0.1*len(val_dataset_wad_pos)),\n",
        "            steps_per_epoch=int(0.1*len(train_dataset_wad_pos)),\n",
        "            callbacks=[create_tensorboard_callback(dir_name='tb_callbacks',\n",
        "                                                   experiment_name='model_6')])"
      ],
      "metadata": {
        "colab": {
          "base_uri": "https://localhost:8080/"
        },
        "id": "uMM9sSMlwSEp",
        "outputId": "d4f97eef-8c06-4d4d-ad75-2ded48b22c3e"
      },
      "execution_count": 132,
      "outputs": [
        {
          "output_type": "stream",
          "name": "stdout",
          "text": [
            "Epoch 1/5\n",
            "562/562 [==============================] - 10s 12ms/step - loss: 0.5594 - accuracy: 0.7896 - val_loss: 0.4159 - val_accuracy: 0.8504\n",
            "Epoch 2/5\n",
            "562/562 [==============================] - 6s 11ms/step - loss: 0.3777 - accuracy: 0.8612 - val_loss: 0.3950 - val_accuracy: 0.8554\n",
            "Epoch 3/5\n",
            "562/562 [==============================] - 6s 11ms/step - loss: 0.3533 - accuracy: 0.8674 - val_loss: 0.3852 - val_accuracy: 0.8551\n",
            "Epoch 4/5\n",
            "562/562 [==============================] - 6s 11ms/step - loss: 0.3508 - accuracy: 0.8773 - val_loss: 0.3858 - val_accuracy: 0.8537\n",
            "Epoch 5/5\n",
            "562/562 [==============================] - 6s 11ms/step - loss: 0.3466 - accuracy: 0.8751 - val_loss: 0.3783 - val_accuracy: 0.8610\n"
          ]
        },
        {
          "output_type": "execute_result",
          "data": {
            "text/plain": [
              "<keras.callbacks.History at 0x7fde007c5510>"
            ]
          },
          "metadata": {},
          "execution_count": 132
        }
      ]
    },
    {
      "cell_type": "code",
      "source": [
        "model_6_preds_probs = model_6.predict(val_dataset_wad_pos)\n",
        "model_6_preds = tf.argmax(model_6_preds_probs, axis=1)"
      ],
      "metadata": {
        "id": "C-ETPJB40l2S"
      },
      "execution_count": 133,
      "outputs": []
    },
    {
      "cell_type": "code",
      "source": [
        "model_6_results = calculate_results(y_true=labels_val,\n",
        "                                    y_pred=model_6_preds)\n",
        "model_6_results"
      ],
      "metadata": {
        "colab": {
          "base_uri": "https://localhost:8080/"
        },
        "id": "KAE0P3IJ0lyQ",
        "outputId": "fd242cee-f908-45d6-8b35-7e405d073f96"
      },
      "execution_count": 134,
      "outputs": [
        {
          "output_type": "execute_result",
          "data": {
            "text/plain": [
              "{'accuracy': 85.95591155832119,\n",
              " 'precision': 0.8592801316886681,\n",
              " 'recall': 0.859559115583212,\n",
              " 'f1': 0.858278538671213}"
            ]
          },
          "metadata": {},
          "execution_count": 134
        }
      ]
    },
    {
      "cell_type": "code",
      "source": [
        "all_model_results = pd.concat([all_model_results,\n",
        "                               pd.DataFrame(model_6_results, index=['model_6'])], axis=0)\n",
        "all_model_results"
      ],
      "metadata": {
        "colab": {
          "base_uri": "https://localhost:8080/",
          "height": 269
        },
        "id": "tB_vG1PQ0rpo",
        "outputId": "e24d1658-cd68-41cd-8af5-d7f8c1b3f3c9"
      },
      "execution_count": 135,
      "outputs": [
        {
          "output_type": "execute_result",
          "data": {
            "text/plain": [
              "                 accuracy  precision    recall        f1\n",
              "baseline_model  72.183238   0.718647  0.721832  0.698925\n",
              "model_1         80.259500   0.802575  0.802595  0.799755\n",
              "model_2         73.566795   0.732337  0.735668  0.730171\n",
              "model_3         62.865749   0.619920  0.628657  0.618995\n",
              "model_4         75.645439   0.753639  0.756454  0.751755\n",
              "model_5         83.235138   0.837398  0.832351  0.828820\n",
              "model_6         85.955912   0.859280  0.859559  0.858279"
            ],
            "text/html": [
              "\n",
              "  <div id=\"df-dd415486-72d3-4c83-b042-b1267fba6d6d\">\n",
              "    <div class=\"colab-df-container\">\n",
              "      <div>\n",
              "<style scoped>\n",
              "    .dataframe tbody tr th:only-of-type {\n",
              "        vertical-align: middle;\n",
              "    }\n",
              "\n",
              "    .dataframe tbody tr th {\n",
              "        vertical-align: top;\n",
              "    }\n",
              "\n",
              "    .dataframe thead th {\n",
              "        text-align: right;\n",
              "    }\n",
              "</style>\n",
              "<table border=\"1\" class=\"dataframe\">\n",
              "  <thead>\n",
              "    <tr style=\"text-align: right;\">\n",
              "      <th></th>\n",
              "      <th>accuracy</th>\n",
              "      <th>precision</th>\n",
              "      <th>recall</th>\n",
              "      <th>f1</th>\n",
              "    </tr>\n",
              "  </thead>\n",
              "  <tbody>\n",
              "    <tr>\n",
              "      <th>baseline_model</th>\n",
              "      <td>72.183238</td>\n",
              "      <td>0.718647</td>\n",
              "      <td>0.721832</td>\n",
              "      <td>0.698925</td>\n",
              "    </tr>\n",
              "    <tr>\n",
              "      <th>model_1</th>\n",
              "      <td>80.259500</td>\n",
              "      <td>0.802575</td>\n",
              "      <td>0.802595</td>\n",
              "      <td>0.799755</td>\n",
              "    </tr>\n",
              "    <tr>\n",
              "      <th>model_2</th>\n",
              "      <td>73.566795</td>\n",
              "      <td>0.732337</td>\n",
              "      <td>0.735668</td>\n",
              "      <td>0.730171</td>\n",
              "    </tr>\n",
              "    <tr>\n",
              "      <th>model_3</th>\n",
              "      <td>62.865749</td>\n",
              "      <td>0.619920</td>\n",
              "      <td>0.628657</td>\n",
              "      <td>0.618995</td>\n",
              "    </tr>\n",
              "    <tr>\n",
              "      <th>model_4</th>\n",
              "      <td>75.645439</td>\n",
              "      <td>0.753639</td>\n",
              "      <td>0.756454</td>\n",
              "      <td>0.751755</td>\n",
              "    </tr>\n",
              "    <tr>\n",
              "      <th>model_5</th>\n",
              "      <td>83.235138</td>\n",
              "      <td>0.837398</td>\n",
              "      <td>0.832351</td>\n",
              "      <td>0.828820</td>\n",
              "    </tr>\n",
              "    <tr>\n",
              "      <th>model_6</th>\n",
              "      <td>85.955912</td>\n",
              "      <td>0.859280</td>\n",
              "      <td>0.859559</td>\n",
              "      <td>0.858279</td>\n",
              "    </tr>\n",
              "  </tbody>\n",
              "</table>\n",
              "</div>\n",
              "      <button class=\"colab-df-convert\" onclick=\"convertToInteractive('df-dd415486-72d3-4c83-b042-b1267fba6d6d')\"\n",
              "              title=\"Convert this dataframe to an interactive table.\"\n",
              "              style=\"display:none;\">\n",
              "        \n",
              "  <svg xmlns=\"http://www.w3.org/2000/svg\" height=\"24px\"viewBox=\"0 0 24 24\"\n",
              "       width=\"24px\">\n",
              "    <path d=\"M0 0h24v24H0V0z\" fill=\"none\"/>\n",
              "    <path d=\"M18.56 5.44l.94 2.06.94-2.06 2.06-.94-2.06-.94-.94-2.06-.94 2.06-2.06.94zm-11 1L8.5 8.5l.94-2.06 2.06-.94-2.06-.94L8.5 2.5l-.94 2.06-2.06.94zm10 10l.94 2.06.94-2.06 2.06-.94-2.06-.94-.94-2.06-.94 2.06-2.06.94z\"/><path d=\"M17.41 7.96l-1.37-1.37c-.4-.4-.92-.59-1.43-.59-.52 0-1.04.2-1.43.59L10.3 9.45l-7.72 7.72c-.78.78-.78 2.05 0 2.83L4 21.41c.39.39.9.59 1.41.59.51 0 1.02-.2 1.41-.59l7.78-7.78 2.81-2.81c.8-.78.8-2.07 0-2.86zM5.41 20L4 18.59l7.72-7.72 1.47 1.35L5.41 20z\"/>\n",
              "  </svg>\n",
              "      </button>\n",
              "      \n",
              "  <style>\n",
              "    .colab-df-container {\n",
              "      display:flex;\n",
              "      flex-wrap:wrap;\n",
              "      gap: 12px;\n",
              "    }\n",
              "\n",
              "    .colab-df-convert {\n",
              "      background-color: #E8F0FE;\n",
              "      border: none;\n",
              "      border-radius: 50%;\n",
              "      cursor: pointer;\n",
              "      display: none;\n",
              "      fill: #1967D2;\n",
              "      height: 32px;\n",
              "      padding: 0 0 0 0;\n",
              "      width: 32px;\n",
              "    }\n",
              "\n",
              "    .colab-df-convert:hover {\n",
              "      background-color: #E2EBFA;\n",
              "      box-shadow: 0px 1px 2px rgba(60, 64, 67, 0.3), 0px 1px 3px 1px rgba(60, 64, 67, 0.15);\n",
              "      fill: #174EA6;\n",
              "    }\n",
              "\n",
              "    [theme=dark] .colab-df-convert {\n",
              "      background-color: #3B4455;\n",
              "      fill: #D2E3FC;\n",
              "    }\n",
              "\n",
              "    [theme=dark] .colab-df-convert:hover {\n",
              "      background-color: #434B5C;\n",
              "      box-shadow: 0px 1px 3px 1px rgba(0, 0, 0, 0.15);\n",
              "      filter: drop-shadow(0px 1px 2px rgba(0, 0, 0, 0.3));\n",
              "      fill: #FFFFFF;\n",
              "    }\n",
              "  </style>\n",
              "\n",
              "      <script>\n",
              "        const buttonEl =\n",
              "          document.querySelector('#df-dd415486-72d3-4c83-b042-b1267fba6d6d button.colab-df-convert');\n",
              "        buttonEl.style.display =\n",
              "          google.colab.kernel.accessAllowed ? 'block' : 'none';\n",
              "\n",
              "        async function convertToInteractive(key) {\n",
              "          const element = document.querySelector('#df-dd415486-72d3-4c83-b042-b1267fba6d6d');\n",
              "          const dataTable =\n",
              "            await google.colab.kernel.invokeFunction('convertToInteractive',\n",
              "                                                     [key], {});\n",
              "          if (!dataTable) return;\n",
              "\n",
              "          const docLinkHtml = 'Like what you see? Visit the ' +\n",
              "            '<a target=\"_blank\" href=https://colab.research.google.com/notebooks/data_table.ipynb>data table notebook</a>'\n",
              "            + ' to learn more about interactive tables.';\n",
              "          element.innerHTML = '';\n",
              "          dataTable['output_type'] = 'display_data';\n",
              "          await google.colab.output.renderOutput(dataTable, element);\n",
              "          const docLink = document.createElement('div');\n",
              "          docLink.innerHTML = docLinkHtml;\n",
              "          element.appendChild(docLink);\n",
              "        }\n",
              "      </script>\n",
              "    </div>\n",
              "  </div>\n",
              "  "
            ]
          },
          "metadata": {},
          "execution_count": 135
        }
      ]
    },
    {
      "cell_type": "markdown",
      "source": [
        "Great, the adjustment yielded a significant increase in the model's performance. \n",
        "\n",
        "Given that our dataset is imbalanced, let's see how the model performed classifying each class."
      ],
      "metadata": {
        "id": "gQrUYgFN66dK"
      }
    },
    {
      "cell_type": "code",
      "source": [
        "from sklearn.metrics import ConfusionMatrixDisplay, confusion_matrix\n",
        "cm = confusion_matrix(labels_val, model_6_preds)\n",
        "disp = ConfusionMatrixDisplay(cm, display_labels=label_encoder.classes_)\n",
        "disp.plot(xticks_rotation='vertical');"
      ],
      "metadata": {
        "id": "LYDYPcL2Zxkp",
        "colab": {
          "base_uri": "https://localhost:8080/",
          "height": 341
        },
        "outputId": "1cfb8ecb-1309-4a0d-c3bb-f85298667c9c"
      },
      "execution_count": 136,
      "outputs": [
        {
          "output_type": "display_data",
          "data": {
            "text/plain": [
              "<Figure size 432x288 with 2 Axes>"
            ],
            "image/png": "[encoded data removed]"
          },
          "metadata": {
            "needs_background": "light"
          }
        }
      ]
    },
    {
      "cell_type": "markdown",
      "source": [
        "Take a look at class imbalance"
      ],
      "metadata": {
        "id": "Xn0Yf9lr5xPU"
      }
    },
    {
      "cell_type": "code",
      "source": [
        "train_df['target'].value_counts() / train_df['target'].value_counts().sum()"
      ],
      "metadata": {
        "colab": {
          "base_uri": "https://localhost:8080/"
        },
        "id": "wl8vKDg3DCeW",
        "outputId": "6a2291c0-3e19-4a46-849d-4df6fdc29c07"
      },
      "execution_count": 137,
      "outputs": [
        {
          "output_type": "execute_result",
          "data": {
            "text/plain": [
              "METHODS        0.329666\n",
              "RESULTS        0.321890\n",
              "CONCLUSIONS    0.150900\n",
              "BACKGROUND     0.120679\n",
              "OBJECTIVE      0.076866\n",
              "Name: target, dtype: float64"
            ]
          },
          "metadata": {},
          "execution_count": 137
        }
      ]
    },
    {
      "cell_type": "markdown",
      "source": [
        "The \"OBJECTIVE\" class is the most underrepresented class. It is also the class with the most misclassifications. If we take a look at the confusion matrix, we can see that many times the model predicted \"BACKGROUND\" when it should have predicted \"OBJECTIVE\".\n",
        "\n",
        "Let's try to improve this by assigning class weights to the neural network."
      ],
      "metadata": {
        "id": "OCCmrl0659eC"
      }
    },
    {
      "cell_type": "code",
      "source": [
        "class_weights = train_df['target'].value_counts() / train_df['target'].value_counts().sum()\n",
        "class_weights = 1 / class_weights\n",
        "class_weights /= class_weights.sum()\n",
        "class_weights = class_weights.loc[encoder.categories_[0]]\n",
        "class_weights = {k: v for k, v in zip(range(len(class_weights)), class_weights.values)}\n",
        "class_weights"
      ],
      "metadata": {
        "colab": {
          "base_uri": "https://localhost:8080/"
        },
        "id": "x_bAoDq267oC",
        "outputId": "083995ac-edeb-4817-c8ff-9aa1a02d8dec"
      },
      "execution_count": 138,
      "outputs": [
        {
          "output_type": "execute_result",
          "data": {
            "text/plain": [
              "{0: 0.24326861683112658,\n",
              " 1: 0.19454863213670082,\n",
              " 2: 0.0890518969199516,\n",
              " 3: 0.38192768537393507,\n",
              " 4: 0.091203168738286}"
            ]
          },
          "metadata": {},
          "execution_count": 138
        }
      ]
    },
    {
      "cell_type": "code",
      "source": [
        "# Token embeddings\n",
        "inputs_sentence = tf.keras.layers.Input(shape=[], dtype=tf.string)\n",
        "text_vectorization = text_vectorizer(inputs_sentence)\n",
        "word_embedding = embed_layer(text_vectorization)\n",
        "x_sentence = tf.keras.layers.Conv1D(filters=64, kernel_size=5, padding='same',\n",
        "                                    activation='relu')(word_embedding)\n",
        "x_sentence = tf.keras.layers.GlobalAveragePooling1D()(x_sentence)\n",
        "sentence_model = tf.keras.Model(inputs_sentence,\n",
        "                                x_sentence)\n",
        "\n",
        "# Character embeddings\n",
        "inputs_char = tf.keras.layers.Input(shape=(1,), dtype=tf.string)\n",
        "char_vector = char_vectorizer(inputs_char)\n",
        "char_embed = char_embedding(char_vector)\n",
        "x_char = tf.keras.layers.Bidirectional(tf.keras.layers.LSTM(25))(char_embed)\n",
        "char_model = tf.keras.Model(inputs_char,\n",
        "                            x_char)\n",
        "\n",
        "# Positional model\n",
        "inputs_positional = tf.keras.layers.Input(shape=(17,), dtype=tf.int32)\n",
        "x = tf.keras.layers.Dense(32, activation='relu')(inputs_positional)\n",
        "positional_model = tf.keras.Model(inputs_positional, x)\n",
        "\n",
        "# Concatenate\n",
        "conc_layer = tf.keras.layers.Concatenate()([sentence_model.output,\n",
        "                                            char_model.output,\n",
        "                                            positional_model.output])\n",
        "\n",
        "# Dropout\n",
        "x_dense = tf.keras.layers.Dense(128, activation='relu')(conc_layer)\n",
        "dropout = tf.keras.layers.Dropout(0.5)(x_dense)\n",
        "\n",
        "# Outputs\n",
        "outputs = tf.keras.layers.Dense(5, activation='softmax')(dropout)\n",
        "\n",
        "model_7 = tf.keras.Model([inputs_sentence, inputs_char, inputs_positional],\n",
        "                         outputs)\n",
        "\n",
        "model_7.compile(loss='categorical_crossentropy',\n",
        "                optimizer=tf.keras.optimizers.Adam(),\n",
        "                metrics=['accuracy'])\n",
        "\n",
        "model_7.fit(train_dataset_wad_pos,\n",
        "            epochs=5,\n",
        "            validation_data=val_dataset_wad_pos,\n",
        "            validation_steps=int(0.1*len(val_dataset_wad_pos)),\n",
        "            steps_per_epoch=int(0.1*len(train_dataset_wad_pos)),\n",
        "            callbacks=[create_tensorboard_callback(dir_name='tb_callbacks',\n",
        "                                                   experiment_name='model_7')],\n",
        "            class_weight=class_weights) # assign class weights to tackle the imbalanced problm"
      ],
      "metadata": {
        "colab": {
          "base_uri": "https://localhost:8080/"
        },
        "id": "1b9bUM_M58y5",
        "outputId": "e6bf5671-0d5f-4e85-f192-d4241f0b30b1"
      },
      "execution_count": 139,
      "outputs": [
        {
          "output_type": "stream",
          "name": "stdout",
          "text": [
            "Epoch 1/5\n",
            "562/562 [==============================] - 10s 12ms/step - loss: 0.0897 - accuracy: 0.8070 - val_loss: 0.4454 - val_accuracy: 0.8438\n",
            "Epoch 2/5\n",
            "562/562 [==============================] - 6s 11ms/step - loss: 0.0578 - accuracy: 0.8767 - val_loss: 0.4459 - val_accuracy: 0.8338\n",
            "Epoch 3/5\n",
            "562/562 [==============================] - 6s 11ms/step - loss: 0.0540 - accuracy: 0.8883 - val_loss: 0.4481 - val_accuracy: 0.8324\n",
            "Epoch 4/5\n",
            "562/562 [==============================] - 6s 11ms/step - loss: 0.0505 - accuracy: 0.8931 - val_loss: 0.4213 - val_accuracy: 0.8414\n",
            "Epoch 5/5\n",
            "562/562 [==============================] - 6s 11ms/step - loss: 0.0493 - accuracy: 0.8969 - val_loss: 0.4378 - val_accuracy: 0.8447\n"
          ]
        },
        {
          "output_type": "execute_result",
          "data": {
            "text/plain": [
              "<keras.callbacks.History at 0x7fdcbe0de050>"
            ]
          },
          "metadata": {},
          "execution_count": 139
        }
      ]
    },
    {
      "cell_type": "code",
      "source": [
        "model_7_preds_probs = model_7.predict(val_dataset_wad_pos)\n",
        "model_7_preds = tf.argmax(model_7_preds_probs, axis=1)"
      ],
      "metadata": {
        "id": "lo-rYADVDzi_"
      },
      "execution_count": 140,
      "outputs": []
    },
    {
      "cell_type": "code",
      "source": [
        "model_7_results = calculate_results(y_true=labels_val,\n",
        "                                    y_pred=model_7_preds)\n",
        "model_7_results"
      ],
      "metadata": {
        "colab": {
          "base_uri": "https://localhost:8080/"
        },
        "id": "JQ_XBcEAD1LJ",
        "outputId": "bfeeddcc-3d37-4b18-c798-b2ac1614fdd9"
      },
      "execution_count": 141,
      "outputs": [
        {
          "output_type": "execute_result",
          "data": {
            "text/plain": [
              "{'accuracy': 83.89381702634715,\n",
              " 'precision': 0.8434640508115206,\n",
              " 'recall': 0.8389381702634715,\n",
              " 'f1': 0.8395250397344538}"
            ]
          },
          "metadata": {},
          "execution_count": 141
        }
      ]
    },
    {
      "cell_type": "code",
      "source": [
        "all_model_results = pd.concat([all_model_results,\n",
        "                               pd.DataFrame(model_7_results, index=['model_7'])], axis=0)\n",
        "all_model_results"
      ],
      "metadata": {
        "colab": {
          "base_uri": "https://localhost:8080/",
          "height": 300
        },
        "id": "uvWUK7SKD3rR",
        "outputId": "c0fbaa07-0a08-4627-f2ec-987834508f7c"
      },
      "execution_count": 142,
      "outputs": [
        {
          "output_type": "execute_result",
          "data": {
            "text/plain": [
              "                 accuracy  precision    recall        f1\n",
              "baseline_model  72.183238   0.718647  0.721832  0.698925\n",
              "model_1         80.259500   0.802575  0.802595  0.799755\n",
              "model_2         73.566795   0.732337  0.735668  0.730171\n",
              "model_3         62.865749   0.619920  0.628657  0.618995\n",
              "model_4         75.645439   0.753639  0.756454  0.751755\n",
              "model_5         83.235138   0.837398  0.832351  0.828820\n",
              "model_6         85.955912   0.859280  0.859559  0.858279\n",
              "model_7         83.893817   0.843464  0.838938  0.839525"
            ],
            "text/html": [
              "\n",
              "  <div id=\"df-86e6d9a6-c3d2-4cab-a225-354a4fe01433\">\n",
              "    <div class=\"colab-df-container\">\n",
              "      <div>\n",
              "<style scoped>\n",
              "    .dataframe tbody tr th:only-of-type {\n",
              "        vertical-align: middle;\n",
              "    }\n",
              "\n",
              "    .dataframe tbody tr th {\n",
              "        vertical-align: top;\n",
              "    }\n",
              "\n",
              "    .dataframe thead th {\n",
              "        text-align: right;\n",
              "    }\n",
              "</style>\n",
              "<table border=\"1\" class=\"dataframe\">\n",
              "  <thead>\n",
              "    <tr style=\"text-align: right;\">\n",
              "      <th></th>\n",
              "      <th>accuracy</th>\n",
              "      <th>precision</th>\n",
              "      <th>recall</th>\n",
              "      <th>f1</th>\n",
              "    </tr>\n",
              "  </thead>\n",
              "  <tbody>\n",
              "    <tr>\n",
              "      <th>baseline_model</th>\n",
              "      <td>72.183238</td>\n",
              "      <td>0.718647</td>\n",
              "      <td>0.721832</td>\n",
              "      <td>0.698925</td>\n",
              "    </tr>\n",
              "    <tr>\n",
              "      <th>model_1</th>\n",
              "      <td>80.259500</td>\n",
              "      <td>0.802575</td>\n",
              "      <td>0.802595</td>\n",
              "      <td>0.799755</td>\n",
              "    </tr>\n",
              "    <tr>\n",
              "      <th>model_2</th>\n",
              "      <td>73.566795</td>\n",
              "      <td>0.732337</td>\n",
              "      <td>0.735668</td>\n",
              "      <td>0.730171</td>\n",
              "    </tr>\n",
              "    <tr>\n",
              "      <th>model_3</th>\n",
              "      <td>62.865749</td>\n",
              "      <td>0.619920</td>\n",
              "      <td>0.628657</td>\n",
              "      <td>0.618995</td>\n",
              "    </tr>\n",
              "    <tr>\n",
              "      <th>model_4</th>\n",
              "      <td>75.645439</td>\n",
              "      <td>0.753639</td>\n",
              "      <td>0.756454</td>\n",
              "      <td>0.751755</td>\n",
              "    </tr>\n",
              "    <tr>\n",
              "      <th>model_5</th>\n",
              "      <td>83.235138</td>\n",
              "      <td>0.837398</td>\n",
              "      <td>0.832351</td>\n",
              "      <td>0.828820</td>\n",
              "    </tr>\n",
              "    <tr>\n",
              "      <th>model_6</th>\n",
              "      <td>85.955912</td>\n",
              "      <td>0.859280</td>\n",
              "      <td>0.859559</td>\n",
              "      <td>0.858279</td>\n",
              "    </tr>\n",
              "    <tr>\n",
              "      <th>model_7</th>\n",
              "      <td>83.893817</td>\n",
              "      <td>0.843464</td>\n",
              "      <td>0.838938</td>\n",
              "      <td>0.839525</td>\n",
              "    </tr>\n",
              "  </tbody>\n",
              "</table>\n",
              "</div>\n",
              "      <button class=\"colab-df-convert\" onclick=\"convertToInteractive('df-86e6d9a6-c3d2-4cab-a225-354a4fe01433')\"\n",
              "              title=\"Convert this dataframe to an interactive table.\"\n",
              "              style=\"display:none;\">\n",
              "        \n",
              "  <svg xmlns=\"http://www.w3.org/2000/svg\" height=\"24px\"viewBox=\"0 0 24 24\"\n",
              "       width=\"24px\">\n",
              "    <path d=\"M0 0h24v24H0V0z\" fill=\"none\"/>\n",
              "    <path d=\"M18.56 5.44l.94 2.06.94-2.06 2.06-.94-2.06-.94-.94-2.06-.94 2.06-2.06.94zm-11 1L8.5 8.5l.94-2.06 2.06-.94-2.06-.94L8.5 2.5l-.94 2.06-2.06.94zm10 10l.94 2.06.94-2.06 2.06-.94-2.06-.94-.94-2.06-.94 2.06-2.06.94z\"/><path d=\"M17.41 7.96l-1.37-1.37c-.4-.4-.92-.59-1.43-.59-.52 0-1.04.2-1.43.59L10.3 9.45l-7.72 7.72c-.78.78-.78 2.05 0 2.83L4 21.41c.39.39.9.59 1.41.59.51 0 1.02-.2 1.41-.59l7.78-7.78 2.81-2.81c.8-.78.8-2.07 0-2.86zM5.41 20L4 18.59l7.72-7.72 1.47 1.35L5.41 20z\"/>\n",
              "  </svg>\n",
              "      </button>\n",
              "      \n",
              "  <style>\n",
              "    .colab-df-container {\n",
              "      display:flex;\n",
              "      flex-wrap:wrap;\n",
              "      gap: 12px;\n",
              "    }\n",
              "\n",
              "    .colab-df-convert {\n",
              "      background-color: #E8F0FE;\n",
              "      border: none;\n",
              "      border-radius: 50%;\n",
              "      cursor: pointer;\n",
              "      display: none;\n",
              "      fill: #1967D2;\n",
              "      height: 32px;\n",
              "      padding: 0 0 0 0;\n",
              "      width: 32px;\n",
              "    }\n",
              "\n",
              "    .colab-df-convert:hover {\n",
              "      background-color: #E2EBFA;\n",
              "      box-shadow: 0px 1px 2px rgba(60, 64, 67, 0.3), 0px 1px 3px 1px rgba(60, 64, 67, 0.15);\n",
              "      fill: #174EA6;\n",
              "    }\n",
              "\n",
              "    [theme=dark] .colab-df-convert {\n",
              "      background-color: #3B4455;\n",
              "      fill: #D2E3FC;\n",
              "    }\n",
              "\n",
              "    [theme=dark] .colab-df-convert:hover {\n",
              "      background-color: #434B5C;\n",
              "      box-shadow: 0px 1px 3px 1px rgba(0, 0, 0, 0.15);\n",
              "      filter: drop-shadow(0px 1px 2px rgba(0, 0, 0, 0.3));\n",
              "      fill: #FFFFFF;\n",
              "    }\n",
              "  </style>\n",
              "\n",
              "      <script>\n",
              "        const buttonEl =\n",
              "          document.querySelector('#df-86e6d9a6-c3d2-4cab-a225-354a4fe01433 button.colab-df-convert');\n",
              "        buttonEl.style.display =\n",
              "          google.colab.kernel.accessAllowed ? 'block' : 'none';\n",
              "\n",
              "        async function convertToInteractive(key) {\n",
              "          const element = document.querySelector('#df-86e6d9a6-c3d2-4cab-a225-354a4fe01433');\n",
              "          const dataTable =\n",
              "            await google.colab.kernel.invokeFunction('convertToInteractive',\n",
              "                                                     [key], {});\n",
              "          if (!dataTable) return;\n",
              "\n",
              "          const docLinkHtml = 'Like what you see? Visit the ' +\n",
              "            '<a target=\"_blank\" href=https://colab.research.google.com/notebooks/data_table.ipynb>data table notebook</a>'\n",
              "            + ' to learn more about interactive tables.';\n",
              "          element.innerHTML = '';\n",
              "          dataTable['output_type'] = 'display_data';\n",
              "          await google.colab.output.renderOutput(dataTable, element);\n",
              "          const docLink = document.createElement('div');\n",
              "          docLink.innerHTML = docLinkHtml;\n",
              "          element.appendChild(docLink);\n",
              "        }\n",
              "      </script>\n",
              "    </div>\n",
              "  </div>\n",
              "  "
            ]
          },
          "metadata": {},
          "execution_count": 142
        }
      ]
    },
    {
      "cell_type": "code",
      "source": [
        "from sklearn.metrics import ConfusionMatrixDisplay, confusion_matrix\n",
        "cm_ovs = confusion_matrix(labels_val, model_7_preds)\n",
        "disp_ovs = ConfusionMatrixDisplay(cm_ovs, display_labels=label_encoder.classes_)\n",
        "disp.plot(xticks_rotation='vertical')\n",
        "disp_ovs.plot(xticks_rotation='vertical');"
      ],
      "metadata": {
        "colab": {
          "base_uri": "https://localhost:8080/",
          "height": 665
        },
        "id": "T6LTWXpAEF9z",
        "outputId": "84a9a74d-6163-4d61-9b3f-5318dc9a8554"
      },
      "execution_count": 151,
      "outputs": [
        {
          "output_type": "display_data",
          "data": {
            "text/plain": [
              "<Figure size 432x288 with 2 Axes>"
            ],
            "image/png": "[encoded data removed]"
          },
          "metadata": {
            "needs_background": "light"
          }
        },
        {
          "output_type": "display_data",
          "data": {
            "text/plain": [
              "<Figure size 432x288 with 2 Axes>"
            ],
            "image/png": "[encoded data removed]"
          },
          "metadata": {
            "needs_background": "light"
          }
        }
      ]
    },
    {
      "cell_type": "markdown",
      "source": [
        "Even though the OBJECTIVE class had a higher precision, other classes such as RESULTS and BACKGROUND were negatively impacted. For further experiments, we can try oversampling the classes."
      ],
      "metadata": {
        "id": "kMULPyDpFWo_"
      }
    }
  ],
  "metadata": {
    "colab": {
      "provenance": [],
      "collapsed_sections": [],
      "machine_shape": "hm"
    },
    "kernelspec": {
      "display_name": "Python 3",
      "name": "python3"
    },
    "language_info": {
      "name": "python"
    },
    "accelerator": "GPU",
    "gpuClass": "standard"
  },
  "nbformat": 4,
  "nbformat_minor": 0
}